{
 "cells": [
  {
   "cell_type": "markdown",
   "id": "bb08688220941b02",
   "metadata": {
    "collapsed": false
   },
   "source": [
    "# Imports\n",
    "---"
   ]
  },
  {
   "cell_type": "code",
   "execution_count": 1,
   "id": "f724c2898314d50b",
   "metadata": {
    "ExecuteTime": {
     "end_time": "2023-10-25T06:56:36.671552500Z",
     "start_time": "2023-10-25T06:56:36.665025200Z"
    },
    "collapsed": false
   },
   "outputs": [],
   "source": [
    "import pandas as pd\n",
    "import numpy as np\n",
    "import math"
   ]
  },
  {
   "cell_type": "markdown",
   "id": "2479f5d060f9caa7",
   "metadata": {
    "collapsed": false
   },
   "source": [
    "# Import Dataset\n",
    "---\n",
    "**Column Description (Data Source: [Smoking and Drinking Dataset with body signal on Kaggle](https://www.kaggle.com/datasets/sooyoungher/smoking-drinking-dataset/data))**\n"
   ]
  },
  {
   "cell_type": "code",
   "execution_count": 2,
   "id": "ef7abcc13a93e2c1",
   "metadata": {
    "ExecuteTime": {
     "end_time": "2023-10-25T07:16:58.532735600Z",
     "start_time": "2023-10-25T07:16:58.510507400Z"
    },
    "collapsed": false
   },
   "outputs": [],
   "source": [
    "def percentage_missing_values(data):\n",
    "    total_cells = np.product(data.shape)\n",
    "\n",
    "    missing_cells = data.isnull().sum().sum()\n",
    "\n",
    "    percentage_missing = (missing_cells / total_cells) * 100\n",
    "    return f\"Percentage of missing values: {percentage_missing:.2f}%\"\n"
   ]
  },
  {
   "cell_type": "code",
   "execution_count": 3,
   "id": "5bfeb1e3f35d16c",
   "metadata": {
    "ExecuteTime": {
     "end_time": "2023-10-25T07:16:59.893380100Z",
     "start_time": "2023-10-25T07:16:58.852453600Z"
    },
    "collapsed": false
   },
   "outputs": [],
   "source": [
    "df = pd.read_csv('Data/sd.csv')\n",
    "df_copy = df.copy()\n",
    "df_copy.head()\n",
    "df.to_csv('outpu.csv', index=False)"
   ]
  },
  {
   "cell_type": "code",
   "execution_count": 4,
   "id": "7117fe644664da0d",
   "metadata": {
    "ExecuteTime": {
     "end_time": "2023-10-25T07:17:00.052620200Z",
     "start_time": "2023-10-25T07:16:59.893380100Z"
    },
    "collapsed": false
   },
   "outputs": [
    {
     "data": {
      "text/plain": [
       "'Percentage of missing values: 0.00%'"
      ]
     },
     "execution_count": 4,
     "metadata": {},
     "output_type": "execute_result"
    }
   ],
   "source": [
    "percentage_missing_values(df_copy)"
   ]
  },
  {
   "cell_type": "markdown",
   "id": "6d519c23b80ce6ad",
   "metadata": {
    "collapsed": false
   },
   "source": [
    "# Create Variable Mappings\n",
    "---"
   ]
  },
  {
   "cell_type": "code",
   "execution_count": 5,
   "id": "62c16bd516d66e89",
   "metadata": {
    "ExecuteTime": {
     "end_time": "2023-10-25T07:17:00.667384700Z",
     "start_time": "2023-10-25T07:17:00.647299Z"
    },
    "collapsed": false
   },
   "outputs": [
    {
     "data": {
      "text/plain": [
       "hear_left\n",
       "1.0    960124\n",
       "2.0     31222\n",
       "Name: count, dtype: int64"
      ]
     },
     "execution_count": 5,
     "metadata": {},
     "output_type": "execute_result"
    }
   ],
   "source": [
    "df_copy['hear_left'].value_counts()"
   ]
  },
  {
   "cell_type": "code",
   "execution_count": 6,
   "id": "65045f220b47faf7",
   "metadata": {
    "ExecuteTime": {
     "end_time": "2023-10-25T07:17:02.234359600Z",
     "start_time": "2023-10-25T07:17:02.047912500Z"
    },
    "collapsed": false
   },
   "outputs": [],
   "source": [
    "df_copy['SMK_stat_type_cd'] = df_copy['SMK_stat_type_cd'].map({1: 'N', 2: 'Q', 3: 'S'}) # Smoking state, 1(never) = N , 2(used to smoke but quit) = Q, 3(still smoke) = S\n",
    "df_copy['hear_left'] = df_copy['hear_left'].map({1: 'Normal', 2: 'Abnormal'})\n",
    "df_copy['hear_right'] = df_copy['hear_right'].map({1: 'Normal', 2: 'Abnormal'})\n",
    "df_copy['urine_protein'] = df_copy['urine_protein'].map({1: '-', 2: '+/-', 3: '+1', 4: '+2', 5: '+3', 6: '+4'})"
   ]
  },
  {
   "cell_type": "code",
   "execution_count": 7,
   "id": "ada96391d295c6d5",
   "metadata": {
    "ExecuteTime": {
     "end_time": "2023-10-25T07:17:03.036107200Z",
     "start_time": "2023-10-25T07:17:02.943800500Z"
    },
    "collapsed": false
   },
   "outputs": [
    {
     "name": "stdout",
     "output_type": "stream",
     "text": [
      "Index(['sex', 'hear_left', 'hear_right', 'urine_protein', 'SMK_stat_type_cd',\n",
      "       'DRK_YN'],\n",
      "      dtype='object')\n"
     ]
    }
   ],
   "source": [
    "print(df_copy.select_dtypes(include=[object,bool]).columns)"
   ]
  },
  {
   "cell_type": "markdown",
   "id": "c3aceb90fa0a77b5",
   "metadata": {
    "collapsed": false
   },
   "source": [
    "# Encoding \n",
    "---"
   ]
  },
  {
   "cell_type": "code",
   "execution_count": 8,
   "id": "ace26354f26f6d54",
   "metadata": {
    "ExecuteTime": {
     "end_time": "2023-10-25T07:17:05.191814Z",
     "start_time": "2023-10-25T07:17:05.172391400Z"
    },
    "collapsed": false
   },
   "outputs": [],
   "source": [
    "def one_hot_encode_dataframe(df,columns):\n",
    "    copy = df.copy()\n",
    "    ohe = pd.get_dummies(df_copy, columns=columns)\n",
    "    return ohe"
   ]
  },
  {
   "cell_type": "code",
   "execution_count": 9,
   "id": "dccb15878175d72a",
   "metadata": {
    "ExecuteTime": {
     "end_time": "2023-10-25T07:17:27.292219600Z",
     "start_time": "2023-10-25T07:17:26.946181200Z"
    },
    "collapsed": false
   },
   "outputs": [],
   "source": [
    "columns = ['sex','hear_left','hear_right','urine_protein'] # We can then re-use the one hot encode method depending if we want to predict smoker or drinker\n",
    "ohe_df = one_hot_encode_dataframe(df_copy, columns)"
   ]
  },
  {
   "cell_type": "code",
   "execution_count": 10,
   "id": "86b6752fe6caf205",
   "metadata": {
    "ExecuteTime": {
     "end_time": "2023-10-25T07:17:27.786037900Z",
     "start_time": "2023-10-25T07:17:27.754327600Z"
    },
    "collapsed": false
   },
   "outputs": [
    {
     "data": {
      "text/html": [
       "<div>\n",
       "<style scoped>\n",
       "    .dataframe tbody tr th:only-of-type {\n",
       "        vertical-align: middle;\n",
       "    }\n",
       "\n",
       "    .dataframe tbody tr th {\n",
       "        vertical-align: top;\n",
       "    }\n",
       "\n",
       "    .dataframe thead th {\n",
       "        text-align: right;\n",
       "    }\n",
       "</style>\n",
       "<table border=\"1\" class=\"dataframe\">\n",
       "  <thead>\n",
       "    <tr style=\"text-align: right;\">\n",
       "      <th></th>\n",
       "      <th>age</th>\n",
       "      <th>height</th>\n",
       "      <th>weight</th>\n",
       "      <th>waistline</th>\n",
       "      <th>sight_left</th>\n",
       "      <th>sight_right</th>\n",
       "      <th>SBP</th>\n",
       "      <th>DBP</th>\n",
       "      <th>BLDS</th>\n",
       "      <th>tot_chole</th>\n",
       "      <th>...</th>\n",
       "      <th>hear_left_Abnormal</th>\n",
       "      <th>hear_left_Normal</th>\n",
       "      <th>hear_right_Abnormal</th>\n",
       "      <th>hear_right_Normal</th>\n",
       "      <th>urine_protein_+/-</th>\n",
       "      <th>urine_protein_+1</th>\n",
       "      <th>urine_protein_+2</th>\n",
       "      <th>urine_protein_+3</th>\n",
       "      <th>urine_protein_+4</th>\n",
       "      <th>urine_protein_-</th>\n",
       "    </tr>\n",
       "  </thead>\n",
       "  <tbody>\n",
       "    <tr>\n",
       "      <th>0</th>\n",
       "      <td>35</td>\n",
       "      <td>170</td>\n",
       "      <td>75</td>\n",
       "      <td>90.0</td>\n",
       "      <td>1.0</td>\n",
       "      <td>1.0</td>\n",
       "      <td>120.0</td>\n",
       "      <td>80.0</td>\n",
       "      <td>99.0</td>\n",
       "      <td>193.0</td>\n",
       "      <td>...</td>\n",
       "      <td>False</td>\n",
       "      <td>True</td>\n",
       "      <td>False</td>\n",
       "      <td>True</td>\n",
       "      <td>False</td>\n",
       "      <td>False</td>\n",
       "      <td>False</td>\n",
       "      <td>False</td>\n",
       "      <td>False</td>\n",
       "      <td>True</td>\n",
       "    </tr>\n",
       "    <tr>\n",
       "      <th>1</th>\n",
       "      <td>30</td>\n",
       "      <td>180</td>\n",
       "      <td>80</td>\n",
       "      <td>89.0</td>\n",
       "      <td>0.9</td>\n",
       "      <td>1.2</td>\n",
       "      <td>130.0</td>\n",
       "      <td>82.0</td>\n",
       "      <td>106.0</td>\n",
       "      <td>228.0</td>\n",
       "      <td>...</td>\n",
       "      <td>False</td>\n",
       "      <td>True</td>\n",
       "      <td>False</td>\n",
       "      <td>True</td>\n",
       "      <td>False</td>\n",
       "      <td>False</td>\n",
       "      <td>False</td>\n",
       "      <td>False</td>\n",
       "      <td>False</td>\n",
       "      <td>True</td>\n",
       "    </tr>\n",
       "    <tr>\n",
       "      <th>2</th>\n",
       "      <td>40</td>\n",
       "      <td>165</td>\n",
       "      <td>75</td>\n",
       "      <td>91.0</td>\n",
       "      <td>1.2</td>\n",
       "      <td>1.5</td>\n",
       "      <td>120.0</td>\n",
       "      <td>70.0</td>\n",
       "      <td>98.0</td>\n",
       "      <td>136.0</td>\n",
       "      <td>...</td>\n",
       "      <td>False</td>\n",
       "      <td>True</td>\n",
       "      <td>False</td>\n",
       "      <td>True</td>\n",
       "      <td>False</td>\n",
       "      <td>False</td>\n",
       "      <td>False</td>\n",
       "      <td>False</td>\n",
       "      <td>False</td>\n",
       "      <td>True</td>\n",
       "    </tr>\n",
       "    <tr>\n",
       "      <th>3</th>\n",
       "      <td>50</td>\n",
       "      <td>175</td>\n",
       "      <td>80</td>\n",
       "      <td>91.0</td>\n",
       "      <td>1.5</td>\n",
       "      <td>1.2</td>\n",
       "      <td>145.0</td>\n",
       "      <td>87.0</td>\n",
       "      <td>95.0</td>\n",
       "      <td>201.0</td>\n",
       "      <td>...</td>\n",
       "      <td>False</td>\n",
       "      <td>True</td>\n",
       "      <td>False</td>\n",
       "      <td>True</td>\n",
       "      <td>False</td>\n",
       "      <td>False</td>\n",
       "      <td>False</td>\n",
       "      <td>False</td>\n",
       "      <td>False</td>\n",
       "      <td>True</td>\n",
       "    </tr>\n",
       "    <tr>\n",
       "      <th>4</th>\n",
       "      <td>50</td>\n",
       "      <td>165</td>\n",
       "      <td>60</td>\n",
       "      <td>80.0</td>\n",
       "      <td>1.0</td>\n",
       "      <td>1.2</td>\n",
       "      <td>138.0</td>\n",
       "      <td>82.0</td>\n",
       "      <td>101.0</td>\n",
       "      <td>199.0</td>\n",
       "      <td>...</td>\n",
       "      <td>False</td>\n",
       "      <td>True</td>\n",
       "      <td>False</td>\n",
       "      <td>True</td>\n",
       "      <td>False</td>\n",
       "      <td>False</td>\n",
       "      <td>False</td>\n",
       "      <td>False</td>\n",
       "      <td>False</td>\n",
       "      <td>True</td>\n",
       "    </tr>\n",
       "  </tbody>\n",
       "</table>\n",
       "<p>5 rows × 32 columns</p>\n",
       "</div>"
      ],
      "text/plain": [
       "   age  height  weight  waistline  sight_left  sight_right    SBP   DBP  \\\n",
       "0   35     170      75       90.0         1.0          1.0  120.0  80.0   \n",
       "1   30     180      80       89.0         0.9          1.2  130.0  82.0   \n",
       "2   40     165      75       91.0         1.2          1.5  120.0  70.0   \n",
       "3   50     175      80       91.0         1.5          1.2  145.0  87.0   \n",
       "4   50     165      60       80.0         1.0          1.2  138.0  82.0   \n",
       "\n",
       "    BLDS  tot_chole  ...  hear_left_Abnormal  hear_left_Normal  \\\n",
       "0   99.0      193.0  ...               False              True   \n",
       "1  106.0      228.0  ...               False              True   \n",
       "2   98.0      136.0  ...               False              True   \n",
       "3   95.0      201.0  ...               False              True   \n",
       "4  101.0      199.0  ...               False              True   \n",
       "\n",
       "   hear_right_Abnormal  hear_right_Normal  urine_protein_+/-  \\\n",
       "0                False               True              False   \n",
       "1                False               True              False   \n",
       "2                False               True              False   \n",
       "3                False               True              False   \n",
       "4                False               True              False   \n",
       "\n",
       "   urine_protein_+1  urine_protein_+2  urine_protein_+3 urine_protein_+4  \\\n",
       "0             False             False             False            False   \n",
       "1             False             False             False            False   \n",
       "2             False             False             False            False   \n",
       "3             False             False             False            False   \n",
       "4             False             False             False            False   \n",
       "\n",
       "  urine_protein_-  \n",
       "0            True  \n",
       "1            True  \n",
       "2            True  \n",
       "3            True  \n",
       "4            True  \n",
       "\n",
       "[5 rows x 32 columns]"
      ]
     },
     "execution_count": 10,
     "metadata": {},
     "output_type": "execute_result"
    }
   ],
   "source": [
    "ohe_df.head()"
   ]
  },
  {
   "cell_type": "code",
   "execution_count": 13,
   "id": "411c5c40",
   "metadata": {},
   "outputs": [
    {
     "name": "stdout",
     "output_type": "stream",
     "text": [
      "<class 'pandas.core.frame.DataFrame'>\n",
      "RangeIndex: 991346 entries, 0 to 991345\n",
      "Data columns (total 32 columns):\n",
      " #   Column               Non-Null Count   Dtype  \n",
      "---  ------               --------------   -----  \n",
      " 0   age                  991346 non-null  int64  \n",
      " 1   height               991346 non-null  int64  \n",
      " 2   weight               991346 non-null  int64  \n",
      " 3   waistline            991346 non-null  float64\n",
      " 4   sight_left           991346 non-null  float64\n",
      " 5   sight_right          991346 non-null  float64\n",
      " 6   SBP                  991346 non-null  float64\n",
      " 7   DBP                  991346 non-null  float64\n",
      " 8   BLDS                 991346 non-null  float64\n",
      " 9   tot_chole            991346 non-null  float64\n",
      " 10  HDL_chole            991346 non-null  float64\n",
      " 11  LDL_chole            991346 non-null  float64\n",
      " 12  triglyceride         991346 non-null  float64\n",
      " 13  hemoglobin           991346 non-null  float64\n",
      " 14  serum_creatinine     991346 non-null  float64\n",
      " 15  SGOT_AST             991346 non-null  float64\n",
      " 16  SGOT_ALT             991346 non-null  float64\n",
      " 17  gamma_GTP            991346 non-null  float64\n",
      " 18  SMK_stat_type_cd     991346 non-null  object \n",
      " 19  DRK_YN               991346 non-null  object \n",
      " 20  sex_Female           991346 non-null  bool   \n",
      " 21  sex_Male             991346 non-null  bool   \n",
      " 22  hear_left_Abnormal   991346 non-null  bool   \n",
      " 23  hear_left_Normal     991346 non-null  bool   \n",
      " 24  hear_right_Abnormal  991346 non-null  bool   \n",
      " 25  hear_right_Normal    991346 non-null  bool   \n",
      " 26  urine_protein_+/-    991346 non-null  bool   \n",
      " 27  urine_protein_+1     991346 non-null  bool   \n",
      " 28  urine_protein_+2     991346 non-null  bool   \n",
      " 29  urine_protein_+3     991346 non-null  bool   \n",
      " 30  urine_protein_+4     991346 non-null  bool   \n",
      " 31  urine_protein_-      991346 non-null  bool   \n",
      "dtypes: bool(12), float64(15), int64(3), object(2)\n",
      "memory usage: 162.6+ MB\n"
     ]
    }
   ],
   "source": [
    "ohe_df.info()"
   ]
  },
  {
   "cell_type": "markdown",
   "id": "b74b8f0b",
   "metadata": {},
   "source": [
    "### Modeling with One Hot Encoding"
   ]
  },
  {
   "cell_type": "code",
   "execution_count": 11,
   "id": "27aa8ccb",
   "metadata": {},
   "outputs": [],
   "source": [
    "import random\n",
    "from sklearn.metrics import mean_squared_error, r2_score\n",
    "import statsmodels.api as sm\n",
    "from sklearn.impute import SimpleImputer\n",
    "from sklearn.model_selection import train_test_split\n",
    "from sklearn.linear_model import LinearRegression\n",
    "from sklearn.neighbors import KNeighborsClassifier, KNeighborsRegressor\n",
    "from sklearn.linear_model import LogisticRegression\n",
    "from sklearn.compose import make_column_transformer\n",
    "from sklearn.pipeline import make_pipeline\n",
    "from sklearn.preprocessing import OneHotEncoder, StandardScaler\n",
    "from sklearn.metrics import accuracy_score, precision_score, f1_score, recall_score, r2_score, mean_squared_error\n",
    "import matplotlib.pyplot as plt\n",
    "import seaborn \n",
    "%matplotlib inline"
   ]
  },
  {
   "cell_type": "markdown",
   "id": "7ef0ff04",
   "metadata": {},
   "source": [
    "Linear Regression"
   ]
  },
  {
   "cell_type": "code",
   "execution_count": 12,
   "id": "067bea91",
   "metadata": {},
   "outputs": [
    {
     "data": {
      "text/html": [
       "<style>#sk-container-id-1 {color: black;}#sk-container-id-1 pre{padding: 0;}#sk-container-id-1 div.sk-toggleable {background-color: white;}#sk-container-id-1 label.sk-toggleable__label {cursor: pointer;display: block;width: 100%;margin-bottom: 0;padding: 0.3em;box-sizing: border-box;text-align: center;}#sk-container-id-1 label.sk-toggleable__label-arrow:before {content: \"▸\";float: left;margin-right: 0.25em;color: #696969;}#sk-container-id-1 label.sk-toggleable__label-arrow:hover:before {color: black;}#sk-container-id-1 div.sk-estimator:hover label.sk-toggleable__label-arrow:before {color: black;}#sk-container-id-1 div.sk-toggleable__content {max-height: 0;max-width: 0;overflow: hidden;text-align: left;background-color: #f0f8ff;}#sk-container-id-1 div.sk-toggleable__content pre {margin: 0.2em;color: black;border-radius: 0.25em;background-color: #f0f8ff;}#sk-container-id-1 input.sk-toggleable__control:checked~div.sk-toggleable__content {max-height: 200px;max-width: 100%;overflow: auto;}#sk-container-id-1 input.sk-toggleable__control:checked~label.sk-toggleable__label-arrow:before {content: \"▾\";}#sk-container-id-1 div.sk-estimator input.sk-toggleable__control:checked~label.sk-toggleable__label {background-color: #d4ebff;}#sk-container-id-1 div.sk-label input.sk-toggleable__control:checked~label.sk-toggleable__label {background-color: #d4ebff;}#sk-container-id-1 input.sk-hidden--visually {border: 0;clip: rect(1px 1px 1px 1px);clip: rect(1px, 1px, 1px, 1px);height: 1px;margin: -1px;overflow: hidden;padding: 0;position: absolute;width: 1px;}#sk-container-id-1 div.sk-estimator {font-family: monospace;background-color: #f0f8ff;border: 1px dotted black;border-radius: 0.25em;box-sizing: border-box;margin-bottom: 0.5em;}#sk-container-id-1 div.sk-estimator:hover {background-color: #d4ebff;}#sk-container-id-1 div.sk-parallel-item::after {content: \"\";width: 100%;border-bottom: 1px solid gray;flex-grow: 1;}#sk-container-id-1 div.sk-label:hover label.sk-toggleable__label {background-color: #d4ebff;}#sk-container-id-1 div.sk-serial::before {content: \"\";position: absolute;border-left: 1px solid gray;box-sizing: border-box;top: 0;bottom: 0;left: 50%;z-index: 0;}#sk-container-id-1 div.sk-serial {display: flex;flex-direction: column;align-items: center;background-color: white;padding-right: 0.2em;padding-left: 0.2em;position: relative;}#sk-container-id-1 div.sk-item {position: relative;z-index: 1;}#sk-container-id-1 div.sk-parallel {display: flex;align-items: stretch;justify-content: center;background-color: white;position: relative;}#sk-container-id-1 div.sk-item::before, #sk-container-id-1 div.sk-parallel-item::before {content: \"\";position: absolute;border-left: 1px solid gray;box-sizing: border-box;top: 0;bottom: 0;left: 50%;z-index: -1;}#sk-container-id-1 div.sk-parallel-item {display: flex;flex-direction: column;z-index: 1;position: relative;background-color: white;}#sk-container-id-1 div.sk-parallel-item:first-child::after {align-self: flex-end;width: 50%;}#sk-container-id-1 div.sk-parallel-item:last-child::after {align-self: flex-start;width: 50%;}#sk-container-id-1 div.sk-parallel-item:only-child::after {width: 0;}#sk-container-id-1 div.sk-dashed-wrapped {border: 1px dashed gray;margin: 0 0.4em 0.5em 0.4em;box-sizing: border-box;padding-bottom: 0.4em;background-color: white;}#sk-container-id-1 div.sk-label label {font-family: monospace;font-weight: bold;display: inline-block;line-height: 1.2em;}#sk-container-id-1 div.sk-label-container {text-align: center;}#sk-container-id-1 div.sk-container {/* jupyter's `normalize.less` sets `[hidden] { display: none; }` but bootstrap.min.css set `[hidden] { display: none !important; }` so we also need the `!important` here to be able to override the default hidden behavior on the sphinx rendered scikit-learn.org. See: https://github.com/scikit-learn/scikit-learn/issues/21755 */display: inline-block !important;position: relative;}#sk-container-id-1 div.sk-text-repr-fallback {display: none;}</style><div id=\"sk-container-id-1\" class=\"sk-top-container\"><div class=\"sk-text-repr-fallback\"><pre>Pipeline(steps=[(&#x27;columntransformer&#x27;,\n",
       "                 ColumnTransformer(transformers=[(&#x27;onehotencoder&#x27;,\n",
       "                                                  OneHotEncoder(),\n",
       "                                                         SMK_stat_type_cd DRK_YN\n",
       "0                     N      Y\n",
       "1                     S      N\n",
       "2                     N      N\n",
       "3                     N      N\n",
       "4                     N      N\n",
       "...                 ...    ...\n",
       "991341                N      N\n",
       "991342                N      N\n",
       "991343                S      Y\n",
       "991344                N      N\n",
       "991345                S      Y\n",
       "\n",
       "[991346 rows x 2 columns]),\n",
       "                                                 (&#x27;standardscaler&#x27;,\n",
       "                                                  StandardScaler(),\n",
       "                                                          age  height  weight  waistline  sight_left  sight_right    SBP   DBP  \\\n",
       "0        35     170      75       90.0         1.0          1.0  120.0  80.0   \n",
       "1        30     180      80       89.0         0.9          1.2  130.0  82...\n",
       "...                  ...               ...               ...   \n",
       "991341             False             False             False   \n",
       "991342             False             False             False   \n",
       "991343             False             False             False   \n",
       "991344             False             False             False   \n",
       "991345             False             False             False   \n",
       "\n",
       "        urine_protein_+4  urine_protein_-  \n",
       "0                  False             True  \n",
       "1                  False             True  \n",
       "2                  False             True  \n",
       "3                  False             True  \n",
       "4                  False             True  \n",
       "...                  ...              ...  \n",
       "991341             False             True  \n",
       "991342             False             True  \n",
       "991343             False             True  \n",
       "991344             False             True  \n",
       "991345             False             True  \n",
       "\n",
       "[991346 rows x 30 columns])])),\n",
       "                (&#x27;linearregression&#x27;, LinearRegression())])</pre><b>In a Jupyter environment, please rerun this cell to show the HTML representation or trust the notebook. <br />On GitHub, the HTML representation is unable to render, please try loading this page with nbviewer.org.</b></div><div class=\"sk-container\" hidden><div class=\"sk-item sk-dashed-wrapped\"><div class=\"sk-label-container\"><div class=\"sk-label sk-toggleable\"><input class=\"sk-toggleable__control sk-hidden--visually\" id=\"sk-estimator-id-1\" type=\"checkbox\" ><label for=\"sk-estimator-id-1\" class=\"sk-toggleable__label sk-toggleable__label-arrow\">Pipeline</label><div class=\"sk-toggleable__content\"><pre>Pipeline(steps=[(&#x27;columntransformer&#x27;,\n",
       "                 ColumnTransformer(transformers=[(&#x27;onehotencoder&#x27;,\n",
       "                                                  OneHotEncoder(),\n",
       "                                                         SMK_stat_type_cd DRK_YN\n",
       "0                     N      Y\n",
       "1                     S      N\n",
       "2                     N      N\n",
       "3                     N      N\n",
       "4                     N      N\n",
       "...                 ...    ...\n",
       "991341                N      N\n",
       "991342                N      N\n",
       "991343                S      Y\n",
       "991344                N      N\n",
       "991345                S      Y\n",
       "\n",
       "[991346 rows x 2 columns]),\n",
       "                                                 (&#x27;standardscaler&#x27;,\n",
       "                                                  StandardScaler(),\n",
       "                                                          age  height  weight  waistline  sight_left  sight_right    SBP   DBP  \\\n",
       "0        35     170      75       90.0         1.0          1.0  120.0  80.0   \n",
       "1        30     180      80       89.0         0.9          1.2  130.0  82...\n",
       "...                  ...               ...               ...   \n",
       "991341             False             False             False   \n",
       "991342             False             False             False   \n",
       "991343             False             False             False   \n",
       "991344             False             False             False   \n",
       "991345             False             False             False   \n",
       "\n",
       "        urine_protein_+4  urine_protein_-  \n",
       "0                  False             True  \n",
       "1                  False             True  \n",
       "2                  False             True  \n",
       "3                  False             True  \n",
       "4                  False             True  \n",
       "...                  ...              ...  \n",
       "991341             False             True  \n",
       "991342             False             True  \n",
       "991343             False             True  \n",
       "991344             False             True  \n",
       "991345             False             True  \n",
       "\n",
       "[991346 rows x 30 columns])])),\n",
       "                (&#x27;linearregression&#x27;, LinearRegression())])</pre></div></div></div><div class=\"sk-serial\"><div class=\"sk-item sk-dashed-wrapped\"><div class=\"sk-label-container\"><div class=\"sk-label sk-toggleable\"><input class=\"sk-toggleable__control sk-hidden--visually\" id=\"sk-estimator-id-2\" type=\"checkbox\" ><label for=\"sk-estimator-id-2\" class=\"sk-toggleable__label sk-toggleable__label-arrow\">columntransformer: ColumnTransformer</label><div class=\"sk-toggleable__content\"><pre>ColumnTransformer(transformers=[(&#x27;onehotencoder&#x27;, OneHotEncoder(),\n",
       "                                        SMK_stat_type_cd DRK_YN\n",
       "0                     N      Y\n",
       "1                     S      N\n",
       "2                     N      N\n",
       "3                     N      N\n",
       "4                     N      N\n",
       "...                 ...    ...\n",
       "991341                N      N\n",
       "991342                N      N\n",
       "991343                S      Y\n",
       "991344                N      N\n",
       "991345                S      Y\n",
       "\n",
       "[991346 rows x 2 columns]),\n",
       "                                (&#x27;standardscaler&#x27;, StandardScaler(),\n",
       "                                         age  height  weight  waistline  sight_left  sight_right    SBP   DBP  \\\n",
       "0        35     170      75       90.0         1.0          1.0  120.0  80.0   \n",
       "1        30     180      80       89.0         0.9          1.2  130.0  82.0   \n",
       "2        40     165      75       91.0         1.2          1.5  120.0  70.0   \n",
       "3        50     175      80...\n",
       "2                  False             False             False   \n",
       "3                  False             False             False   \n",
       "4                  False             False             False   \n",
       "...                  ...               ...               ...   \n",
       "991341             False             False             False   \n",
       "991342             False             False             False   \n",
       "991343             False             False             False   \n",
       "991344             False             False             False   \n",
       "991345             False             False             False   \n",
       "\n",
       "        urine_protein_+4  urine_protein_-  \n",
       "0                  False             True  \n",
       "1                  False             True  \n",
       "2                  False             True  \n",
       "3                  False             True  \n",
       "4                  False             True  \n",
       "...                  ...              ...  \n",
       "991341             False             True  \n",
       "991342             False             True  \n",
       "991343             False             True  \n",
       "991344             False             True  \n",
       "991345             False             True  \n",
       "\n",
       "[991346 rows x 30 columns])])</pre></div></div></div><div class=\"sk-parallel\"><div class=\"sk-parallel-item\"><div class=\"sk-item\"><div class=\"sk-label-container\"><div class=\"sk-label sk-toggleable\"><input class=\"sk-toggleable__control sk-hidden--visually\" id=\"sk-estimator-id-3\" type=\"checkbox\" ><label for=\"sk-estimator-id-3\" class=\"sk-toggleable__label sk-toggleable__label-arrow\">onehotencoder</label><div class=\"sk-toggleable__content\"><pre>       SMK_stat_type_cd DRK_YN\n",
       "0                     N      Y\n",
       "1                     S      N\n",
       "2                     N      N\n",
       "3                     N      N\n",
       "4                     N      N\n",
       "...                 ...    ...\n",
       "991341                N      N\n",
       "991342                N      N\n",
       "991343                S      Y\n",
       "991344                N      N\n",
       "991345                S      Y\n",
       "\n",
       "[991346 rows x 2 columns]</pre></div></div></div><div class=\"sk-serial\"><div class=\"sk-item\"><div class=\"sk-estimator sk-toggleable\"><input class=\"sk-toggleable__control sk-hidden--visually\" id=\"sk-estimator-id-4\" type=\"checkbox\" ><label for=\"sk-estimator-id-4\" class=\"sk-toggleable__label sk-toggleable__label-arrow\">OneHotEncoder</label><div class=\"sk-toggleable__content\"><pre>OneHotEncoder()</pre></div></div></div></div></div></div><div class=\"sk-parallel-item\"><div class=\"sk-item\"><div class=\"sk-label-container\"><div class=\"sk-label sk-toggleable\"><input class=\"sk-toggleable__control sk-hidden--visually\" id=\"sk-estimator-id-5\" type=\"checkbox\" ><label for=\"sk-estimator-id-5\" class=\"sk-toggleable__label sk-toggleable__label-arrow\">standardscaler</label><div class=\"sk-toggleable__content\"><pre>        age  height  weight  waistline  sight_left  sight_right    SBP   DBP  \\\n",
       "0        35     170      75       90.0         1.0          1.0  120.0  80.0   \n",
       "1        30     180      80       89.0         0.9          1.2  130.0  82.0   \n",
       "2        40     165      75       91.0         1.2          1.5  120.0  70.0   \n",
       "3        50     175      80       91.0         1.5          1.2  145.0  87.0   \n",
       "4        50     165      60       80.0         1.0          1.2  138.0  82.0   \n",
       "...     ...     ...     ...        ...         ...          ...    ...   ...   \n",
       "991341   45     175      80       92.1         1.5          1.5  114.0  80.0   \n",
       "991342   35     170      75       86.0         1.0          1.5  119.0  83.0   \n",
       "991343   40     155      50       68.0         1.0          0.7  110.0  70.0   \n",
       "991344   25     175      60       72.0         1.5          1.0  119.0  74.0   \n",
       "991345   50     160      70       90.5         1.0          1.5  133.0  79.0   \n",
       "\n",
       "         BLDS  tot_chole  ...  hear_left_Abnormal  hear_left_Normal  \\\n",
       "0        99.0      193.0  ...               False              True   \n",
       "1       106.0      228.0  ...               False              True   \n",
       "2        98.0      136.0  ...               False              True   \n",
       "3        95.0      201.0  ...               False              True   \n",
       "4       101.0      199.0  ...               False              True   \n",
       "...       ...        ...  ...                 ...               ...   \n",
       "991341   88.0      198.0  ...               False              True   \n",
       "991342   83.0      133.0  ...               False              True   \n",
       "991343   90.0      205.0  ...               False              True   \n",
       "991344   69.0      122.0  ...               False              True   \n",
       "991345   99.0      225.0  ...               False              True   \n",
       "\n",
       "        hear_right_Abnormal  hear_right_Normal  urine_protein_+/-  \\\n",
       "0                     False               True              False   \n",
       "1                     False               True              False   \n",
       "2                     False               True              False   \n",
       "3                     False               True              False   \n",
       "4                     False               True              False   \n",
       "...                     ...                ...                ...   \n",
       "991341                False               True              False   \n",
       "991342                False               True              False   \n",
       "991343                False               True              False   \n",
       "991344                False               True              False   \n",
       "991345                False               True              False   \n",
       "\n",
       "        urine_protein_+1  urine_protein_+2  urine_protein_+3  \\\n",
       "0                  False             False             False   \n",
       "1                  False             False             False   \n",
       "2                  False             False             False   \n",
       "3                  False             False             False   \n",
       "4                  False             False             False   \n",
       "...                  ...               ...               ...   \n",
       "991341             False             False             False   \n",
       "991342             False             False             False   \n",
       "991343             False             False             False   \n",
       "991344             False             False             False   \n",
       "991345             False             False             False   \n",
       "\n",
       "        urine_protein_+4  urine_protein_-  \n",
       "0                  False             True  \n",
       "1                  False             True  \n",
       "2                  False             True  \n",
       "3                  False             True  \n",
       "4                  False             True  \n",
       "...                  ...              ...  \n",
       "991341             False             True  \n",
       "991342             False             True  \n",
       "991343             False             True  \n",
       "991344             False             True  \n",
       "991345             False             True  \n",
       "\n",
       "[991346 rows x 30 columns]</pre></div></div></div><div class=\"sk-serial\"><div class=\"sk-item\"><div class=\"sk-estimator sk-toggleable\"><input class=\"sk-toggleable__control sk-hidden--visually\" id=\"sk-estimator-id-6\" type=\"checkbox\" ><label for=\"sk-estimator-id-6\" class=\"sk-toggleable__label sk-toggleable__label-arrow\">StandardScaler</label><div class=\"sk-toggleable__content\"><pre>StandardScaler()</pre></div></div></div></div></div></div></div></div><div class=\"sk-item\"><div class=\"sk-estimator sk-toggleable\"><input class=\"sk-toggleable__control sk-hidden--visually\" id=\"sk-estimator-id-7\" type=\"checkbox\" ><label for=\"sk-estimator-id-7\" class=\"sk-toggleable__label sk-toggleable__label-arrow\">LinearRegression</label><div class=\"sk-toggleable__content\"><pre>LinearRegression()</pre></div></div></div></div></div></div></div>"
      ],
      "text/plain": [
       "Pipeline(steps=[('columntransformer',\n",
       "                 ColumnTransformer(transformers=[('onehotencoder',\n",
       "                                                  OneHotEncoder(),\n",
       "                                                         SMK_stat_type_cd DRK_YN\n",
       "0                     N      Y\n",
       "1                     S      N\n",
       "2                     N      N\n",
       "3                     N      N\n",
       "4                     N      N\n",
       "...                 ...    ...\n",
       "991341                N      N\n",
       "991342                N      N\n",
       "991343                S      Y\n",
       "991344                N      N\n",
       "991345                S      Y\n",
       "\n",
       "[991346 rows x 2 columns]),\n",
       "                                                 ('standardscaler',\n",
       "                                                  StandardScaler(),\n",
       "                                                          age  height  weight  waistline  sight_left  sight_right    SBP   DBP  \\\n",
       "0        35     170      75       90.0         1.0          1.0  120.0  80.0   \n",
       "1        30     180      80       89.0         0.9          1.2  130.0  82...\n",
       "...                  ...               ...               ...   \n",
       "991341             False             False             False   \n",
       "991342             False             False             False   \n",
       "991343             False             False             False   \n",
       "991344             False             False             False   \n",
       "991345             False             False             False   \n",
       "\n",
       "        urine_protein_+4  urine_protein_-  \n",
       "0                  False             True  \n",
       "1                  False             True  \n",
       "2                  False             True  \n",
       "3                  False             True  \n",
       "4                  False             True  \n",
       "...                  ...              ...  \n",
       "991341             False             True  \n",
       "991342             False             True  \n",
       "991343             False             True  \n",
       "991344             False             True  \n",
       "991345             False             True  \n",
       "\n",
       "[991346 rows x 30 columns])])),\n",
       "                ('linearregression', LinearRegression())])"
      ]
     },
     "execution_count": 12,
     "metadata": {},
     "output_type": "execute_result"
    }
   ],
   "source": [
    "categ = ohe_df.select_dtypes(include=[\"object\", \"category\"])\n",
    "num = ohe_df.select_dtypes(exclude=[\"object\", \"category\"])\n",
    "\n",
    "\n",
    "prep = make_column_transformer( \n",
    "        (OneHotEncoder(), categ),(\n",
    "        StandardScaler(),num))\n",
    "\n",
    "l  = LinearRegression()\n",
    "pipe = make_pipeline(prep,l)\n",
    "pipe"
   ]
  },
  {
   "cell_type": "code",
   "execution_count": 18,
   "id": "aa00ca91",
   "metadata": {},
   "outputs": [
    {
     "ename": "ValueError",
     "evalue": "No valid specification of the columns. Only a scalar, list or slice of all integers or all strings, or boolean mask is allowed",
     "output_type": "error",
     "traceback": [
      "\u001b[0;31m---------------------------------------------------------------------------\u001b[0m",
      "\u001b[0;31mValueError\u001b[0m                                Traceback (most recent call last)",
      "\u001b[1;32m/Users/selinkuruca/Documents/GitHub/PEM-Group-Project/Group-Project.ipynb Cell 20\u001b[0m line \u001b[0;36m7\n\u001b[1;32m      <a href='vscode-notebook-cell:/Users/selinkuruca/Documents/GitHub/PEM-Group-Project/Group-Project.ipynb#X21sZmlsZQ%3D%3D?line=1'>2</a>\u001b[0m y \u001b[39m=\u001b[39m ohe_df[\u001b[39m'\u001b[39m\u001b[39mage\u001b[39m\u001b[39m'\u001b[39m] \n\u001b[1;32m      <a href='vscode-notebook-cell:/Users/selinkuruca/Documents/GitHub/PEM-Group-Project/Group-Project.ipynb#X21sZmlsZQ%3D%3D?line=3'>4</a>\u001b[0m X_train, X_test, y_train, y_test \u001b[39m=\u001b[39m train_test_split(X,y, test_size\u001b[39m=\u001b[39m\u001b[39m0.3\u001b[39m, random_state\u001b[39m=\u001b[39m\u001b[39m42\u001b[39m)\n\u001b[0;32m----> <a href='vscode-notebook-cell:/Users/selinkuruca/Documents/GitHub/PEM-Group-Project/Group-Project.ipynb#X21sZmlsZQ%3D%3D?line=6'>7</a>\u001b[0m pipe\u001b[39m.\u001b[39mfit(X_train, y_train)\n\u001b[1;32m      <a href='vscode-notebook-cell:/Users/selinkuruca/Documents/GitHub/PEM-Group-Project/Group-Project.ipynb#X21sZmlsZQ%3D%3D?line=8'>9</a>\u001b[0m linear_predictions \u001b[39m=\u001b[39m pipe\u001b[39m.\u001b[39mpredict(X_test) \n\u001b[1;32m     <a href='vscode-notebook-cell:/Users/selinkuruca/Documents/GitHub/PEM-Group-Project/Group-Project.ipynb#X21sZmlsZQ%3D%3D?line=11'>12</a>\u001b[0m linear_mse \u001b[39m=\u001b[39m mean_squared_error(y_test, linear_predictions) \n",
      "File \u001b[0;32m~/anaconda3/lib/python3.11/site-packages/sklearn/base.py:1151\u001b[0m, in \u001b[0;36m_fit_context.<locals>.decorator.<locals>.wrapper\u001b[0;34m(estimator, *args, **kwargs)\u001b[0m\n\u001b[1;32m   1144\u001b[0m     estimator\u001b[39m.\u001b[39m_validate_params()\n\u001b[1;32m   1146\u001b[0m \u001b[39mwith\u001b[39;00m config_context(\n\u001b[1;32m   1147\u001b[0m     skip_parameter_validation\u001b[39m=\u001b[39m(\n\u001b[1;32m   1148\u001b[0m         prefer_skip_nested_validation \u001b[39mor\u001b[39;00m global_skip_validation\n\u001b[1;32m   1149\u001b[0m     )\n\u001b[1;32m   1150\u001b[0m ):\n\u001b[0;32m-> 1151\u001b[0m     \u001b[39mreturn\u001b[39;00m fit_method(estimator, \u001b[39m*\u001b[39margs, \u001b[39m*\u001b[39m\u001b[39m*\u001b[39mkwargs)\n",
      "File \u001b[0;32m~/anaconda3/lib/python3.11/site-packages/sklearn/pipeline.py:416\u001b[0m, in \u001b[0;36mPipeline.fit\u001b[0;34m(self, X, y, **fit_params)\u001b[0m\n\u001b[1;32m    390\u001b[0m \u001b[39m\u001b[39m\u001b[39m\"\"\"Fit the model.\u001b[39;00m\n\u001b[1;32m    391\u001b[0m \n\u001b[1;32m    392\u001b[0m \u001b[39mFit all the transformers one after the other and transform the\u001b[39;00m\n\u001b[0;32m   (...)\u001b[0m\n\u001b[1;32m    413\u001b[0m \u001b[39m    Pipeline with fitted steps.\u001b[39;00m\n\u001b[1;32m    414\u001b[0m \u001b[39m\"\"\"\u001b[39;00m\n\u001b[1;32m    415\u001b[0m fit_params_steps \u001b[39m=\u001b[39m \u001b[39mself\u001b[39m\u001b[39m.\u001b[39m_check_fit_params(\u001b[39m*\u001b[39m\u001b[39m*\u001b[39mfit_params)\n\u001b[0;32m--> 416\u001b[0m Xt \u001b[39m=\u001b[39m \u001b[39mself\u001b[39m\u001b[39m.\u001b[39m_fit(X, y, \u001b[39m*\u001b[39m\u001b[39m*\u001b[39mfit_params_steps)\n\u001b[1;32m    417\u001b[0m \u001b[39mwith\u001b[39;00m _print_elapsed_time(\u001b[39m\"\u001b[39m\u001b[39mPipeline\u001b[39m\u001b[39m\"\u001b[39m, \u001b[39mself\u001b[39m\u001b[39m.\u001b[39m_log_message(\u001b[39mlen\u001b[39m(\u001b[39mself\u001b[39m\u001b[39m.\u001b[39msteps) \u001b[39m-\u001b[39m \u001b[39m1\u001b[39m)):\n\u001b[1;32m    418\u001b[0m     \u001b[39mif\u001b[39;00m \u001b[39mself\u001b[39m\u001b[39m.\u001b[39m_final_estimator \u001b[39m!=\u001b[39m \u001b[39m\"\u001b[39m\u001b[39mpassthrough\u001b[39m\u001b[39m\"\u001b[39m:\n",
      "File \u001b[0;32m~/anaconda3/lib/python3.11/site-packages/sklearn/pipeline.py:370\u001b[0m, in \u001b[0;36mPipeline._fit\u001b[0;34m(self, X, y, **fit_params_steps)\u001b[0m\n\u001b[1;32m    368\u001b[0m     cloned_transformer \u001b[39m=\u001b[39m clone(transformer)\n\u001b[1;32m    369\u001b[0m \u001b[39m# Fit or load from cache the current transformer\u001b[39;00m\n\u001b[0;32m--> 370\u001b[0m X, fitted_transformer \u001b[39m=\u001b[39m fit_transform_one_cached(\n\u001b[1;32m    371\u001b[0m     cloned_transformer,\n\u001b[1;32m    372\u001b[0m     X,\n\u001b[1;32m    373\u001b[0m     y,\n\u001b[1;32m    374\u001b[0m     \u001b[39mNone\u001b[39;00m,\n\u001b[1;32m    375\u001b[0m     message_clsname\u001b[39m=\u001b[39m\u001b[39m\"\u001b[39m\u001b[39mPipeline\u001b[39m\u001b[39m\"\u001b[39m,\n\u001b[1;32m    376\u001b[0m     message\u001b[39m=\u001b[39m\u001b[39mself\u001b[39m\u001b[39m.\u001b[39m_log_message(step_idx),\n\u001b[1;32m    377\u001b[0m     \u001b[39m*\u001b[39m\u001b[39m*\u001b[39mfit_params_steps[name],\n\u001b[1;32m    378\u001b[0m )\n\u001b[1;32m    379\u001b[0m \u001b[39m# Replace the transformer of the step with the fitted\u001b[39;00m\n\u001b[1;32m    380\u001b[0m \u001b[39m# transformer. This is necessary when loading the transformer\u001b[39;00m\n\u001b[1;32m    381\u001b[0m \u001b[39m# from the cache.\u001b[39;00m\n\u001b[1;32m    382\u001b[0m \u001b[39mself\u001b[39m\u001b[39m.\u001b[39msteps[step_idx] \u001b[39m=\u001b[39m (name, fitted_transformer)\n",
      "File \u001b[0;32m~/anaconda3/lib/python3.11/site-packages/joblib/memory.py:349\u001b[0m, in \u001b[0;36mNotMemorizedFunc.__call__\u001b[0;34m(self, *args, **kwargs)\u001b[0m\n\u001b[1;32m    348\u001b[0m \u001b[39mdef\u001b[39;00m \u001b[39m__call__\u001b[39m(\u001b[39mself\u001b[39m, \u001b[39m*\u001b[39margs, \u001b[39m*\u001b[39m\u001b[39m*\u001b[39mkwargs):\n\u001b[0;32m--> 349\u001b[0m     \u001b[39mreturn\u001b[39;00m \u001b[39mself\u001b[39m\u001b[39m.\u001b[39mfunc(\u001b[39m*\u001b[39margs, \u001b[39m*\u001b[39m\u001b[39m*\u001b[39mkwargs)\n",
      "File \u001b[0;32m~/anaconda3/lib/python3.11/site-packages/sklearn/pipeline.py:950\u001b[0m, in \u001b[0;36m_fit_transform_one\u001b[0;34m(transformer, X, y, weight, message_clsname, message, **fit_params)\u001b[0m\n\u001b[1;32m    948\u001b[0m \u001b[39mwith\u001b[39;00m _print_elapsed_time(message_clsname, message):\n\u001b[1;32m    949\u001b[0m     \u001b[39mif\u001b[39;00m \u001b[39mhasattr\u001b[39m(transformer, \u001b[39m\"\u001b[39m\u001b[39mfit_transform\u001b[39m\u001b[39m\"\u001b[39m):\n\u001b[0;32m--> 950\u001b[0m         res \u001b[39m=\u001b[39m transformer\u001b[39m.\u001b[39mfit_transform(X, y, \u001b[39m*\u001b[39m\u001b[39m*\u001b[39mfit_params)\n\u001b[1;32m    951\u001b[0m     \u001b[39melse\u001b[39;00m:\n\u001b[1;32m    952\u001b[0m         res \u001b[39m=\u001b[39m transformer\u001b[39m.\u001b[39mfit(X, y, \u001b[39m*\u001b[39m\u001b[39m*\u001b[39mfit_params)\u001b[39m.\u001b[39mtransform(X)\n",
      "File \u001b[0;32m~/anaconda3/lib/python3.11/site-packages/sklearn/utils/_set_output.py:140\u001b[0m, in \u001b[0;36m_wrap_method_output.<locals>.wrapped\u001b[0;34m(self, X, *args, **kwargs)\u001b[0m\n\u001b[1;32m    138\u001b[0m \u001b[39m@wraps\u001b[39m(f)\n\u001b[1;32m    139\u001b[0m \u001b[39mdef\u001b[39;00m \u001b[39mwrapped\u001b[39m(\u001b[39mself\u001b[39m, X, \u001b[39m*\u001b[39margs, \u001b[39m*\u001b[39m\u001b[39m*\u001b[39mkwargs):\n\u001b[0;32m--> 140\u001b[0m     data_to_wrap \u001b[39m=\u001b[39m f(\u001b[39mself\u001b[39m, X, \u001b[39m*\u001b[39margs, \u001b[39m*\u001b[39m\u001b[39m*\u001b[39mkwargs)\n\u001b[1;32m    141\u001b[0m     \u001b[39mif\u001b[39;00m \u001b[39misinstance\u001b[39m(data_to_wrap, \u001b[39mtuple\u001b[39m):\n\u001b[1;32m    142\u001b[0m         \u001b[39m# only wrap the first output for cross decomposition\u001b[39;00m\n\u001b[1;32m    143\u001b[0m         return_tuple \u001b[39m=\u001b[39m (\n\u001b[1;32m    144\u001b[0m             _wrap_data_with_container(method, data_to_wrap[\u001b[39m0\u001b[39m], X, \u001b[39mself\u001b[39m),\n\u001b[1;32m    145\u001b[0m             \u001b[39m*\u001b[39mdata_to_wrap[\u001b[39m1\u001b[39m:],\n\u001b[1;32m    146\u001b[0m         )\n",
      "File \u001b[0;32m~/anaconda3/lib/python3.11/site-packages/sklearn/base.py:1151\u001b[0m, in \u001b[0;36m_fit_context.<locals>.decorator.<locals>.wrapper\u001b[0;34m(estimator, *args, **kwargs)\u001b[0m\n\u001b[1;32m   1144\u001b[0m     estimator\u001b[39m.\u001b[39m_validate_params()\n\u001b[1;32m   1146\u001b[0m \u001b[39mwith\u001b[39;00m config_context(\n\u001b[1;32m   1147\u001b[0m     skip_parameter_validation\u001b[39m=\u001b[39m(\n\u001b[1;32m   1148\u001b[0m         prefer_skip_nested_validation \u001b[39mor\u001b[39;00m global_skip_validation\n\u001b[1;32m   1149\u001b[0m     )\n\u001b[1;32m   1150\u001b[0m ):\n\u001b[0;32m-> 1151\u001b[0m     \u001b[39mreturn\u001b[39;00m fit_method(estimator, \u001b[39m*\u001b[39margs, \u001b[39m*\u001b[39m\u001b[39m*\u001b[39mkwargs)\n",
      "File \u001b[0;32m~/anaconda3/lib/python3.11/site-packages/sklearn/compose/_column_transformer.py:740\u001b[0m, in \u001b[0;36mColumnTransformer.fit_transform\u001b[0;34m(self, X, y)\u001b[0m\n\u001b[1;32m    738\u001b[0m \u001b[39mself\u001b[39m\u001b[39m.\u001b[39m_check_n_features(X, reset\u001b[39m=\u001b[39m\u001b[39mTrue\u001b[39;00m)\n\u001b[1;32m    739\u001b[0m \u001b[39mself\u001b[39m\u001b[39m.\u001b[39m_validate_transformers()\n\u001b[0;32m--> 740\u001b[0m \u001b[39mself\u001b[39m\u001b[39m.\u001b[39m_validate_column_callables(X)\n\u001b[1;32m    741\u001b[0m \u001b[39mself\u001b[39m\u001b[39m.\u001b[39m_validate_remainder(X)\n\u001b[1;32m    743\u001b[0m result \u001b[39m=\u001b[39m \u001b[39mself\u001b[39m\u001b[39m.\u001b[39m_fit_transform(X, y, _fit_transform_one)\n",
      "File \u001b[0;32m~/anaconda3/lib/python3.11/site-packages/sklearn/compose/_column_transformer.py:448\u001b[0m, in \u001b[0;36mColumnTransformer._validate_column_callables\u001b[0;34m(self, X)\u001b[0m\n\u001b[1;32m    446\u001b[0m         columns \u001b[39m=\u001b[39m columns(X)\n\u001b[1;32m    447\u001b[0m     all_columns\u001b[39m.\u001b[39mappend(columns)\n\u001b[0;32m--> 448\u001b[0m     transformer_to_input_indices[name] \u001b[39m=\u001b[39m _get_column_indices(X, columns)\n\u001b[1;32m    450\u001b[0m \u001b[39mself\u001b[39m\u001b[39m.\u001b[39m_columns \u001b[39m=\u001b[39m all_columns\n\u001b[1;32m    451\u001b[0m \u001b[39mself\u001b[39m\u001b[39m.\u001b[39m_transformer_to_input_indices \u001b[39m=\u001b[39m transformer_to_input_indices\n",
      "File \u001b[0;32m~/anaconda3/lib/python3.11/site-packages/sklearn/utils/__init__.py:405\u001b[0m, in \u001b[0;36m_get_column_indices\u001b[0;34m(X, key)\u001b[0m\n\u001b[1;32m    398\u001b[0m \u001b[39m\u001b[39m\u001b[39m\"\"\"Get feature column indices for input data X and key.\u001b[39;00m\n\u001b[1;32m    399\u001b[0m \n\u001b[1;32m    400\u001b[0m \u001b[39mFor accepted values of `key`, see the docstring of\u001b[39;00m\n\u001b[1;32m    401\u001b[0m \u001b[39m:func:`_safe_indexing_column`.\u001b[39;00m\n\u001b[1;32m    402\u001b[0m \u001b[39m\"\"\"\u001b[39;00m\n\u001b[1;32m    403\u001b[0m n_columns \u001b[39m=\u001b[39m X\u001b[39m.\u001b[39mshape[\u001b[39m1\u001b[39m]\n\u001b[0;32m--> 405\u001b[0m key_dtype \u001b[39m=\u001b[39m _determine_key_type(key)\n\u001b[1;32m    407\u001b[0m \u001b[39mif\u001b[39;00m \u001b[39misinstance\u001b[39m(key, (\u001b[39mlist\u001b[39m, \u001b[39mtuple\u001b[39m)) \u001b[39mand\u001b[39;00m \u001b[39mnot\u001b[39;00m key:\n\u001b[1;32m    408\u001b[0m     \u001b[39m# we get an empty list\u001b[39;00m\n\u001b[1;32m    409\u001b[0m     \u001b[39mreturn\u001b[39;00m []\n",
      "File \u001b[0;32m~/anaconda3/lib/python3.11/site-packages/sklearn/utils/__init__.py:281\u001b[0m, in \u001b[0;36m_determine_key_type\u001b[0;34m(key, accept_slice)\u001b[0m\n\u001b[1;32m    279\u001b[0m     \u001b[39mexcept\u001b[39;00m \u001b[39mKeyError\u001b[39;00m:\n\u001b[1;32m    280\u001b[0m         \u001b[39mraise\u001b[39;00m \u001b[39mValueError\u001b[39;00m(err_msg)\n\u001b[0;32m--> 281\u001b[0m \u001b[39mraise\u001b[39;00m \u001b[39mValueError\u001b[39;00m(err_msg)\n",
      "\u001b[0;31mValueError\u001b[0m: No valid specification of the columns. Only a scalar, list or slice of all integers or all strings, or boolean mask is allowed"
     ]
    }
   ],
   "source": [
    "X = ohe_df.drop('age', axis =1)\n",
    "y = ohe_df['age'] \n",
    "\n",
    "X_train, X_test, y_train, y_test = train_test_split(X,y, test_size=0.3, random_state=42)\n",
    "\n",
    "\n",
    "pipe.fit(X_train, y_train)\n",
    "\n",
    "linear_predictions = pipe.predict(X_test) \n",
    "\n",
    "\n",
    "linear_mse = mean_squared_error(y_test, linear_predictions) \n",
    "linear_r2 = r2_score(y_test, linear_predictions) \n",
    "linear_rmse = np.sqrt(linear_mse) \n",
    "linear_meany = np.mean(y)\n",
    "linear_rmsem = linear_rmse/ linear_meany \n",
    "\n",
    "print(\"Linear Regression Model:\")\n",
    "print(\"Mean Squared Error:\", linear_mse)\n",
    "print(\"R-squared:\", linear_r2)\n",
    "print(\"RMSEM:\", linear_rmsem)"
   ]
  },
  {
   "cell_type": "markdown",
   "id": "2c089855",
   "metadata": {},
   "source": [
    "KNN Regression \n"
   ]
  },
  {
   "cell_type": "code",
   "execution_count": null,
   "id": "37a2a375",
   "metadata": {},
   "outputs": [],
   "source": [
    "knn_regressor = KNeighborsRegressor(n_neighbors=5)  \n",
    "\n",
    "pipeline_knn = Pipeline([\n",
    "    ('preprocessor', preprocessor),\n",
    "    ('regressor', knn_regressor)\n",
    "])\n",
    "\n",
    "X = ohe_df.drop('', axis=1)\n",
    "y = ohe_df['']\n",
    "\n",
    "X_train, X_test, y_train, y_test = train_test_split(X, y, test_size=0.3, random_state=42)\n",
    "\n",
    "pipeline_knn.fit(X_train, y_train)\n",
    "\n",
    "knn_predictions = pipeline_knn.predict(X_test)\n",
    "\n",
    "knn_mse = mean_squared_error(y_test, knn_predictions)\n",
    "knn_r2 = r2_score(y_test, knn_predictions)\n",
    "knn_rmse = np.sqrt(knn_mse)\n",
    "knn_meany = np.mean(y)\n",
    "knn_rmsem = knn_rmse / knn_meany\n",
    "\n",
    "print(\"KNN Regression Model:\")\n",
    "print(\"Mean Squared Error:\", knn_mse)\n",
    "print(\"R-squared:\", knn_r2)\n",
    "print(\"RMSEM:\", knn_rmsem)"
   ]
  },
  {
   "cell_type": "markdown",
   "id": "6f3910c6",
   "metadata": {},
   "source": [
    "Classifiers Function "
   ]
  },
  {
   "cell_type": "code",
   "execution_count": 17,
   "id": "a60f03d3",
   "metadata": {},
   "outputs": [],
   "source": [
    "def evaluate_classifier_metrics(classifier, X_train, y_train, X_test, y_test):\n",
    "    categ = ohe_df.select_dtypes(include=[\"object\", \"category\"])\n",
    "    num = ohe_df.select_dtypes(exclude=[\"object\", \"category\"])\n",
    "\n",
    "    preprocessor = make_column_transformer(\n",
    "        (OneHotEncoder(), categ),\n",
    "        (StandardScaler(), num)\n",
    "    )\n",
    "\n",
    "    pipeline = Pipeline([\n",
    "        ('preprocessor', preprocessor),\n",
    "        ('classifier', classifier)\n",
    "    ])\n",
    "\n",
    "    pipeline.fit(X_train, y_train)\n",
    "\n",
    "    test_predictions = pipeline.predict(X_test)\n",
    "    train_predictions = pipeline.predict(X_train)\n",
    "\n",
    "    accuracy_test = accuracy_score(y_test, test_predictions)\n",
    "    roc_auc_test = roc_auc_score(y_test, test_predictions)\n",
    "    kappa_test = cohen_kappa_score(y_test, test_predictions)\n",
    "    f1_test = f1_score(y_test, test_predictions)\n",
    "\n",
    "    accuracy_train = accuracy_score(y_train, train_predictions)\n",
    "    roc_auc_train = roc_auc_score(y_train, train_predictions)\n",
    "    kappa_train = cohen_kappa_score(y_train, train_predictions)\n",
    "    f1_train = f1_score(y_train, train_predictions)\n",
    "\n",
    "    return {\n",
    "        'Test Accuracy': accuracy_test,\n",
    "        'Test ROC AUC': roc_auc_test,\n",
    "        'Test Kappa': kappa_test,\n",
    "        'Test F1 Score': f1_test,\n",
    "        'Train Accuracy': accuracy_train,\n",
    "        'Train ROC AUC': roc_auc_train,\n",
    "        'Train Kappa': kappa_train,\n",
    "        'Train F1 Score': f1_train\n",
    "    }"
   ]
  },
  {
   "cell_type": "markdown",
   "id": "b56dd6e4",
   "metadata": {},
   "source": [
    "KNN Classifier "
   ]
  },
  {
   "cell_type": "code",
   "execution_count": 16,
   "id": "6b9ec8d4",
   "metadata": {},
   "outputs": [
    {
     "ename": "ValueError",
     "evalue": "No valid specification of the columns. Only a scalar, list or slice of all integers or all strings, or boolean mask is allowed",
     "output_type": "error",
     "traceback": [
      "\u001b[0;31m---------------------------------------------------------------------------\u001b[0m",
      "\u001b[0;31mValueError\u001b[0m                                Traceback (most recent call last)",
      "\u001b[1;32m/Users/selinkuruca/Documents/GitHub/PEM-Group-Project/Group-Project.ipynb Cell 26\u001b[0m line \u001b[0;36m1\n\u001b[1;32m     <a href='vscode-notebook-cell:/Users/selinkuruca/Documents/GitHub/PEM-Group-Project/Group-Project.ipynb#X36sZmlsZQ%3D%3D?line=10'>11</a>\u001b[0m knn_classifier \u001b[39m=\u001b[39m KNeighborsClassifier(n_neighbors\u001b[39m=\u001b[39m\u001b[39m4\u001b[39m)\n\u001b[1;32m     <a href='vscode-notebook-cell:/Users/selinkuruca/Documents/GitHub/PEM-Group-Project/Group-Project.ipynb#X36sZmlsZQ%3D%3D?line=11'>12</a>\u001b[0m X_train,X_test,y_train,y_test \u001b[39m=\u001b[39m train_test_split(X,y,test_size\u001b[39m=\u001b[39m\u001b[39m0.2\u001b[39m, random_state\u001b[39m=\u001b[39m\u001b[39m42\u001b[39m)\n\u001b[0;32m---> <a href='vscode-notebook-cell:/Users/selinkuruca/Documents/GitHub/PEM-Group-Project/Group-Project.ipynb#X36sZmlsZQ%3D%3D?line=12'>13</a>\u001b[0m knn_metrics \u001b[39m=\u001b[39m evaluate_classifier_metrics(knn_classifier, X_train, y_train, X_test, y_test)\n\u001b[1;32m     <a href='vscode-notebook-cell:/Users/selinkuruca/Documents/GitHub/PEM-Group-Project/Group-Project.ipynb#X36sZmlsZQ%3D%3D?line=13'>14</a>\u001b[0m \u001b[39mprint\u001b[39m(\u001b[39m\"\u001b[39m\u001b[39mKNN Metrics:\u001b[39m\u001b[39m\"\u001b[39m)\n\u001b[1;32m     <a href='vscode-notebook-cell:/Users/selinkuruca/Documents/GitHub/PEM-Group-Project/Group-Project.ipynb#X36sZmlsZQ%3D%3D?line=14'>15</a>\u001b[0m \u001b[39mfor\u001b[39;00m metric, value \u001b[39min\u001b[39;00m knn_metrics\u001b[39m.\u001b[39mitems(): \n",
      "\u001b[1;32m/Users/selinkuruca/Documents/GitHub/PEM-Group-Project/Group-Project.ipynb Cell 26\u001b[0m line \u001b[0;36m1\n\u001b[1;32m      <a href='vscode-notebook-cell:/Users/selinkuruca/Documents/GitHub/PEM-Group-Project/Group-Project.ipynb#X36sZmlsZQ%3D%3D?line=4'>5</a>\u001b[0m preprocessor \u001b[39m=\u001b[39m make_column_transformer(\n\u001b[1;32m      <a href='vscode-notebook-cell:/Users/selinkuruca/Documents/GitHub/PEM-Group-Project/Group-Project.ipynb#X36sZmlsZQ%3D%3D?line=5'>6</a>\u001b[0m     (OneHotEncoder(), categ),\n\u001b[1;32m      <a href='vscode-notebook-cell:/Users/selinkuruca/Documents/GitHub/PEM-Group-Project/Group-Project.ipynb#X36sZmlsZQ%3D%3D?line=6'>7</a>\u001b[0m     (StandardScaler(), num)\n\u001b[1;32m      <a href='vscode-notebook-cell:/Users/selinkuruca/Documents/GitHub/PEM-Group-Project/Group-Project.ipynb#X36sZmlsZQ%3D%3D?line=7'>8</a>\u001b[0m )\n\u001b[1;32m     <a href='vscode-notebook-cell:/Users/selinkuruca/Documents/GitHub/PEM-Group-Project/Group-Project.ipynb#X36sZmlsZQ%3D%3D?line=9'>10</a>\u001b[0m pipeline \u001b[39m=\u001b[39m Pipeline([\n\u001b[1;32m     <a href='vscode-notebook-cell:/Users/selinkuruca/Documents/GitHub/PEM-Group-Project/Group-Project.ipynb#X36sZmlsZQ%3D%3D?line=10'>11</a>\u001b[0m     (\u001b[39m'\u001b[39m\u001b[39mpreprocessor\u001b[39m\u001b[39m'\u001b[39m, preprocessor),\n\u001b[1;32m     <a href='vscode-notebook-cell:/Users/selinkuruca/Documents/GitHub/PEM-Group-Project/Group-Project.ipynb#X36sZmlsZQ%3D%3D?line=11'>12</a>\u001b[0m     (\u001b[39m'\u001b[39m\u001b[39mclassifier\u001b[39m\u001b[39m'\u001b[39m, classifier)\n\u001b[1;32m     <a href='vscode-notebook-cell:/Users/selinkuruca/Documents/GitHub/PEM-Group-Project/Group-Project.ipynb#X36sZmlsZQ%3D%3D?line=12'>13</a>\u001b[0m ])\n\u001b[0;32m---> <a href='vscode-notebook-cell:/Users/selinkuruca/Documents/GitHub/PEM-Group-Project/Group-Project.ipynb#X36sZmlsZQ%3D%3D?line=14'>15</a>\u001b[0m pipeline\u001b[39m.\u001b[39mfit(X_train, y_train)\n\u001b[1;32m     <a href='vscode-notebook-cell:/Users/selinkuruca/Documents/GitHub/PEM-Group-Project/Group-Project.ipynb#X36sZmlsZQ%3D%3D?line=16'>17</a>\u001b[0m test_predictions \u001b[39m=\u001b[39m pipeline\u001b[39m.\u001b[39mpredict(X_test)\n\u001b[1;32m     <a href='vscode-notebook-cell:/Users/selinkuruca/Documents/GitHub/PEM-Group-Project/Group-Project.ipynb#X36sZmlsZQ%3D%3D?line=17'>18</a>\u001b[0m train_predictions \u001b[39m=\u001b[39m pipeline\u001b[39m.\u001b[39mpredict(X_train)\n",
      "File \u001b[0;32m~/anaconda3/lib/python3.11/site-packages/sklearn/base.py:1151\u001b[0m, in \u001b[0;36m_fit_context.<locals>.decorator.<locals>.wrapper\u001b[0;34m(estimator, *args, **kwargs)\u001b[0m\n\u001b[1;32m   1144\u001b[0m     estimator\u001b[39m.\u001b[39m_validate_params()\n\u001b[1;32m   1146\u001b[0m \u001b[39mwith\u001b[39;00m config_context(\n\u001b[1;32m   1147\u001b[0m     skip_parameter_validation\u001b[39m=\u001b[39m(\n\u001b[1;32m   1148\u001b[0m         prefer_skip_nested_validation \u001b[39mor\u001b[39;00m global_skip_validation\n\u001b[1;32m   1149\u001b[0m     )\n\u001b[1;32m   1150\u001b[0m ):\n\u001b[0;32m-> 1151\u001b[0m     \u001b[39mreturn\u001b[39;00m fit_method(estimator, \u001b[39m*\u001b[39margs, \u001b[39m*\u001b[39m\u001b[39m*\u001b[39mkwargs)\n",
      "File \u001b[0;32m~/anaconda3/lib/python3.11/site-packages/sklearn/pipeline.py:416\u001b[0m, in \u001b[0;36mPipeline.fit\u001b[0;34m(self, X, y, **fit_params)\u001b[0m\n\u001b[1;32m    390\u001b[0m \u001b[39m\u001b[39m\u001b[39m\"\"\"Fit the model.\u001b[39;00m\n\u001b[1;32m    391\u001b[0m \n\u001b[1;32m    392\u001b[0m \u001b[39mFit all the transformers one after the other and transform the\u001b[39;00m\n\u001b[0;32m   (...)\u001b[0m\n\u001b[1;32m    413\u001b[0m \u001b[39m    Pipeline with fitted steps.\u001b[39;00m\n\u001b[1;32m    414\u001b[0m \u001b[39m\"\"\"\u001b[39;00m\n\u001b[1;32m    415\u001b[0m fit_params_steps \u001b[39m=\u001b[39m \u001b[39mself\u001b[39m\u001b[39m.\u001b[39m_check_fit_params(\u001b[39m*\u001b[39m\u001b[39m*\u001b[39mfit_params)\n\u001b[0;32m--> 416\u001b[0m Xt \u001b[39m=\u001b[39m \u001b[39mself\u001b[39m\u001b[39m.\u001b[39m_fit(X, y, \u001b[39m*\u001b[39m\u001b[39m*\u001b[39mfit_params_steps)\n\u001b[1;32m    417\u001b[0m \u001b[39mwith\u001b[39;00m _print_elapsed_time(\u001b[39m\"\u001b[39m\u001b[39mPipeline\u001b[39m\u001b[39m\"\u001b[39m, \u001b[39mself\u001b[39m\u001b[39m.\u001b[39m_log_message(\u001b[39mlen\u001b[39m(\u001b[39mself\u001b[39m\u001b[39m.\u001b[39msteps) \u001b[39m-\u001b[39m \u001b[39m1\u001b[39m)):\n\u001b[1;32m    418\u001b[0m     \u001b[39mif\u001b[39;00m \u001b[39mself\u001b[39m\u001b[39m.\u001b[39m_final_estimator \u001b[39m!=\u001b[39m \u001b[39m\"\u001b[39m\u001b[39mpassthrough\u001b[39m\u001b[39m\"\u001b[39m:\n",
      "File \u001b[0;32m~/anaconda3/lib/python3.11/site-packages/sklearn/pipeline.py:370\u001b[0m, in \u001b[0;36mPipeline._fit\u001b[0;34m(self, X, y, **fit_params_steps)\u001b[0m\n\u001b[1;32m    368\u001b[0m     cloned_transformer \u001b[39m=\u001b[39m clone(transformer)\n\u001b[1;32m    369\u001b[0m \u001b[39m# Fit or load from cache the current transformer\u001b[39;00m\n\u001b[0;32m--> 370\u001b[0m X, fitted_transformer \u001b[39m=\u001b[39m fit_transform_one_cached(\n\u001b[1;32m    371\u001b[0m     cloned_transformer,\n\u001b[1;32m    372\u001b[0m     X,\n\u001b[1;32m    373\u001b[0m     y,\n\u001b[1;32m    374\u001b[0m     \u001b[39mNone\u001b[39;00m,\n\u001b[1;32m    375\u001b[0m     message_clsname\u001b[39m=\u001b[39m\u001b[39m\"\u001b[39m\u001b[39mPipeline\u001b[39m\u001b[39m\"\u001b[39m,\n\u001b[1;32m    376\u001b[0m     message\u001b[39m=\u001b[39m\u001b[39mself\u001b[39m\u001b[39m.\u001b[39m_log_message(step_idx),\n\u001b[1;32m    377\u001b[0m     \u001b[39m*\u001b[39m\u001b[39m*\u001b[39mfit_params_steps[name],\n\u001b[1;32m    378\u001b[0m )\n\u001b[1;32m    379\u001b[0m \u001b[39m# Replace the transformer of the step with the fitted\u001b[39;00m\n\u001b[1;32m    380\u001b[0m \u001b[39m# transformer. This is necessary when loading the transformer\u001b[39;00m\n\u001b[1;32m    381\u001b[0m \u001b[39m# from the cache.\u001b[39;00m\n\u001b[1;32m    382\u001b[0m \u001b[39mself\u001b[39m\u001b[39m.\u001b[39msteps[step_idx] \u001b[39m=\u001b[39m (name, fitted_transformer)\n",
      "File \u001b[0;32m~/anaconda3/lib/python3.11/site-packages/joblib/memory.py:349\u001b[0m, in \u001b[0;36mNotMemorizedFunc.__call__\u001b[0;34m(self, *args, **kwargs)\u001b[0m\n\u001b[1;32m    348\u001b[0m \u001b[39mdef\u001b[39;00m \u001b[39m__call__\u001b[39m(\u001b[39mself\u001b[39m, \u001b[39m*\u001b[39margs, \u001b[39m*\u001b[39m\u001b[39m*\u001b[39mkwargs):\n\u001b[0;32m--> 349\u001b[0m     \u001b[39mreturn\u001b[39;00m \u001b[39mself\u001b[39m\u001b[39m.\u001b[39mfunc(\u001b[39m*\u001b[39margs, \u001b[39m*\u001b[39m\u001b[39m*\u001b[39mkwargs)\n",
      "File \u001b[0;32m~/anaconda3/lib/python3.11/site-packages/sklearn/pipeline.py:950\u001b[0m, in \u001b[0;36m_fit_transform_one\u001b[0;34m(transformer, X, y, weight, message_clsname, message, **fit_params)\u001b[0m\n\u001b[1;32m    948\u001b[0m \u001b[39mwith\u001b[39;00m _print_elapsed_time(message_clsname, message):\n\u001b[1;32m    949\u001b[0m     \u001b[39mif\u001b[39;00m \u001b[39mhasattr\u001b[39m(transformer, \u001b[39m\"\u001b[39m\u001b[39mfit_transform\u001b[39m\u001b[39m\"\u001b[39m):\n\u001b[0;32m--> 950\u001b[0m         res \u001b[39m=\u001b[39m transformer\u001b[39m.\u001b[39mfit_transform(X, y, \u001b[39m*\u001b[39m\u001b[39m*\u001b[39mfit_params)\n\u001b[1;32m    951\u001b[0m     \u001b[39melse\u001b[39;00m:\n\u001b[1;32m    952\u001b[0m         res \u001b[39m=\u001b[39m transformer\u001b[39m.\u001b[39mfit(X, y, \u001b[39m*\u001b[39m\u001b[39m*\u001b[39mfit_params)\u001b[39m.\u001b[39mtransform(X)\n",
      "File \u001b[0;32m~/anaconda3/lib/python3.11/site-packages/sklearn/utils/_set_output.py:140\u001b[0m, in \u001b[0;36m_wrap_method_output.<locals>.wrapped\u001b[0;34m(self, X, *args, **kwargs)\u001b[0m\n\u001b[1;32m    138\u001b[0m \u001b[39m@wraps\u001b[39m(f)\n\u001b[1;32m    139\u001b[0m \u001b[39mdef\u001b[39;00m \u001b[39mwrapped\u001b[39m(\u001b[39mself\u001b[39m, X, \u001b[39m*\u001b[39margs, \u001b[39m*\u001b[39m\u001b[39m*\u001b[39mkwargs):\n\u001b[0;32m--> 140\u001b[0m     data_to_wrap \u001b[39m=\u001b[39m f(\u001b[39mself\u001b[39m, X, \u001b[39m*\u001b[39margs, \u001b[39m*\u001b[39m\u001b[39m*\u001b[39mkwargs)\n\u001b[1;32m    141\u001b[0m     \u001b[39mif\u001b[39;00m \u001b[39misinstance\u001b[39m(data_to_wrap, \u001b[39mtuple\u001b[39m):\n\u001b[1;32m    142\u001b[0m         \u001b[39m# only wrap the first output for cross decomposition\u001b[39;00m\n\u001b[1;32m    143\u001b[0m         return_tuple \u001b[39m=\u001b[39m (\n\u001b[1;32m    144\u001b[0m             _wrap_data_with_container(method, data_to_wrap[\u001b[39m0\u001b[39m], X, \u001b[39mself\u001b[39m),\n\u001b[1;32m    145\u001b[0m             \u001b[39m*\u001b[39mdata_to_wrap[\u001b[39m1\u001b[39m:],\n\u001b[1;32m    146\u001b[0m         )\n",
      "File \u001b[0;32m~/anaconda3/lib/python3.11/site-packages/sklearn/base.py:1151\u001b[0m, in \u001b[0;36m_fit_context.<locals>.decorator.<locals>.wrapper\u001b[0;34m(estimator, *args, **kwargs)\u001b[0m\n\u001b[1;32m   1144\u001b[0m     estimator\u001b[39m.\u001b[39m_validate_params()\n\u001b[1;32m   1146\u001b[0m \u001b[39mwith\u001b[39;00m config_context(\n\u001b[1;32m   1147\u001b[0m     skip_parameter_validation\u001b[39m=\u001b[39m(\n\u001b[1;32m   1148\u001b[0m         prefer_skip_nested_validation \u001b[39mor\u001b[39;00m global_skip_validation\n\u001b[1;32m   1149\u001b[0m     )\n\u001b[1;32m   1150\u001b[0m ):\n\u001b[0;32m-> 1151\u001b[0m     \u001b[39mreturn\u001b[39;00m fit_method(estimator, \u001b[39m*\u001b[39margs, \u001b[39m*\u001b[39m\u001b[39m*\u001b[39mkwargs)\n",
      "File \u001b[0;32m~/anaconda3/lib/python3.11/site-packages/sklearn/compose/_column_transformer.py:740\u001b[0m, in \u001b[0;36mColumnTransformer.fit_transform\u001b[0;34m(self, X, y)\u001b[0m\n\u001b[1;32m    738\u001b[0m \u001b[39mself\u001b[39m\u001b[39m.\u001b[39m_check_n_features(X, reset\u001b[39m=\u001b[39m\u001b[39mTrue\u001b[39;00m)\n\u001b[1;32m    739\u001b[0m \u001b[39mself\u001b[39m\u001b[39m.\u001b[39m_validate_transformers()\n\u001b[0;32m--> 740\u001b[0m \u001b[39mself\u001b[39m\u001b[39m.\u001b[39m_validate_column_callables(X)\n\u001b[1;32m    741\u001b[0m \u001b[39mself\u001b[39m\u001b[39m.\u001b[39m_validate_remainder(X)\n\u001b[1;32m    743\u001b[0m result \u001b[39m=\u001b[39m \u001b[39mself\u001b[39m\u001b[39m.\u001b[39m_fit_transform(X, y, _fit_transform_one)\n",
      "File \u001b[0;32m~/anaconda3/lib/python3.11/site-packages/sklearn/compose/_column_transformer.py:448\u001b[0m, in \u001b[0;36mColumnTransformer._validate_column_callables\u001b[0;34m(self, X)\u001b[0m\n\u001b[1;32m    446\u001b[0m         columns \u001b[39m=\u001b[39m columns(X)\n\u001b[1;32m    447\u001b[0m     all_columns\u001b[39m.\u001b[39mappend(columns)\n\u001b[0;32m--> 448\u001b[0m     transformer_to_input_indices[name] \u001b[39m=\u001b[39m _get_column_indices(X, columns)\n\u001b[1;32m    450\u001b[0m \u001b[39mself\u001b[39m\u001b[39m.\u001b[39m_columns \u001b[39m=\u001b[39m all_columns\n\u001b[1;32m    451\u001b[0m \u001b[39mself\u001b[39m\u001b[39m.\u001b[39m_transformer_to_input_indices \u001b[39m=\u001b[39m transformer_to_input_indices\n",
      "File \u001b[0;32m~/anaconda3/lib/python3.11/site-packages/sklearn/utils/__init__.py:405\u001b[0m, in \u001b[0;36m_get_column_indices\u001b[0;34m(X, key)\u001b[0m\n\u001b[1;32m    398\u001b[0m \u001b[39m\u001b[39m\u001b[39m\"\"\"Get feature column indices for input data X and key.\u001b[39;00m\n\u001b[1;32m    399\u001b[0m \n\u001b[1;32m    400\u001b[0m \u001b[39mFor accepted values of `key`, see the docstring of\u001b[39;00m\n\u001b[1;32m    401\u001b[0m \u001b[39m:func:`_safe_indexing_column`.\u001b[39;00m\n\u001b[1;32m    402\u001b[0m \u001b[39m\"\"\"\u001b[39;00m\n\u001b[1;32m    403\u001b[0m n_columns \u001b[39m=\u001b[39m X\u001b[39m.\u001b[39mshape[\u001b[39m1\u001b[39m]\n\u001b[0;32m--> 405\u001b[0m key_dtype \u001b[39m=\u001b[39m _determine_key_type(key)\n\u001b[1;32m    407\u001b[0m \u001b[39mif\u001b[39;00m \u001b[39misinstance\u001b[39m(key, (\u001b[39mlist\u001b[39m, \u001b[39mtuple\u001b[39m)) \u001b[39mand\u001b[39;00m \u001b[39mnot\u001b[39;00m key:\n\u001b[1;32m    408\u001b[0m     \u001b[39m# we get an empty list\u001b[39;00m\n\u001b[1;32m    409\u001b[0m     \u001b[39mreturn\u001b[39;00m []\n",
      "File \u001b[0;32m~/anaconda3/lib/python3.11/site-packages/sklearn/utils/__init__.py:281\u001b[0m, in \u001b[0;36m_determine_key_type\u001b[0;34m(key, accept_slice)\u001b[0m\n\u001b[1;32m    279\u001b[0m     \u001b[39mexcept\u001b[39;00m \u001b[39mKeyError\u001b[39;00m:\n\u001b[1;32m    280\u001b[0m         \u001b[39mraise\u001b[39;00m \u001b[39mValueError\u001b[39;00m(err_msg)\n\u001b[0;32m--> 281\u001b[0m \u001b[39mraise\u001b[39;00m \u001b[39mValueError\u001b[39;00m(err_msg)\n",
      "\u001b[0;31mValueError\u001b[0m: No valid specification of the columns. Only a scalar, list or slice of all integers or all strings, or boolean mask is allowed"
     ]
    }
   ],
   "source": [
    "from sklearn.neighbors import KNeighborsClassifier\n",
    "from sklearn.linear_model import LogisticRegression\n",
    "from sklearn.svm import SVC\n",
    "from sklearn.pipeline import Pipeline\n",
    "\n",
    "X = ohe_df.drop('SMK_stat_type_cd',axis=1)\n",
    "y = ohe_df['SMK_stat_type_cd'] \n",
    "\n",
    "\n",
    "knn_classifier = KNeighborsClassifier(n_neighbors=4)\n",
    "X_train,X_test,y_train,y_test = train_test_split(X,y,test_size=0.2, random_state=42)\n",
    "knn_metrics = evaluate_classifier_metrics(knn_classifier, X_train, y_train, X_test, y_test)\n",
    "print(\"KNN Metrics:\")\n",
    "for metric, value in knn_metrics.items(): \n",
    "    print(f\"{metric}: {value}\")"
   ]
  },
  {
   "cell_type": "markdown",
   "id": "a6e22084",
   "metadata": {},
   "source": [
    "Logistic Regression"
   ]
  },
  {
   "cell_type": "code",
   "execution_count": null,
   "id": "f97d6de7",
   "metadata": {},
   "outputs": [],
   "source": [
    "logistic_classifier = LogisticRegression()\n",
    "logistic_metrics = evaluate_classifier_metrics(logistic_classifier, X_train, y_train, X_test, y_test)\n",
    "print(\"Logistic Regression Metrics:\")\n",
    "for metric, value in logistic_metrics.items(): \n",
    "    print(f\"{metric}: {value}\")"
   ]
  }
 ],
 "metadata": {
  "kernelspec": {
   "display_name": "Python 3",
   "language": "python",
   "name": "python3"
  },
  "language_info": {
   "codemirror_mode": {
    "name": "ipython",
    "version": 3
   },
   "file_extension": ".py",
   "mimetype": "text/x-python",
   "name": "python",
   "nbconvert_exporter": "python",
   "pygments_lexer": "ipython3",
   "version": "3.11.5"
  }
 },
 "nbformat": 4,
 "nbformat_minor": 5
}
