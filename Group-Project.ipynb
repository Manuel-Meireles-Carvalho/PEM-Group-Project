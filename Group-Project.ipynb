{
 "cells": [
  {
   "cell_type": "markdown",
   "id": "bb08688220941b02",
   "metadata": {
    "collapsed": false
   },
   "source": [
    "# Imports\n",
    "---"
   ]
  },
  {
   "cell_type": "code",
   "execution_count": 37,
   "id": "f724c2898314d50b",
   "metadata": {
    "ExecuteTime": {
     "end_time": "2023-10-25T13:05:05.137635100Z",
     "start_time": "2023-10-25T13:05:05.136108400Z"
    },
    "collapsed": false
   },
   "outputs": [],
   "source": [
    "import pandas as pd\n",
    "import numpy as np\n",
    "import math"
   ]
  },
  {
   "cell_type": "markdown",
   "id": "2479f5d060f9caa7",
   "metadata": {
    "collapsed": false
   },
   "source": [
    "# Import Dataset\n",
    "---\n",
    "**Column Description (Data Source: [Smoking and Drinking Dataset with body signal on Kaggle](https://www.kaggle.com/datasets/sooyoungher/smoking-drinking-dataset/data))**\n",
    "\n",
    "- Sex - male, female\n",
    "- Age - round up to 5 year\n",
    "- Height - round up to 5 cm[cm]\n",
    "- Weight [kg]\n",
    "- Waistline\n",
    "- Sight_left - eyesight(left) the column shows how well the left eye sees, where perfect vision = 1.0\n",
    "- Sight_right - eyesight(right) the column shows how well the right eye sees where perfect vision = 1.0\n",
    "- Hear_left - hearing left, 1(normal), 2(abnormal)\n",
    "- Hear_right - hearing right, 1(normal), 2(abnormal)\n",
    "- SBP - Systolic blood pressure[mmHg]\n",
    "- DBP - Diastolic blood pressure[mmHg]\n",
    "- BLDS - BLDS or FSG(fasting blood glucose)[mg/dL]\n",
    "- Tot_chole - total cholesterol[mg/dL]\n",
    "- HDL_chole - HDL cholesterol[mg/dL] - the only fraction of cholesterol that is called \"good\", \"useful\" cholesterol.\n",
    "- LDL_chole - LDL cholesterol[mg/dL]\n",
    "- Triglyceride - triglyceride[mg/dL]\n",
    "- Hemoglobin - hemoglobin[g/dL]\n",
    "- Urine_protein - protein in urine, 1(-), 2(+/-), 3(+1), 4(+2), 5(+3), 6(+4)\n",
    "- Serum_creatinine - serum(blood) creatinine[mg/dL]\n",
    "- SGOT_AST - SGOT(Glutamate-oxaloacetate transaminase) AST(Aspartate transaminase)[IU/L]\n",
    "- SGOT_ALT - ALT(Alanine transaminase)[IU/L]\n",
    "- Gamma_GTP - y-glutamyl transpeptidase[IU/L]\n",
    "- SMK_stat_type_cd - Smoking state, 1(never), 2(used to smoke but quit), 3(still smoke)\n",
    "- DRK_YN - Drinker or Not\n"
   ]
  },
  {
   "cell_type": "code",
   "execution_count": 42,
   "id": "f805d021",
   "metadata": {},
   "outputs": [],
   "source": [
    "def percentage_missing_values(data):\n",
    "    total_cells = np.product(data.shape)\n",
    "\n",
    "    missing_cells = data.isnull().sum().sum()\n",
    "\n",
    "    percentage_missing = (missing_cells / total_cells) * 100\n",
    "    return f\"Percentage of missing values: {percentage_missing:.2f}%\""
   ]
  },
  {
   "cell_type": "code",
   "execution_count": 45,
   "id": "5bfeb1e3f35d16c",
   "metadata": {
    "ExecuteTime": {
     "end_time": "2023-10-26T16:48:19.952523500Z",
     "start_time": "2023-10-26T16:48:18.899900500Z"
    },
    "collapsed": false
   },
   "outputs": [],
   "source": [
    "df = pd.read_csv('data/sd.csv')\n",
    "df_copy = df.copy()\n",
    "df_copy.head()\n",
    "df.to_csv('outpu.csv', index=False)"
   ]
  },
  {
   "cell_type": "code",
   "execution_count": 46,
   "id": "6b8ff308",
   "metadata": {},
   "outputs": [
    {
     "data": {
      "text/plain": [
       "'Percentage of missing values: 0.00%'"
      ]
     },
     "execution_count": 46,
     "metadata": {},
     "output_type": "execute_result"
    }
   ],
   "source": [
    "percentage_missing_values(df_copy)"
   ]
  },
  {
   "cell_type": "markdown",
   "id": "572ce6ac156f3cc2",
   "metadata": {
    "collapsed": false
   },
   "source": [
    "# Useful functions\n",
    "---"
   ]
  },
  {
   "cell_type": "code",
   "execution_count": 47,
   "id": "b6cee908add2d907",
   "metadata": {
    "ExecuteTime": {
     "end_time": "2023-10-26T16:48:22.341681400Z",
     "start_time": "2023-10-26T16:48:22.326439300Z"
    },
    "collapsed": false
   },
   "outputs": [],
   "source": [
    "def remove_outliers_from_columns(df, column_names):\n",
    "\n",
    "    for column_name in column_names:\n",
    "        # Calculate Q1, Q3, and IQR\n",
    "        Q1 = df[column_name].quantile(0.25)\n",
    "        Q3 = df[column_name].quantile(0.75)\n",
    "        IQR = Q3 - Q1\n",
    "\n",
    "        # Define bounds\n",
    "        lower_bound = Q1 - 1.5 * IQR\n",
    "        upper_bound = Q3 + 1.5 * IQR\n",
    "\n",
    "        # Filter out outliers\n",
    "        df = df[(df[column_name] >= lower_bound) & (df[column_name] <= upper_bound)]\n",
    "\n",
    "    return df\n",
    "\n"
   ]
  },
  {
   "cell_type": "code",
   "execution_count": 48,
   "id": "ef7abcc13a93e2c1",
   "metadata": {
    "ExecuteTime": {
     "end_time": "2023-10-26T16:48:22.341681400Z",
     "start_time": "2023-10-26T16:48:22.332014300Z"
    },
    "collapsed": false
   },
   "outputs": [],
   "source": [
    "def percentage_missing_values(data):\n",
    "    total_cells = np.product(data.shape)\n",
    "\n",
    "    missing_cells = data.isnull().sum().sum()\n",
    "\n",
    "    percentage_missing = (missing_cells / total_cells) * 100\n",
    "    return f\"Percentage of missing values: {percentage_missing:.2f}%\"\n"
   ]
  },
  {
   "cell_type": "code",
   "execution_count": 49,
   "id": "89898db7d78630fe",
   "metadata": {
    "ExecuteTime": {
     "end_time": "2023-10-26T16:48:22.341681400Z",
     "start_time": "2023-10-26T16:48:22.340248500Z"
    },
    "collapsed": false
   },
   "outputs": [],
   "source": [
    "def duplicate_data(data):\n",
    "\n",
    "    duplicates_cells = data[data.duplicated].shape\n",
    "    \n",
    "    return f\"Number of duplicates: {duplicates_cells[0]}\""
   ]
  },
  {
   "cell_type": "markdown",
   "id": "a469278eea16bc70",
   "metadata": {
    "collapsed": false
   },
   "source": [
    "# Clean data\n",
    "---\n",
    "- Remove outliers\n",
    "- Remove duplicates\n",
    "- impute missing values"
   ]
  },
  {
   "cell_type": "markdown",
   "id": "cd2d1a62ddf0b8ac",
   "metadata": {
    "collapsed": false
   },
   "source": [
    "## Remove Outliers\n",
    "---"
   ]
  },
  {
   "cell_type": "code",
   "execution_count": 25,
   "id": "65fa1f8b0e1ae50",
   "metadata": {
    "ExecuteTime": {
     "end_time": "2023-10-26T16:43:50.378743200Z",
     "start_time": "2023-10-26T16:43:50.145276200Z"
    },
    "collapsed": false
   },
   "outputs": [
    {
     "data": {
      "text/html": [
       "<div>\n",
       "<style scoped>\n",
       "    .dataframe tbody tr th:only-of-type {\n",
       "        vertical-align: middle;\n",
       "    }\n",
       "\n",
       "    .dataframe tbody tr th {\n",
       "        vertical-align: top;\n",
       "    }\n",
       "\n",
       "    .dataframe thead th {\n",
       "        text-align: right;\n",
       "    }\n",
       "</style>\n",
       "<table border=\"1\" class=\"dataframe\">\n",
       "  <thead>\n",
       "    <tr style=\"text-align: right;\">\n",
       "      <th></th>\n",
       "      <th>age</th>\n",
       "      <th>height</th>\n",
       "      <th>weight</th>\n",
       "      <th>waistline</th>\n",
       "      <th>sight_left</th>\n",
       "      <th>sight_right</th>\n",
       "      <th>SBP</th>\n",
       "      <th>DBP</th>\n",
       "      <th>BLDS</th>\n",
       "      <th>tot_chole</th>\n",
       "      <th>HDL_chole</th>\n",
       "      <th>LDL_chole</th>\n",
       "      <th>triglyceride</th>\n",
       "      <th>hemoglobin</th>\n",
       "      <th>serum_creatinine</th>\n",
       "      <th>SGOT_AST</th>\n",
       "      <th>SGOT_ALT</th>\n",
       "      <th>gamma_GTP</th>\n",
       "    </tr>\n",
       "  </thead>\n",
       "  <tbody>\n",
       "    <tr>\n",
       "      <th>count</th>\n",
       "      <td>676654.000000</td>\n",
       "      <td>676654.000000</td>\n",
       "      <td>676654.000000</td>\n",
       "      <td>676654.000000</td>\n",
       "      <td>676654.000000</td>\n",
       "      <td>676654.000000</td>\n",
       "      <td>676654.000000</td>\n",
       "      <td>676654.000000</td>\n",
       "      <td>676654.000000</td>\n",
       "      <td>676654.00000</td>\n",
       "      <td>676654.000000</td>\n",
       "      <td>676654.000000</td>\n",
       "      <td>676654.000000</td>\n",
       "      <td>676654.000000</td>\n",
       "      <td>676654.000000</td>\n",
       "      <td>676654.000000</td>\n",
       "      <td>676654.000000</td>\n",
       "      <td>676654.000000</td>\n",
       "    </tr>\n",
       "    <tr>\n",
       "      <th>mean</th>\n",
       "      <td>46.909824</td>\n",
       "      <td>161.324872</td>\n",
       "      <td>60.784027</td>\n",
       "      <td>79.027450</td>\n",
       "      <td>0.944601</td>\n",
       "      <td>0.942262</td>\n",
       "      <td>119.854122</td>\n",
       "      <td>74.367279</td>\n",
       "      <td>94.720488</td>\n",
       "      <td>192.44153</td>\n",
       "      <td>58.757409</td>\n",
       "      <td>112.626100</td>\n",
       "      <td>105.011242</td>\n",
       "      <td>13.968156</td>\n",
       "      <td>0.827369</td>\n",
       "      <td>22.006646</td>\n",
       "      <td>19.127022</td>\n",
       "      <td>22.095479</td>\n",
       "    </tr>\n",
       "    <tr>\n",
       "      <th>std</th>\n",
       "      <td>14.451683</td>\n",
       "      <td>9.171283</td>\n",
       "      <td>11.280088</td>\n",
       "      <td>8.972096</td>\n",
       "      <td>0.327505</td>\n",
       "      <td>0.327287</td>\n",
       "      <td>12.957561</td>\n",
       "      <td>8.642721</td>\n",
       "      <td>11.145641</td>\n",
       "      <td>34.25217</td>\n",
       "      <td>14.969314</td>\n",
       "      <td>31.830963</td>\n",
       "      <td>50.361684</td>\n",
       "      <td>1.527757</td>\n",
       "      <td>0.188520</td>\n",
       "      <td>5.596770</td>\n",
       "      <td>7.797004</td>\n",
       "      <td>10.720541</td>\n",
       "    </tr>\n",
       "    <tr>\n",
       "      <th>min</th>\n",
       "      <td>20.000000</td>\n",
       "      <td>130.000000</td>\n",
       "      <td>25.000000</td>\n",
       "      <td>53.600000</td>\n",
       "      <td>0.100000</td>\n",
       "      <td>0.100000</td>\n",
       "      <td>84.000000</td>\n",
       "      <td>54.000000</td>\n",
       "      <td>63.000000</td>\n",
       "      <td>97.00000</td>\n",
       "      <td>1.000000</td>\n",
       "      <td>1.000000</td>\n",
       "      <td>1.000000</td>\n",
       "      <td>1.000000</td>\n",
       "      <td>0.300000</td>\n",
       "      <td>6.000000</td>\n",
       "      <td>1.000000</td>\n",
       "      <td>1.000000</td>\n",
       "    </tr>\n",
       "    <tr>\n",
       "      <th>25%</th>\n",
       "      <td>35.000000</td>\n",
       "      <td>155.000000</td>\n",
       "      <td>50.000000</td>\n",
       "      <td>72.500000</td>\n",
       "      <td>0.700000</td>\n",
       "      <td>0.700000</td>\n",
       "      <td>110.000000</td>\n",
       "      <td>69.000000</td>\n",
       "      <td>87.000000</td>\n",
       "      <td>168.00000</td>\n",
       "      <td>48.000000</td>\n",
       "      <td>90.000000</td>\n",
       "      <td>67.000000</td>\n",
       "      <td>13.000000</td>\n",
       "      <td>0.700000</td>\n",
       "      <td>18.000000</td>\n",
       "      <td>13.000000</td>\n",
       "      <td>14.000000</td>\n",
       "    </tr>\n",
       "    <tr>\n",
       "      <th>50%</th>\n",
       "      <td>45.000000</td>\n",
       "      <td>160.000000</td>\n",
       "      <td>60.000000</td>\n",
       "      <td>79.000000</td>\n",
       "      <td>1.000000</td>\n",
       "      <td>1.000000</td>\n",
       "      <td>120.000000</td>\n",
       "      <td>74.000000</td>\n",
       "      <td>94.000000</td>\n",
       "      <td>191.00000</td>\n",
       "      <td>57.000000</td>\n",
       "      <td>111.000000</td>\n",
       "      <td>94.000000</td>\n",
       "      <td>13.900000</td>\n",
       "      <td>0.800000</td>\n",
       "      <td>21.000000</td>\n",
       "      <td>18.000000</td>\n",
       "      <td>19.000000</td>\n",
       "    </tr>\n",
       "    <tr>\n",
       "      <th>75%</th>\n",
       "      <td>55.000000</td>\n",
       "      <td>170.000000</td>\n",
       "      <td>70.000000</td>\n",
       "      <td>85.000000</td>\n",
       "      <td>1.200000</td>\n",
       "      <td>1.200000</td>\n",
       "      <td>130.000000</td>\n",
       "      <td>80.000000</td>\n",
       "      <td>101.000000</td>\n",
       "      <td>215.00000</td>\n",
       "      <td>67.000000</td>\n",
       "      <td>133.000000</td>\n",
       "      <td>132.000000</td>\n",
       "      <td>15.100000</td>\n",
       "      <td>1.000000</td>\n",
       "      <td>25.000000</td>\n",
       "      <td>23.000000</td>\n",
       "      <td>28.000000</td>\n",
       "    </tr>\n",
       "    <tr>\n",
       "      <th>max</th>\n",
       "      <td>85.000000</td>\n",
       "      <td>190.000000</td>\n",
       "      <td>125.000000</td>\n",
       "      <td>108.300000</td>\n",
       "      <td>1.900000</td>\n",
       "      <td>1.900000</td>\n",
       "      <td>159.000000</td>\n",
       "      <td>97.000000</td>\n",
       "      <td>130.000000</td>\n",
       "      <td>292.00000</td>\n",
       "      <td>933.000000</td>\n",
       "      <td>1750.000000</td>\n",
       "      <td>272.000000</td>\n",
       "      <td>25.000000</td>\n",
       "      <td>1.400000</td>\n",
       "      <td>41.000000</td>\n",
       "      <td>44.000000</td>\n",
       "      <td>56.000000</td>\n",
       "    </tr>\n",
       "  </tbody>\n",
       "</table>\n",
       "</div>"
      ],
      "text/plain": [
       "                 age         height         weight      waistline  \\\n",
       "count  676654.000000  676654.000000  676654.000000  676654.000000   \n",
       "mean       46.909824     161.324872      60.784027      79.027450   \n",
       "std        14.451683       9.171283      11.280088       8.972096   \n",
       "min        20.000000     130.000000      25.000000      53.600000   \n",
       "25%        35.000000     155.000000      50.000000      72.500000   \n",
       "50%        45.000000     160.000000      60.000000      79.000000   \n",
       "75%        55.000000     170.000000      70.000000      85.000000   \n",
       "max        85.000000     190.000000     125.000000     108.300000   \n",
       "\n",
       "          sight_left    sight_right            SBP            DBP  \\\n",
       "count  676654.000000  676654.000000  676654.000000  676654.000000   \n",
       "mean        0.944601       0.942262     119.854122      74.367279   \n",
       "std         0.327505       0.327287      12.957561       8.642721   \n",
       "min         0.100000       0.100000      84.000000      54.000000   \n",
       "25%         0.700000       0.700000     110.000000      69.000000   \n",
       "50%         1.000000       1.000000     120.000000      74.000000   \n",
       "75%         1.200000       1.200000     130.000000      80.000000   \n",
       "max         1.900000       1.900000     159.000000      97.000000   \n",
       "\n",
       "                BLDS     tot_chole      HDL_chole      LDL_chole  \\\n",
       "count  676654.000000  676654.00000  676654.000000  676654.000000   \n",
       "mean       94.720488     192.44153      58.757409     112.626100   \n",
       "std        11.145641      34.25217      14.969314      31.830963   \n",
       "min        63.000000      97.00000       1.000000       1.000000   \n",
       "25%        87.000000     168.00000      48.000000      90.000000   \n",
       "50%        94.000000     191.00000      57.000000     111.000000   \n",
       "75%       101.000000     215.00000      67.000000     133.000000   \n",
       "max       130.000000     292.00000     933.000000    1750.000000   \n",
       "\n",
       "        triglyceride     hemoglobin  serum_creatinine       SGOT_AST  \\\n",
       "count  676654.000000  676654.000000     676654.000000  676654.000000   \n",
       "mean      105.011242      13.968156          0.827369      22.006646   \n",
       "std        50.361684       1.527757          0.188520       5.596770   \n",
       "min         1.000000       1.000000          0.300000       6.000000   \n",
       "25%        67.000000      13.000000          0.700000      18.000000   \n",
       "50%        94.000000      13.900000          0.800000      21.000000   \n",
       "75%       132.000000      15.100000          1.000000      25.000000   \n",
       "max       272.000000      25.000000          1.400000      41.000000   \n",
       "\n",
       "            SGOT_ALT      gamma_GTP  \n",
       "count  676654.000000  676654.000000  \n",
       "mean       19.127022      22.095479  \n",
       "std         7.797004      10.720541  \n",
       "min         1.000000       1.000000  \n",
       "25%        13.000000      14.000000  \n",
       "50%        18.000000      19.000000  \n",
       "75%        23.000000      28.000000  \n",
       "max        44.000000      56.000000  "
      ]
     },
     "execution_count": 25,
     "metadata": {},
     "output_type": "execute_result"
    }
   ],
   "source": [
    "df_copy.describe()"
   ]
  },
  {
   "cell_type": "code",
   "execution_count": 50,
   "id": "5a40e0e5da80beb8",
   "metadata": {
    "ExecuteTime": {
     "end_time": "2023-10-26T16:43:50.992600700Z",
     "start_time": "2023-10-26T16:43:50.378743200Z"
    },
    "collapsed": false
   },
   "outputs": [],
   "source": [
    "df_copy = remove_outliers_from_columns(df_copy, ['waistline','SBP', 'DBP','BLDS','tot_chole','triglyceride','serum_creatinine','SGOT_AST', 'SGOT_ALT','sight_left','sight_right','gamma_GTP'])"
   ]
  },
  {
   "cell_type": "code",
   "execution_count": 27,
   "id": "66b80719e1c2a5a",
   "metadata": {
    "ExecuteTime": {
     "end_time": "2023-10-26T16:43:54.425559300Z",
     "start_time": "2023-10-26T16:43:54.191026600Z"
    },
    "collapsed": false
   },
   "outputs": [
    {
     "data": {
      "text/html": [
       "<div>\n",
       "<style scoped>\n",
       "    .dataframe tbody tr th:only-of-type {\n",
       "        vertical-align: middle;\n",
       "    }\n",
       "\n",
       "    .dataframe tbody tr th {\n",
       "        vertical-align: top;\n",
       "    }\n",
       "\n",
       "    .dataframe thead th {\n",
       "        text-align: right;\n",
       "    }\n",
       "</style>\n",
       "<table border=\"1\" class=\"dataframe\">\n",
       "  <thead>\n",
       "    <tr style=\"text-align: right;\">\n",
       "      <th></th>\n",
       "      <th>age</th>\n",
       "      <th>height</th>\n",
       "      <th>weight</th>\n",
       "      <th>waistline</th>\n",
       "      <th>sight_left</th>\n",
       "      <th>sight_right</th>\n",
       "      <th>SBP</th>\n",
       "      <th>DBP</th>\n",
       "      <th>BLDS</th>\n",
       "      <th>tot_chole</th>\n",
       "      <th>HDL_chole</th>\n",
       "      <th>LDL_chole</th>\n",
       "      <th>triglyceride</th>\n",
       "      <th>hemoglobin</th>\n",
       "      <th>serum_creatinine</th>\n",
       "      <th>SGOT_AST</th>\n",
       "      <th>SGOT_ALT</th>\n",
       "      <th>gamma_GTP</th>\n",
       "    </tr>\n",
       "  </thead>\n",
       "  <tbody>\n",
       "    <tr>\n",
       "      <th>count</th>\n",
       "      <td>573651.000000</td>\n",
       "      <td>573651.000000</td>\n",
       "      <td>573651.000000</td>\n",
       "      <td>573651.000000</td>\n",
       "      <td>573651.000000</td>\n",
       "      <td>573651.000000</td>\n",
       "      <td>573651.000000</td>\n",
       "      <td>573651.000000</td>\n",
       "      <td>573651.000000</td>\n",
       "      <td>573651.000000</td>\n",
       "      <td>573651.000000</td>\n",
       "      <td>573651.000000</td>\n",
       "      <td>573651.000000</td>\n",
       "      <td>573651.000000</td>\n",
       "      <td>573651.000000</td>\n",
       "      <td>573651.000000</td>\n",
       "      <td>573651.000000</td>\n",
       "      <td>573651.000000</td>\n",
       "    </tr>\n",
       "    <tr>\n",
       "      <th>mean</th>\n",
       "      <td>46.323357</td>\n",
       "      <td>160.955006</td>\n",
       "      <td>59.812952</td>\n",
       "      <td>78.142515</td>\n",
       "      <td>0.946419</td>\n",
       "      <td>0.943691</td>\n",
       "      <td>119.112279</td>\n",
       "      <td>73.912123</td>\n",
       "      <td>93.743605</td>\n",
       "      <td>191.479112</td>\n",
       "      <td>59.591089</td>\n",
       "      <td>112.161415</td>\n",
       "      <td>98.252654</td>\n",
       "      <td>13.861863</td>\n",
       "      <td>0.811364</td>\n",
       "      <td>21.275268</td>\n",
       "      <td>17.880037</td>\n",
       "      <td>19.977010</td>\n",
       "    </tr>\n",
       "    <tr>\n",
       "      <th>std</th>\n",
       "      <td>14.470566</td>\n",
       "      <td>9.077929</td>\n",
       "      <td>10.846816</td>\n",
       "      <td>8.725124</td>\n",
       "      <td>0.327462</td>\n",
       "      <td>0.327193</td>\n",
       "      <td>12.892416</td>\n",
       "      <td>8.579736</td>\n",
       "      <td>10.136665</td>\n",
       "      <td>33.300378</td>\n",
       "      <td>14.898888</td>\n",
       "      <td>31.045891</td>\n",
       "      <td>43.558670</td>\n",
       "      <td>1.511501</td>\n",
       "      <td>0.176734</td>\n",
       "      <td>4.956651</td>\n",
       "      <td>6.706855</td>\n",
       "      <td>8.431347</td>\n",
       "    </tr>\n",
       "    <tr>\n",
       "      <th>min</th>\n",
       "      <td>20.000000</td>\n",
       "      <td>130.000000</td>\n",
       "      <td>25.000000</td>\n",
       "      <td>54.000000</td>\n",
       "      <td>0.100000</td>\n",
       "      <td>0.100000</td>\n",
       "      <td>84.000000</td>\n",
       "      <td>54.000000</td>\n",
       "      <td>66.000000</td>\n",
       "      <td>100.000000</td>\n",
       "      <td>1.000000</td>\n",
       "      <td>1.000000</td>\n",
       "      <td>1.000000</td>\n",
       "      <td>1.000000</td>\n",
       "      <td>0.400000</td>\n",
       "      <td>8.000000</td>\n",
       "      <td>1.000000</td>\n",
       "      <td>1.000000</td>\n",
       "    </tr>\n",
       "    <tr>\n",
       "      <th>25%</th>\n",
       "      <td>35.000000</td>\n",
       "      <td>155.000000</td>\n",
       "      <td>50.000000</td>\n",
       "      <td>72.000000</td>\n",
       "      <td>0.700000</td>\n",
       "      <td>0.700000</td>\n",
       "      <td>110.000000</td>\n",
       "      <td>68.000000</td>\n",
       "      <td>87.000000</td>\n",
       "      <td>168.000000</td>\n",
       "      <td>49.000000</td>\n",
       "      <td>90.000000</td>\n",
       "      <td>65.000000</td>\n",
       "      <td>12.900000</td>\n",
       "      <td>0.700000</td>\n",
       "      <td>18.000000</td>\n",
       "      <td>13.000000</td>\n",
       "      <td>14.000000</td>\n",
       "    </tr>\n",
       "    <tr>\n",
       "      <th>50%</th>\n",
       "      <td>45.000000</td>\n",
       "      <td>160.000000</td>\n",
       "      <td>60.000000</td>\n",
       "      <td>78.000000</td>\n",
       "      <td>1.000000</td>\n",
       "      <td>1.000000</td>\n",
       "      <td>119.000000</td>\n",
       "      <td>74.000000</td>\n",
       "      <td>93.000000</td>\n",
       "      <td>190.000000</td>\n",
       "      <td>58.000000</td>\n",
       "      <td>111.000000</td>\n",
       "      <td>89.000000</td>\n",
       "      <td>13.800000</td>\n",
       "      <td>0.800000</td>\n",
       "      <td>21.000000</td>\n",
       "      <td>17.000000</td>\n",
       "      <td>18.000000</td>\n",
       "    </tr>\n",
       "    <tr>\n",
       "      <th>75%</th>\n",
       "      <td>55.000000</td>\n",
       "      <td>165.000000</td>\n",
       "      <td>65.000000</td>\n",
       "      <td>84.000000</td>\n",
       "      <td>1.200000</td>\n",
       "      <td>1.200000</td>\n",
       "      <td>129.000000</td>\n",
       "      <td>80.000000</td>\n",
       "      <td>100.000000</td>\n",
       "      <td>214.000000</td>\n",
       "      <td>68.000000</td>\n",
       "      <td>132.000000</td>\n",
       "      <td>124.000000</td>\n",
       "      <td>14.900000</td>\n",
       "      <td>0.900000</td>\n",
       "      <td>24.000000</td>\n",
       "      <td>22.000000</td>\n",
       "      <td>25.000000</td>\n",
       "    </tr>\n",
       "    <tr>\n",
       "      <th>max</th>\n",
       "      <td>85.000000</td>\n",
       "      <td>190.000000</td>\n",
       "      <td>120.000000</td>\n",
       "      <td>103.700000</td>\n",
       "      <td>1.900000</td>\n",
       "      <td>1.900000</td>\n",
       "      <td>159.000000</td>\n",
       "      <td>96.000000</td>\n",
       "      <td>122.000000</td>\n",
       "      <td>284.000000</td>\n",
       "      <td>933.000000</td>\n",
       "      <td>1750.000000</td>\n",
       "      <td>227.000000</td>\n",
       "      <td>25.000000</td>\n",
       "      <td>1.200000</td>\n",
       "      <td>35.000000</td>\n",
       "      <td>38.000000</td>\n",
       "      <td>44.000000</td>\n",
       "    </tr>\n",
       "  </tbody>\n",
       "</table>\n",
       "</div>"
      ],
      "text/plain": [
       "                 age         height         weight      waistline  \\\n",
       "count  573651.000000  573651.000000  573651.000000  573651.000000   \n",
       "mean       46.323357     160.955006      59.812952      78.142515   \n",
       "std        14.470566       9.077929      10.846816       8.725124   \n",
       "min        20.000000     130.000000      25.000000      54.000000   \n",
       "25%        35.000000     155.000000      50.000000      72.000000   \n",
       "50%        45.000000     160.000000      60.000000      78.000000   \n",
       "75%        55.000000     165.000000      65.000000      84.000000   \n",
       "max        85.000000     190.000000     120.000000     103.700000   \n",
       "\n",
       "          sight_left    sight_right            SBP            DBP  \\\n",
       "count  573651.000000  573651.000000  573651.000000  573651.000000   \n",
       "mean        0.946419       0.943691     119.112279      73.912123   \n",
       "std         0.327462       0.327193      12.892416       8.579736   \n",
       "min         0.100000       0.100000      84.000000      54.000000   \n",
       "25%         0.700000       0.700000     110.000000      68.000000   \n",
       "50%         1.000000       1.000000     119.000000      74.000000   \n",
       "75%         1.200000       1.200000     129.000000      80.000000   \n",
       "max         1.900000       1.900000     159.000000      96.000000   \n",
       "\n",
       "                BLDS      tot_chole      HDL_chole      LDL_chole  \\\n",
       "count  573651.000000  573651.000000  573651.000000  573651.000000   \n",
       "mean       93.743605     191.479112      59.591089     112.161415   \n",
       "std        10.136665      33.300378      14.898888      31.045891   \n",
       "min        66.000000     100.000000       1.000000       1.000000   \n",
       "25%        87.000000     168.000000      49.000000      90.000000   \n",
       "50%        93.000000     190.000000      58.000000     111.000000   \n",
       "75%       100.000000     214.000000      68.000000     132.000000   \n",
       "max       122.000000     284.000000     933.000000    1750.000000   \n",
       "\n",
       "        triglyceride     hemoglobin  serum_creatinine       SGOT_AST  \\\n",
       "count  573651.000000  573651.000000     573651.000000  573651.000000   \n",
       "mean       98.252654      13.861863          0.811364      21.275268   \n",
       "std        43.558670       1.511501          0.176734       4.956651   \n",
       "min         1.000000       1.000000          0.400000       8.000000   \n",
       "25%        65.000000      12.900000          0.700000      18.000000   \n",
       "50%        89.000000      13.800000          0.800000      21.000000   \n",
       "75%       124.000000      14.900000          0.900000      24.000000   \n",
       "max       227.000000      25.000000          1.200000      35.000000   \n",
       "\n",
       "            SGOT_ALT      gamma_GTP  \n",
       "count  573651.000000  573651.000000  \n",
       "mean       17.880037      19.977010  \n",
       "std         6.706855       8.431347  \n",
       "min         1.000000       1.000000  \n",
       "25%        13.000000      14.000000  \n",
       "50%        17.000000      18.000000  \n",
       "75%        22.000000      25.000000  \n",
       "max        38.000000      44.000000  "
      ]
     },
     "execution_count": 27,
     "metadata": {},
     "output_type": "execute_result"
    }
   ],
   "source": [
    "df_copy.describe()"
   ]
  },
  {
   "cell_type": "markdown",
   "id": "6f50189ec4d3f6a",
   "metadata": {
    "collapsed": false
   },
   "source": [
    "## Remove Duplicates\n",
    "---"
   ]
  },
  {
   "cell_type": "code",
   "execution_count": 51,
   "id": "7117fe644664da0d",
   "metadata": {
    "ExecuteTime": {
     "end_time": "2023-10-26T16:43:56.788265900Z",
     "start_time": "2023-10-26T16:43:56.598679600Z"
    },
    "collapsed": false
   },
   "outputs": [
    {
     "data": {
      "text/plain": [
       "'Number of duplicates: 14'"
      ]
     },
     "execution_count": 51,
     "metadata": {},
     "output_type": "execute_result"
    }
   ],
   "source": [
    "duplicate_data(df_copy)"
   ]
  },
  {
   "cell_type": "markdown",
   "id": "1d486ba5aa6421fe",
   "metadata": {
    "collapsed": false
   },
   "source": [
    "## Impute Missing Values \n",
    "---"
   ]
  },
  {
   "cell_type": "code",
   "execution_count": 52,
   "id": "39131a55ca7c6ab1",
   "metadata": {
    "ExecuteTime": {
     "end_time": "2023-10-26T16:48:28.073225400Z",
     "start_time": "2023-10-26T16:48:27.886255Z"
    },
    "collapsed": false
   },
   "outputs": [
    {
     "data": {
      "text/plain": [
       "'Percentage of missing values: 0.00%'"
      ]
     },
     "execution_count": 52,
     "metadata": {},
     "output_type": "execute_result"
    }
   ],
   "source": [
    "percentage_missing_values(df_copy)"
   ]
  },
  {
   "cell_type": "markdown",
   "id": "6d519c23b80ce6ad",
   "metadata": {
    "collapsed": false
   },
   "source": [
    "# Create Variable Mappings\n",
    "---"
   ]
  },
  {
   "cell_type": "code",
   "execution_count": 30,
   "id": "65045f220b47faf7",
   "metadata": {
    "ExecuteTime": {
     "end_time": "2023-10-26T16:45:06.242388700Z",
     "start_time": "2023-10-26T16:45:06.131906800Z"
    },
    "collapsed": false
   },
   "outputs": [],
   "source": [
    "\"\"\"df_copy['SMK_stat_type_cd'] = df_copy['SMK_stat_type_cd'].map({1: 'N', 2: 'Q', 3: 'S'}) # Smoking state, 1(never) = N , 2(used to smoke but quit) = Q, 3(still smoke) = S\n",
    "df_copy['hear_left'] = df_copy['hear_left'].map({1: 'Normal', 2: 'Abnormal'})\n",
    "df_copy['hear_right'] = df_copy['hear_right'].map({1: 'Normal', 2: 'Abnormal'})\n",
    "df_copy['urine_protein'] = df_copy['urine_protein'].map({1: '-', 2: '+/-', 3: '+1', 4: '+2', 5: '+3', 6: '+4'})\"\"\""
   ]
  },
  {
   "cell_type": "code",
   "execution_count": 31,
   "id": "ada96391d295c6d5",
   "metadata": {
    "ExecuteTime": {
     "end_time": "2023-10-26T16:45:08.405027900Z",
     "start_time": "2023-10-26T16:45:08.367125700Z"
    },
    "collapsed": false
   },
   "outputs": [
    {
     "name": "stdout",
     "output_type": "stream",
     "text": [
      "Index(['sex', 'hear_left', 'hear_right', 'urine_protein', 'SMK_stat_type_cd',\n",
      "       'DRK_YN'],\n",
      "      dtype='object')\n"
     ]
    }
   ],
   "source": [
    "\"\"\"print(df_copy.select_dtypes(include=[object,bool]).columns)\"\"\""
   ]
  },
  {
   "cell_type": "code",
   "execution_count": 32,
   "id": "411c5c40",
   "metadata": {
    "ExecuteTime": {
     "end_time": "2023-10-25T13:05:15.812122Z",
     "start_time": "2023-10-25T13:05:15.674777400Z"
    }
   },
   "outputs": [
    {
     "name": "stdout",
     "output_type": "stream",
     "text": [
      "<class 'pandas.core.frame.DataFrame'>\n",
      "Index: 573651 entries, 0 to 991344\n",
      "Data columns (total 24 columns):\n",
      " #   Column            Non-Null Count   Dtype  \n",
      "---  ------            --------------   -----  \n",
      " 0   sex               573651 non-null  object \n",
      " 1   age               573651 non-null  int64  \n",
      " 2   height            573651 non-null  int64  \n",
      " 3   weight            573651 non-null  int64  \n",
      " 4   waistline         573651 non-null  float64\n",
      " 5   sight_left        573651 non-null  float64\n",
      " 6   sight_right       573651 non-null  float64\n",
      " 7   hear_left         0 non-null       object \n",
      " 8   hear_right        0 non-null       object \n",
      " 9   SBP               573651 non-null  float64\n",
      " 10  DBP               573651 non-null  float64\n",
      " 11  BLDS              573651 non-null  float64\n",
      " 12  tot_chole         573651 non-null  float64\n",
      " 13  HDL_chole         573651 non-null  float64\n",
      " 14  LDL_chole         573651 non-null  float64\n",
      " 15  triglyceride      573651 non-null  float64\n",
      " 16  hemoglobin        573651 non-null  float64\n",
      " 17  urine_protein     0 non-null       object \n",
      " 18  serum_creatinine  573651 non-null  float64\n",
      " 19  SGOT_AST          573651 non-null  float64\n",
      " 20  SGOT_ALT          573651 non-null  float64\n",
      " 21  gamma_GTP         573651 non-null  float64\n",
      " 22  SMK_stat_type_cd  0 non-null       object \n",
      " 23  DRK_YN            573651 non-null  object \n",
      "dtypes: float64(15), int64(3), object(6)\n",
      "memory usage: 109.4+ MB\n"
     ]
    }
   ],
   "source": [
    "\"\"\"df_copy.info()\"\"\""
   ]
  },
  {
   "cell_type": "markdown",
   "id": "b74b8f0b",
   "metadata": {},
   "source": [
    "### Modeling with One Hot Encoding"
   ]
  },
  {
   "cell_type": "code",
   "execution_count": 33,
   "id": "27aa8ccb",
   "metadata": {
    "ExecuteTime": {
     "end_time": "2023-10-25T13:05:16.761868600Z",
     "start_time": "2023-10-25T13:05:15.812122Z"
    }
   },
   "outputs": [],
   "source": [
    "import random\n",
    "from sklearn.metrics import mean_squared_error, r2_score\n",
    "import statsmodels.api as sm\n",
    "from sklearn.impute import SimpleImputer\n",
    "from sklearn.model_selection import train_test_split\n",
    "from sklearn.linear_model import LinearRegression\n",
    "from sklearn.neighbors import KNeighborsClassifier, KNeighborsRegressor\n",
    "from sklearn.linear_model import LogisticRegression\n",
    "from sklearn.compose import make_column_transformer\n",
    "from sklearn.pipeline import make_pipeline\n",
    "from sklearn.preprocessing import OneHotEncoder, StandardScaler\n",
    "from sklearn.metrics import accuracy_score, precision_score, f1_score, recall_score, r2_score, mean_squared_error\n",
    "import matplotlib.pyplot as plt\n",
    "import seaborn \n",
    "%matplotlib inline"
   ]
  },
  {
   "cell_type": "code",
   "execution_count": 53,
   "id": "067bea91",
   "metadata": {
    "ExecuteTime": {
     "end_time": "2023-10-25T13:08:32.077726500Z",
     "start_time": "2023-10-25T13:08:31.849830200Z"
    }
   },
   "outputs": [],
   "source": [
    "categ = df_copy.select_dtypes(include=[\"object\", \"category\"]).columns.to_list()\n",
    "num = df_copy.select_dtypes(exclude=[\"object\", \"category\"]).columns.to_list()\n",
    "\n",
    "num.remove('SMK_stat_type_cd')\n",
    "preprocessor = make_column_transformer(\n",
    "        (OneHotEncoder(), categ),\n",
    "        (StandardScaler(), num)\n",
    "    )\n"
   ]
  },
  {
   "cell_type": "markdown",
   "id": "71c4259b",
   "metadata": {},
   "source": [
    "Classifier Function"
   ]
  },
  {
   "cell_type": "code",
   "execution_count": 54,
   "id": "aa00ca91",
   "metadata": {
    "ExecuteTime": {
     "end_time": "2023-10-25T13:10:02.037091700Z",
     "start_time": "2023-10-25T13:10:01.332085900Z"
    }
   },
   "outputs": [],
   "source": [
    "def evaluate_classifier_metrics(classifier, X_train, y_train, X_test, y_test):\n",
    "\n",
    "    classifier.fit(X_train, y_train)\n",
    "\n",
    "    test_predictions = classifier.predict(X_test)\n",
    "    train_predictions = classifier.predict(X_train)\n",
    "    print('Train Set Classification Results:')\n",
    "    print(classification_report(y_train,train_predictions))\n",
    "    print('\\nTest Set Classification Results:')\n",
    "    print(classification_report(y_test,test_predictions))"
   ]
  },
  {
   "cell_type": "markdown",
   "id": "3ab008e4",
   "metadata": {},
   "source": [
    "KNN Classifier"
   ]
  },
  {
   "cell_type": "code",
   "execution_count": 55,
   "id": "f2ed64c7",
   "metadata": {},
   "outputs": [],
   "source": [
    "from sklearn.neighbors import KNeighborsClassifier\n",
    "from sklearn.linear_model import LogisticRegression\n",
    "\n",
    "X = df_copy.drop('SMK_stat_type_cd',axis=1)\n",
    "y = df_copy['SMK_stat_type_cd'] \n",
    "\n",
    "X = preprocessor.fit_transform(X)\n",
    "knn_classifier = KNeighborsClassifier(n_neighbors=4)\n",
    "X_train,X_test,y_train,y_test = train_test_split(X,y,test_size=0.2, random_state=42)\n",
    "knn_metrics = evaluate_classifier_metrics(knn_classifier, X_train, y_train, X_test, y_test)"
   ]
  },
  {
   "cell_type": "markdown",
   "id": "0ce88f28",
   "metadata": {},
   "source": [
    "Logistic Regression"
   ]
  },
  {
   "cell_type": "code",
   "execution_count": null,
   "id": "ec3c9a93",
   "metadata": {},
   "outputs": [],
   "source": [
    "logistic_classifier = LogisticRegression()\n",
    "logistic_metrics = evaluate_classifier_metrics(logistic_classifier, X_train, y_train, X_test, y_test)\n",
    "print(\"Logistic Regression Metrics:\")"
   ]
  },
  {
   "cell_type": "code",
   "execution_count": null,
   "id": "595b2333",
   "metadata": {},
   "outputs": [],
   "source": []
  }
 ],
 "metadata": {
  "kernelspec": {
   "display_name": "Python 3",
   "language": "python",
   "name": "python3"
  },
  "language_info": {
   "codemirror_mode": {
    "name": "ipython",
    "version": 3
   },
   "file_extension": ".py",
   "mimetype": "text/x-python",
   "name": "python",
   "nbconvert_exporter": "python",
   "pygments_lexer": "ipython3",
   "version": "3.11.5"
  }
 },
 "nbformat": 4,
 "nbformat_minor": 5
}
