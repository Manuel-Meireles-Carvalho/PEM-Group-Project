{
 "cells": [
  {
   "cell_type": "markdown",
   "id": "bb08688220941b02",
   "metadata": {
    "collapsed": false
   },
   "source": [
    "# Imports\n",
    "---"
   ]
  },
  {
   "cell_type": "code",
   "execution_count": 233,
   "id": "f724c2898314d50b",
   "metadata": {
    "collapsed": false,
    "ExecuteTime": {
     "end_time": "2023-10-31T15:38:42.730832400Z",
     "start_time": "2023-10-31T15:38:42.597085Z"
    }
   },
   "outputs": [],
   "source": [
    "import pandas as pd\n",
    "import numpy as np\n",
    "import math"
   ]
  },
  {
   "cell_type": "markdown",
   "id": "2479f5d060f9caa7",
   "metadata": {
    "collapsed": false
   },
   "source": [
    "# Import Dataset\n",
    "---\n",
    "**Column Description (Data Source: [Smoking and Drinking Dataset with body signal on Kaggle](https://www.kaggle.com/datasets/sooyoungher/smoking-drinking-dataset/data))**\n",
    "\n",
    "- Sex - male, female\n",
    "- Age - round up to 5 year\n",
    "- Height - round up to 5 cm[cm]\n",
    "- Weight [kg]\n",
    "- Waistline\n",
    "- Sight_left - eyesight(left) the column shows how well the left eye sees, where perfect vision = 1.0\n",
    "- Sight_right - eyesight(right) the column shows how well the right eye sees where perfect vision = 1.0\n",
    "- Hear_left - hearing left, 1(normal), 2(abnormal)\n",
    "- Hear_right - hearing right, 1(normal), 2(abnormal)\n",
    "- SBP - Systolic blood pressure[mmHg]\n",
    "- DBP - Diastolic blood pressure[mmHg]\n",
    "- BLDS - BLDS or FSG(fasting blood glucose)[mg/dL]\n",
    "- Tot_chole - total cholesterol[mg/dL]\n",
    "- HDL_chole - HDL cholesterol[mg/dL] - the only fraction of cholesterol that is called \"good\", \"useful\" cholesterol.\n",
    "- LDL_chole - LDL cholesterol[mg/dL]\n",
    "- Triglyceride - triglyceride[mg/dL]\n",
    "- Hemoglobin - hemoglobin[g/dL]\n",
    "- Urine_protein - protein in urine, 1(-), 2(+/-), 3(+1), 4(+2), 5(+3), 6(+4)\n",
    "- Serum_creatinine - serum(blood) creatinine[mg/dL]\n",
    "- SGOT_AST - SGOT(Glutamate-oxaloacetate transaminase) AST(Aspartate transaminase)[IU/L]\n",
    "- SGOT_ALT - ALT(Alanine transaminase)[IU/L]\n",
    "- Gamma_GTP - y-glutamyl transpeptidase[IU/L]\n",
    "- SMK_stat_type_cd - Smoking state, 1(never), 2(used to smoke but quit), 3(still smoke)\n",
    "- DRK_YN - Drinker or Not\n"
   ]
  },
  {
   "cell_type": "code",
   "execution_count": 234,
   "id": "f805d021",
   "metadata": {
    "ExecuteTime": {
     "end_time": "2023-10-31T15:38:42.778108200Z",
     "start_time": "2023-10-31T15:38:42.612285800Z"
    }
   },
   "outputs": [],
   "source": [
    "def percentage_missing_values(data):\n",
    "    total_cells = np.product(data.shape)\n",
    "\n",
    "    missing_cells = data.isnull().sum().sum()\n",
    "\n",
    "    percentage_missing = (missing_cells / total_cells) * 100\n",
    "    return f\"Percentage of missing values: {percentage_missing:.2f}%\""
   ]
  },
  {
   "cell_type": "code",
   "execution_count": 263,
   "id": "5bfeb1e3f35d16c",
   "metadata": {
    "collapsed": false,
    "ExecuteTime": {
     "end_time": "2023-10-31T15:44:55.563726Z",
     "start_time": "2023-10-31T15:44:54.544161100Z"
    }
   },
   "outputs": [
    {
     "data": {
      "text/plain": "    sex  age  height  weight  waistline  sight_left  sight_right  hear_left  \\\n0  Male   35     170      75       90.0         1.0          1.0        1.0   \n1  Male   30     180      80       89.0         0.9          1.2        1.0   \n2  Male   40     165      75       91.0         1.2          1.5        1.0   \n3  Male   50     175      80       91.0         1.5          1.2        1.0   \n4  Male   50     165      60       80.0         1.0          1.2        1.0   \n\n   hear_right    SBP  ...  LDL_chole  triglyceride  hemoglobin  urine_protein  \\\n0         1.0  120.0  ...      126.0          92.0        17.1            1.0   \n1         1.0  130.0  ...      148.0         121.0        15.8            1.0   \n2         1.0  120.0  ...       74.0         104.0        15.8            1.0   \n3         1.0  145.0  ...      104.0         106.0        17.6            1.0   \n4         1.0  138.0  ...      117.0         104.0        13.8            1.0   \n\n   serum_creatinine  SGOT_AST  SGOT_ALT  gamma_GTP  SMK_stat_type_cd  DRK_YN  \n0               1.0      21.0      35.0       40.0               1.0       Y  \n1               0.9      20.0      36.0       27.0               3.0       N  \n2               0.9      47.0      32.0       68.0               1.0       N  \n3               1.1      29.0      34.0       18.0               1.0       N  \n4               0.8      19.0      12.0       25.0               1.0       N  \n\n[5 rows x 24 columns]",
      "text/html": "<div>\n<style scoped>\n    .dataframe tbody tr th:only-of-type {\n        vertical-align: middle;\n    }\n\n    .dataframe tbody tr th {\n        vertical-align: top;\n    }\n\n    .dataframe thead th {\n        text-align: right;\n    }\n</style>\n<table border=\"1\" class=\"dataframe\">\n  <thead>\n    <tr style=\"text-align: right;\">\n      <th></th>\n      <th>sex</th>\n      <th>age</th>\n      <th>height</th>\n      <th>weight</th>\n      <th>waistline</th>\n      <th>sight_left</th>\n      <th>sight_right</th>\n      <th>hear_left</th>\n      <th>hear_right</th>\n      <th>SBP</th>\n      <th>...</th>\n      <th>LDL_chole</th>\n      <th>triglyceride</th>\n      <th>hemoglobin</th>\n      <th>urine_protein</th>\n      <th>serum_creatinine</th>\n      <th>SGOT_AST</th>\n      <th>SGOT_ALT</th>\n      <th>gamma_GTP</th>\n      <th>SMK_stat_type_cd</th>\n      <th>DRK_YN</th>\n    </tr>\n  </thead>\n  <tbody>\n    <tr>\n      <th>0</th>\n      <td>Male</td>\n      <td>35</td>\n      <td>170</td>\n      <td>75</td>\n      <td>90.0</td>\n      <td>1.0</td>\n      <td>1.0</td>\n      <td>1.0</td>\n      <td>1.0</td>\n      <td>120.0</td>\n      <td>...</td>\n      <td>126.0</td>\n      <td>92.0</td>\n      <td>17.1</td>\n      <td>1.0</td>\n      <td>1.0</td>\n      <td>21.0</td>\n      <td>35.0</td>\n      <td>40.0</td>\n      <td>1.0</td>\n      <td>Y</td>\n    </tr>\n    <tr>\n      <th>1</th>\n      <td>Male</td>\n      <td>30</td>\n      <td>180</td>\n      <td>80</td>\n      <td>89.0</td>\n      <td>0.9</td>\n      <td>1.2</td>\n      <td>1.0</td>\n      <td>1.0</td>\n      <td>130.0</td>\n      <td>...</td>\n      <td>148.0</td>\n      <td>121.0</td>\n      <td>15.8</td>\n      <td>1.0</td>\n      <td>0.9</td>\n      <td>20.0</td>\n      <td>36.0</td>\n      <td>27.0</td>\n      <td>3.0</td>\n      <td>N</td>\n    </tr>\n    <tr>\n      <th>2</th>\n      <td>Male</td>\n      <td>40</td>\n      <td>165</td>\n      <td>75</td>\n      <td>91.0</td>\n      <td>1.2</td>\n      <td>1.5</td>\n      <td>1.0</td>\n      <td>1.0</td>\n      <td>120.0</td>\n      <td>...</td>\n      <td>74.0</td>\n      <td>104.0</td>\n      <td>15.8</td>\n      <td>1.0</td>\n      <td>0.9</td>\n      <td>47.0</td>\n      <td>32.0</td>\n      <td>68.0</td>\n      <td>1.0</td>\n      <td>N</td>\n    </tr>\n    <tr>\n      <th>3</th>\n      <td>Male</td>\n      <td>50</td>\n      <td>175</td>\n      <td>80</td>\n      <td>91.0</td>\n      <td>1.5</td>\n      <td>1.2</td>\n      <td>1.0</td>\n      <td>1.0</td>\n      <td>145.0</td>\n      <td>...</td>\n      <td>104.0</td>\n      <td>106.0</td>\n      <td>17.6</td>\n      <td>1.0</td>\n      <td>1.1</td>\n      <td>29.0</td>\n      <td>34.0</td>\n      <td>18.0</td>\n      <td>1.0</td>\n      <td>N</td>\n    </tr>\n    <tr>\n      <th>4</th>\n      <td>Male</td>\n      <td>50</td>\n      <td>165</td>\n      <td>60</td>\n      <td>80.0</td>\n      <td>1.0</td>\n      <td>1.2</td>\n      <td>1.0</td>\n      <td>1.0</td>\n      <td>138.0</td>\n      <td>...</td>\n      <td>117.0</td>\n      <td>104.0</td>\n      <td>13.8</td>\n      <td>1.0</td>\n      <td>0.8</td>\n      <td>19.0</td>\n      <td>12.0</td>\n      <td>25.0</td>\n      <td>1.0</td>\n      <td>N</td>\n    </tr>\n  </tbody>\n</table>\n<p>5 rows × 24 columns</p>\n</div>"
     },
     "execution_count": 263,
     "metadata": {},
     "output_type": "execute_result"
    }
   ],
   "source": [
    "df = pd.read_csv('data/sd.csv')\n",
    "df_copy = df.copy()\n",
    "df_copy.head()"
   ]
  },
  {
   "cell_type": "code",
   "execution_count": 236,
   "id": "6b8ff308",
   "metadata": {
    "ExecuteTime": {
     "end_time": "2023-10-31T15:38:49.373455100Z",
     "start_time": "2023-10-31T15:38:49.226630300Z"
    }
   },
   "outputs": [
    {
     "data": {
      "text/plain": "'Percentage of missing values: 0.00%'"
     },
     "execution_count": 236,
     "metadata": {},
     "output_type": "execute_result"
    }
   ],
   "source": [
    "percentage_missing_values(df_copy)"
   ]
  },
  {
   "cell_type": "markdown",
   "id": "572ce6ac156f3cc2",
   "metadata": {
    "collapsed": false
   },
   "source": [
    "# Useful functions\n",
    "---"
   ]
  },
  {
   "cell_type": "code",
   "execution_count": 237,
   "id": "b6cee908add2d907",
   "metadata": {
    "collapsed": false,
    "ExecuteTime": {
     "end_time": "2023-10-31T15:38:49.377064900Z",
     "start_time": "2023-10-31T15:38:49.373455100Z"
    }
   },
   "outputs": [],
   "source": [
    "def remove_outliers_from_columns(df, column_names):\n",
    "\n",
    "    for column_name in column_names:\n",
    "        # Calculate Q1, Q3, and IQR\n",
    "        Q1 = df[column_name].quantile(0.25)\n",
    "        Q3 = df[column_name].quantile(0.75)\n",
    "        IQR = Q3 - Q1\n",
    "\n",
    "        # Define bounds\n",
    "        lower_bound = Q1 - 1.5 * IQR\n",
    "        upper_bound = Q3 + 1.5 * IQR\n",
    "\n",
    "        # Filter out outliers\n",
    "        df = df[(df[column_name] >= lower_bound) & (df[column_name] <= upper_bound)]\n",
    "\n",
    "    return df\n",
    "\n"
   ]
  },
  {
   "cell_type": "code",
   "execution_count": 238,
   "id": "ef7abcc13a93e2c1",
   "metadata": {
    "collapsed": false,
    "ExecuteTime": {
     "end_time": "2023-10-31T15:38:49.386567300Z",
     "start_time": "2023-10-31T15:38:49.377064900Z"
    }
   },
   "outputs": [],
   "source": [
    "def percentage_missing_values(data):\n",
    "    total_cells = np.product(data.shape)\n",
    "\n",
    "    missing_cells = data.isnull().sum().sum()\n",
    "\n",
    "    percentage_missing = (missing_cells / total_cells) * 100\n",
    "    return f\"Percentage of missing values: {percentage_missing:.2f}%\"\n"
   ]
  },
  {
   "cell_type": "code",
   "execution_count": 239,
   "id": "89898db7d78630fe",
   "metadata": {
    "collapsed": false,
    "ExecuteTime": {
     "end_time": "2023-10-31T15:38:49.396610400Z",
     "start_time": "2023-10-31T15:38:49.386567300Z"
    }
   },
   "outputs": [],
   "source": [
    "def duplicate_data(data):\n",
    "\n",
    "    duplicates_cells = data[data.duplicated].shape\n",
    "    \n",
    "    return f\"Number of duplicates: {duplicates_cells[0]}\""
   ]
  },
  {
   "cell_type": "markdown",
   "id": "a469278eea16bc70",
   "metadata": {
    "collapsed": false
   },
   "source": [
    "# Clean data\n",
    "---\n",
    "- Remove outliers\n",
    "- Remove duplicates\n",
    "- impute missing values"
   ]
  },
  {
   "cell_type": "markdown",
   "id": "cd2d1a62ddf0b8ac",
   "metadata": {
    "collapsed": false
   },
   "source": [
    "## Remove Outliers\n",
    "---"
   ]
  },
  {
   "cell_type": "code",
   "execution_count": 240,
   "id": "65fa1f8b0e1ae50",
   "metadata": {
    "collapsed": false,
    "ExecuteTime": {
     "end_time": "2023-10-31T15:38:49.807229200Z",
     "start_time": "2023-10-31T15:38:49.389067400Z"
    }
   },
   "outputs": [
    {
     "data": {
      "text/plain": "                 age         height         weight      waistline  \\\ncount  991346.000000  991346.000000  991346.000000  991346.000000   \nmean       47.614491     162.240625      63.284050      81.233358   \nstd        14.181339       9.282957      12.514241      11.850323   \nmin        20.000000     130.000000      25.000000       8.000000   \n25%        35.000000     155.000000      55.000000      74.100000   \n50%        45.000000     160.000000      60.000000      81.000000   \n75%        60.000000     170.000000      70.000000      87.800000   \nmax        85.000000     190.000000     140.000000     999.000000   \n\n          sight_left    sight_right      hear_left     hear_right  \\\ncount  991346.000000  991346.000000  991346.000000  991346.000000   \nmean        0.980834       0.978429       1.031495       1.030476   \nstd         0.605949       0.604774       0.174650       0.171892   \nmin         0.100000       0.100000       1.000000       1.000000   \n25%         0.700000       0.700000       1.000000       1.000000   \n50%         1.000000       1.000000       1.000000       1.000000   \n75%         1.200000       1.200000       1.000000       1.000000   \nmax         9.900000       9.900000       2.000000       2.000000   \n\n                 SBP            DBP  ...      HDL_chole      LDL_chole  \\\ncount  991346.000000  991346.000000  ...  991346.000000  991346.000000   \nmean      122.432498      76.052627  ...      56.936800     113.037692   \nstd        14.543148       9.889365  ...      17.238479      35.842812   \nmin        67.000000      32.000000  ...       1.000000       1.000000   \n25%       112.000000      70.000000  ...      46.000000      89.000000   \n50%       120.000000      76.000000  ...      55.000000     111.000000   \n75%       131.000000      82.000000  ...      66.000000     135.000000   \nmax       273.000000     185.000000  ...    8110.000000    5119.000000   \n\n        triglyceride     hemoglobin  urine_protein  serum_creatinine  \\\ncount  991346.000000  991346.000000  991346.000000     991346.000000   \nmean      132.141751      14.229824       1.094224          0.860467   \nstd       102.196985       1.584929       0.437724          0.480530   \nmin         1.000000       1.000000       1.000000          0.100000   \n25%        73.000000      13.200000       1.000000          0.700000   \n50%       106.000000      14.300000       1.000000          0.800000   \n75%       159.000000      15.400000       1.000000          1.000000   \nmax      9490.000000      25.000000       6.000000         98.000000   \n\n            SGOT_AST       SGOT_ALT      gamma_GTP  SMK_stat_type_cd  \ncount  991346.000000  991346.000000  991346.000000     991346.000000  \nmean       25.989308      25.755051      37.136347          1.608122  \nstd        23.493386      26.308599      50.424153          0.818507  \nmin         1.000000       1.000000       1.000000          1.000000  \n25%        19.000000      15.000000      16.000000          1.000000  \n50%        23.000000      20.000000      23.000000          1.000000  \n75%        28.000000      29.000000      39.000000          2.000000  \nmax      9999.000000    7210.000000     999.000000          3.000000  \n\n[8 rows x 22 columns]",
      "text/html": "<div>\n<style scoped>\n    .dataframe tbody tr th:only-of-type {\n        vertical-align: middle;\n    }\n\n    .dataframe tbody tr th {\n        vertical-align: top;\n    }\n\n    .dataframe thead th {\n        text-align: right;\n    }\n</style>\n<table border=\"1\" class=\"dataframe\">\n  <thead>\n    <tr style=\"text-align: right;\">\n      <th></th>\n      <th>age</th>\n      <th>height</th>\n      <th>weight</th>\n      <th>waistline</th>\n      <th>sight_left</th>\n      <th>sight_right</th>\n      <th>hear_left</th>\n      <th>hear_right</th>\n      <th>SBP</th>\n      <th>DBP</th>\n      <th>...</th>\n      <th>HDL_chole</th>\n      <th>LDL_chole</th>\n      <th>triglyceride</th>\n      <th>hemoglobin</th>\n      <th>urine_protein</th>\n      <th>serum_creatinine</th>\n      <th>SGOT_AST</th>\n      <th>SGOT_ALT</th>\n      <th>gamma_GTP</th>\n      <th>SMK_stat_type_cd</th>\n    </tr>\n  </thead>\n  <tbody>\n    <tr>\n      <th>count</th>\n      <td>991346.000000</td>\n      <td>991346.000000</td>\n      <td>991346.000000</td>\n      <td>991346.000000</td>\n      <td>991346.000000</td>\n      <td>991346.000000</td>\n      <td>991346.000000</td>\n      <td>991346.000000</td>\n      <td>991346.000000</td>\n      <td>991346.000000</td>\n      <td>...</td>\n      <td>991346.000000</td>\n      <td>991346.000000</td>\n      <td>991346.000000</td>\n      <td>991346.000000</td>\n      <td>991346.000000</td>\n      <td>991346.000000</td>\n      <td>991346.000000</td>\n      <td>991346.000000</td>\n      <td>991346.000000</td>\n      <td>991346.000000</td>\n    </tr>\n    <tr>\n      <th>mean</th>\n      <td>47.614491</td>\n      <td>162.240625</td>\n      <td>63.284050</td>\n      <td>81.233358</td>\n      <td>0.980834</td>\n      <td>0.978429</td>\n      <td>1.031495</td>\n      <td>1.030476</td>\n      <td>122.432498</td>\n      <td>76.052627</td>\n      <td>...</td>\n      <td>56.936800</td>\n      <td>113.037692</td>\n      <td>132.141751</td>\n      <td>14.229824</td>\n      <td>1.094224</td>\n      <td>0.860467</td>\n      <td>25.989308</td>\n      <td>25.755051</td>\n      <td>37.136347</td>\n      <td>1.608122</td>\n    </tr>\n    <tr>\n      <th>std</th>\n      <td>14.181339</td>\n      <td>9.282957</td>\n      <td>12.514241</td>\n      <td>11.850323</td>\n      <td>0.605949</td>\n      <td>0.604774</td>\n      <td>0.174650</td>\n      <td>0.171892</td>\n      <td>14.543148</td>\n      <td>9.889365</td>\n      <td>...</td>\n      <td>17.238479</td>\n      <td>35.842812</td>\n      <td>102.196985</td>\n      <td>1.584929</td>\n      <td>0.437724</td>\n      <td>0.480530</td>\n      <td>23.493386</td>\n      <td>26.308599</td>\n      <td>50.424153</td>\n      <td>0.818507</td>\n    </tr>\n    <tr>\n      <th>min</th>\n      <td>20.000000</td>\n      <td>130.000000</td>\n      <td>25.000000</td>\n      <td>8.000000</td>\n      <td>0.100000</td>\n      <td>0.100000</td>\n      <td>1.000000</td>\n      <td>1.000000</td>\n      <td>67.000000</td>\n      <td>32.000000</td>\n      <td>...</td>\n      <td>1.000000</td>\n      <td>1.000000</td>\n      <td>1.000000</td>\n      <td>1.000000</td>\n      <td>1.000000</td>\n      <td>0.100000</td>\n      <td>1.000000</td>\n      <td>1.000000</td>\n      <td>1.000000</td>\n      <td>1.000000</td>\n    </tr>\n    <tr>\n      <th>25%</th>\n      <td>35.000000</td>\n      <td>155.000000</td>\n      <td>55.000000</td>\n      <td>74.100000</td>\n      <td>0.700000</td>\n      <td>0.700000</td>\n      <td>1.000000</td>\n      <td>1.000000</td>\n      <td>112.000000</td>\n      <td>70.000000</td>\n      <td>...</td>\n      <td>46.000000</td>\n      <td>89.000000</td>\n      <td>73.000000</td>\n      <td>13.200000</td>\n      <td>1.000000</td>\n      <td>0.700000</td>\n      <td>19.000000</td>\n      <td>15.000000</td>\n      <td>16.000000</td>\n      <td>1.000000</td>\n    </tr>\n    <tr>\n      <th>50%</th>\n      <td>45.000000</td>\n      <td>160.000000</td>\n      <td>60.000000</td>\n      <td>81.000000</td>\n      <td>1.000000</td>\n      <td>1.000000</td>\n      <td>1.000000</td>\n      <td>1.000000</td>\n      <td>120.000000</td>\n      <td>76.000000</td>\n      <td>...</td>\n      <td>55.000000</td>\n      <td>111.000000</td>\n      <td>106.000000</td>\n      <td>14.300000</td>\n      <td>1.000000</td>\n      <td>0.800000</td>\n      <td>23.000000</td>\n      <td>20.000000</td>\n      <td>23.000000</td>\n      <td>1.000000</td>\n    </tr>\n    <tr>\n      <th>75%</th>\n      <td>60.000000</td>\n      <td>170.000000</td>\n      <td>70.000000</td>\n      <td>87.800000</td>\n      <td>1.200000</td>\n      <td>1.200000</td>\n      <td>1.000000</td>\n      <td>1.000000</td>\n      <td>131.000000</td>\n      <td>82.000000</td>\n      <td>...</td>\n      <td>66.000000</td>\n      <td>135.000000</td>\n      <td>159.000000</td>\n      <td>15.400000</td>\n      <td>1.000000</td>\n      <td>1.000000</td>\n      <td>28.000000</td>\n      <td>29.000000</td>\n      <td>39.000000</td>\n      <td>2.000000</td>\n    </tr>\n    <tr>\n      <th>max</th>\n      <td>85.000000</td>\n      <td>190.000000</td>\n      <td>140.000000</td>\n      <td>999.000000</td>\n      <td>9.900000</td>\n      <td>9.900000</td>\n      <td>2.000000</td>\n      <td>2.000000</td>\n      <td>273.000000</td>\n      <td>185.000000</td>\n      <td>...</td>\n      <td>8110.000000</td>\n      <td>5119.000000</td>\n      <td>9490.000000</td>\n      <td>25.000000</td>\n      <td>6.000000</td>\n      <td>98.000000</td>\n      <td>9999.000000</td>\n      <td>7210.000000</td>\n      <td>999.000000</td>\n      <td>3.000000</td>\n    </tr>\n  </tbody>\n</table>\n<p>8 rows × 22 columns</p>\n</div>"
     },
     "execution_count": 240,
     "metadata": {},
     "output_type": "execute_result"
    }
   ],
   "source": [
    "df_copy.describe()"
   ]
  },
  {
   "cell_type": "code",
   "execution_count": 241,
   "id": "5a40e0e5da80beb8",
   "metadata": {
    "collapsed": false,
    "ExecuteTime": {
     "end_time": "2023-10-31T15:38:50.709778500Z",
     "start_time": "2023-10-31T15:38:49.807229200Z"
    }
   },
   "outputs": [],
   "source": [
    "df_copy = remove_outliers_from_columns(df_copy, ['waistline','SBP', 'DBP','BLDS','tot_chole','triglyceride','serum_creatinine','SGOT_AST', 'SGOT_ALT','sight_left','sight_right','gamma_GTP'])"
   ]
  },
  {
   "cell_type": "code",
   "execution_count": 242,
   "id": "66b80719e1c2a5a",
   "metadata": {
    "collapsed": false,
    "ExecuteTime": {
     "end_time": "2023-10-31T15:38:51.006637900Z",
     "start_time": "2023-10-31T15:38:50.709778500Z"
    }
   },
   "outputs": [
    {
     "data": {
      "text/plain": "                 age         height         weight      waistline  \\\ncount  676654.000000  676654.000000  676654.000000  676654.000000   \nmean       46.909824     161.324872      60.784027      79.027450   \nstd        14.451683       9.171283      11.280088       8.972096   \nmin        20.000000     130.000000      25.000000      53.600000   \n25%        35.000000     155.000000      50.000000      72.500000   \n50%        45.000000     160.000000      60.000000      79.000000   \n75%        55.000000     170.000000      70.000000      85.000000   \nmax        85.000000     190.000000     125.000000     108.300000   \n\n          sight_left    sight_right      hear_left     hear_right  \\\ncount  676654.000000  676654.000000  676654.000000  676654.000000   \nmean        0.944601       0.942262       1.029503       1.028521   \nstd         0.327505       0.327287       0.169210       0.166457   \nmin         0.100000       0.100000       1.000000       1.000000   \n25%         0.700000       0.700000       1.000000       1.000000   \n50%         1.000000       1.000000       1.000000       1.000000   \n75%         1.200000       1.200000       1.000000       1.000000   \nmax         1.900000       1.900000       2.000000       2.000000   \n\n                 SBP            DBP  ...      HDL_chole      LDL_chole  \\\ncount  676654.000000  676654.000000  ...  676654.000000  676654.000000   \nmean      119.854122      74.367279  ...      58.757409     112.626100   \nstd        12.957561       8.642721  ...      14.969314      31.830963   \nmin        84.000000      54.000000  ...       1.000000       1.000000   \n25%       110.000000      69.000000  ...      48.000000      90.000000   \n50%       120.000000      74.000000  ...      57.000000     111.000000   \n75%       130.000000      80.000000  ...      67.000000     133.000000   \nmax       159.000000      97.000000  ...     933.000000    1750.000000   \n\n        triglyceride     hemoglobin  urine_protein  serum_creatinine  \\\ncount  676654.000000  676654.000000  676654.000000     676654.000000   \nmean      105.011242      13.968156       1.069199          0.827369   \nstd        50.361684       1.527757       0.355467          0.188520   \nmin         1.000000       1.000000       1.000000          0.300000   \n25%        67.000000      13.000000       1.000000          0.700000   \n50%        94.000000      13.900000       1.000000          0.800000   \n75%       132.000000      15.100000       1.000000          1.000000   \nmax       272.000000      25.000000       6.000000          1.400000   \n\n            SGOT_AST       SGOT_ALT      gamma_GTP  SMK_stat_type_cd  \ncount  676654.000000  676654.000000  676654.000000     676654.000000  \nmean       22.006646      19.127022      22.095479          1.490010  \nstd         5.596770       7.797004      10.720541          0.767761  \nmin         6.000000       1.000000       1.000000          1.000000  \n25%        18.000000      13.000000      14.000000          1.000000  \n50%        21.000000      18.000000      19.000000          1.000000  \n75%        25.000000      23.000000      28.000000          2.000000  \nmax        41.000000      44.000000      56.000000          3.000000  \n\n[8 rows x 22 columns]",
      "text/html": "<div>\n<style scoped>\n    .dataframe tbody tr th:only-of-type {\n        vertical-align: middle;\n    }\n\n    .dataframe tbody tr th {\n        vertical-align: top;\n    }\n\n    .dataframe thead th {\n        text-align: right;\n    }\n</style>\n<table border=\"1\" class=\"dataframe\">\n  <thead>\n    <tr style=\"text-align: right;\">\n      <th></th>\n      <th>age</th>\n      <th>height</th>\n      <th>weight</th>\n      <th>waistline</th>\n      <th>sight_left</th>\n      <th>sight_right</th>\n      <th>hear_left</th>\n      <th>hear_right</th>\n      <th>SBP</th>\n      <th>DBP</th>\n      <th>...</th>\n      <th>HDL_chole</th>\n      <th>LDL_chole</th>\n      <th>triglyceride</th>\n      <th>hemoglobin</th>\n      <th>urine_protein</th>\n      <th>serum_creatinine</th>\n      <th>SGOT_AST</th>\n      <th>SGOT_ALT</th>\n      <th>gamma_GTP</th>\n      <th>SMK_stat_type_cd</th>\n    </tr>\n  </thead>\n  <tbody>\n    <tr>\n      <th>count</th>\n      <td>676654.000000</td>\n      <td>676654.000000</td>\n      <td>676654.000000</td>\n      <td>676654.000000</td>\n      <td>676654.000000</td>\n      <td>676654.000000</td>\n      <td>676654.000000</td>\n      <td>676654.000000</td>\n      <td>676654.000000</td>\n      <td>676654.000000</td>\n      <td>...</td>\n      <td>676654.000000</td>\n      <td>676654.000000</td>\n      <td>676654.000000</td>\n      <td>676654.000000</td>\n      <td>676654.000000</td>\n      <td>676654.000000</td>\n      <td>676654.000000</td>\n      <td>676654.000000</td>\n      <td>676654.000000</td>\n      <td>676654.000000</td>\n    </tr>\n    <tr>\n      <th>mean</th>\n      <td>46.909824</td>\n      <td>161.324872</td>\n      <td>60.784027</td>\n      <td>79.027450</td>\n      <td>0.944601</td>\n      <td>0.942262</td>\n      <td>1.029503</td>\n      <td>1.028521</td>\n      <td>119.854122</td>\n      <td>74.367279</td>\n      <td>...</td>\n      <td>58.757409</td>\n      <td>112.626100</td>\n      <td>105.011242</td>\n      <td>13.968156</td>\n      <td>1.069199</td>\n      <td>0.827369</td>\n      <td>22.006646</td>\n      <td>19.127022</td>\n      <td>22.095479</td>\n      <td>1.490010</td>\n    </tr>\n    <tr>\n      <th>std</th>\n      <td>14.451683</td>\n      <td>9.171283</td>\n      <td>11.280088</td>\n      <td>8.972096</td>\n      <td>0.327505</td>\n      <td>0.327287</td>\n      <td>0.169210</td>\n      <td>0.166457</td>\n      <td>12.957561</td>\n      <td>8.642721</td>\n      <td>...</td>\n      <td>14.969314</td>\n      <td>31.830963</td>\n      <td>50.361684</td>\n      <td>1.527757</td>\n      <td>0.355467</td>\n      <td>0.188520</td>\n      <td>5.596770</td>\n      <td>7.797004</td>\n      <td>10.720541</td>\n      <td>0.767761</td>\n    </tr>\n    <tr>\n      <th>min</th>\n      <td>20.000000</td>\n      <td>130.000000</td>\n      <td>25.000000</td>\n      <td>53.600000</td>\n      <td>0.100000</td>\n      <td>0.100000</td>\n      <td>1.000000</td>\n      <td>1.000000</td>\n      <td>84.000000</td>\n      <td>54.000000</td>\n      <td>...</td>\n      <td>1.000000</td>\n      <td>1.000000</td>\n      <td>1.000000</td>\n      <td>1.000000</td>\n      <td>1.000000</td>\n      <td>0.300000</td>\n      <td>6.000000</td>\n      <td>1.000000</td>\n      <td>1.000000</td>\n      <td>1.000000</td>\n    </tr>\n    <tr>\n      <th>25%</th>\n      <td>35.000000</td>\n      <td>155.000000</td>\n      <td>50.000000</td>\n      <td>72.500000</td>\n      <td>0.700000</td>\n      <td>0.700000</td>\n      <td>1.000000</td>\n      <td>1.000000</td>\n      <td>110.000000</td>\n      <td>69.000000</td>\n      <td>...</td>\n      <td>48.000000</td>\n      <td>90.000000</td>\n      <td>67.000000</td>\n      <td>13.000000</td>\n      <td>1.000000</td>\n      <td>0.700000</td>\n      <td>18.000000</td>\n      <td>13.000000</td>\n      <td>14.000000</td>\n      <td>1.000000</td>\n    </tr>\n    <tr>\n      <th>50%</th>\n      <td>45.000000</td>\n      <td>160.000000</td>\n      <td>60.000000</td>\n      <td>79.000000</td>\n      <td>1.000000</td>\n      <td>1.000000</td>\n      <td>1.000000</td>\n      <td>1.000000</td>\n      <td>120.000000</td>\n      <td>74.000000</td>\n      <td>...</td>\n      <td>57.000000</td>\n      <td>111.000000</td>\n      <td>94.000000</td>\n      <td>13.900000</td>\n      <td>1.000000</td>\n      <td>0.800000</td>\n      <td>21.000000</td>\n      <td>18.000000</td>\n      <td>19.000000</td>\n      <td>1.000000</td>\n    </tr>\n    <tr>\n      <th>75%</th>\n      <td>55.000000</td>\n      <td>170.000000</td>\n      <td>70.000000</td>\n      <td>85.000000</td>\n      <td>1.200000</td>\n      <td>1.200000</td>\n      <td>1.000000</td>\n      <td>1.000000</td>\n      <td>130.000000</td>\n      <td>80.000000</td>\n      <td>...</td>\n      <td>67.000000</td>\n      <td>133.000000</td>\n      <td>132.000000</td>\n      <td>15.100000</td>\n      <td>1.000000</td>\n      <td>1.000000</td>\n      <td>25.000000</td>\n      <td>23.000000</td>\n      <td>28.000000</td>\n      <td>2.000000</td>\n    </tr>\n    <tr>\n      <th>max</th>\n      <td>85.000000</td>\n      <td>190.000000</td>\n      <td>125.000000</td>\n      <td>108.300000</td>\n      <td>1.900000</td>\n      <td>1.900000</td>\n      <td>2.000000</td>\n      <td>2.000000</td>\n      <td>159.000000</td>\n      <td>97.000000</td>\n      <td>...</td>\n      <td>933.000000</td>\n      <td>1750.000000</td>\n      <td>272.000000</td>\n      <td>25.000000</td>\n      <td>6.000000</td>\n      <td>1.400000</td>\n      <td>41.000000</td>\n      <td>44.000000</td>\n      <td>56.000000</td>\n      <td>3.000000</td>\n    </tr>\n  </tbody>\n</table>\n<p>8 rows × 22 columns</p>\n</div>"
     },
     "execution_count": 242,
     "metadata": {},
     "output_type": "execute_result"
    }
   ],
   "source": [
    "df_copy.describe()"
   ]
  },
  {
   "cell_type": "code",
   "execution_count": 266,
   "outputs": [],
   "source": [
    "df_copy.replace({'DRK_YN':{'Y':1, 'N':0}}, inplace = True)"
   ],
   "metadata": {
    "collapsed": false,
    "ExecuteTime": {
     "end_time": "2023-10-31T15:50:15.929177800Z",
     "start_time": "2023-10-31T15:50:15.742411200Z"
    }
   },
   "id": "b160689072d4317c"
  },
  {
   "cell_type": "markdown",
   "id": "6f50189ec4d3f6a",
   "metadata": {
    "collapsed": false
   },
   "source": [
    "## Remove Duplicates\n",
    "---"
   ]
  },
  {
   "cell_type": "code",
   "execution_count": 243,
   "id": "7117fe644664da0d",
   "metadata": {
    "collapsed": false,
    "ExecuteTime": {
     "end_time": "2023-10-31T15:38:51.246740900Z",
     "start_time": "2023-10-31T15:38:51.004122700Z"
    }
   },
   "outputs": [
    {
     "data": {
      "text/plain": "'Number of duplicates: 14'"
     },
     "execution_count": 243,
     "metadata": {},
     "output_type": "execute_result"
    }
   ],
   "source": [
    "duplicate_data(df_copy)"
   ]
  },
  {
   "cell_type": "code",
   "execution_count": 244,
   "outputs": [],
   "source": [
    "df_copy = df_copy.drop_duplicates(keep= 'last')"
   ],
   "metadata": {
    "collapsed": false,
    "ExecuteTime": {
     "end_time": "2023-10-31T15:38:51.528533500Z",
     "start_time": "2023-10-31T15:38:51.256856800Z"
    }
   },
   "id": "be53f201066bcc89"
  },
  {
   "cell_type": "code",
   "execution_count": 245,
   "outputs": [
    {
     "data": {
      "text/plain": "'Number of duplicates: 0'"
     },
     "execution_count": 245,
     "metadata": {},
     "output_type": "execute_result"
    }
   ],
   "source": [
    "duplicate_data(df_copy)"
   ],
   "metadata": {
    "collapsed": false,
    "ExecuteTime": {
     "end_time": "2023-10-31T15:38:51.776501700Z",
     "start_time": "2023-10-31T15:38:51.531116600Z"
    }
   },
   "id": "7f796b2397584faa"
  },
  {
   "cell_type": "markdown",
   "id": "1d486ba5aa6421fe",
   "metadata": {
    "collapsed": false
   },
   "source": [
    "## Impute Missing Values \n",
    "---"
   ]
  },
  {
   "cell_type": "code",
   "execution_count": 246,
   "id": "39131a55ca7c6ab1",
   "metadata": {
    "collapsed": false,
    "ExecuteTime": {
     "end_time": "2023-10-31T15:38:51.886592100Z",
     "start_time": "2023-10-31T15:38:51.773468100Z"
    }
   },
   "outputs": [
    {
     "data": {
      "text/plain": "'Percentage of missing values: 0.00%'"
     },
     "execution_count": 246,
     "metadata": {},
     "output_type": "execute_result"
    }
   ],
   "source": [
    "percentage_missing_values(df_copy)"
   ]
  },
  {
   "cell_type": "code",
   "execution_count": 247,
   "id": "ada96391d295c6d5",
   "metadata": {
    "collapsed": false,
    "ExecuteTime": {
     "end_time": "2023-10-31T15:38:51.888575600Z",
     "start_time": "2023-10-31T15:38:51.886592100Z"
    }
   },
   "outputs": [
    {
     "data": {
      "text/plain": "'print(df_copy.select_dtypes(include=[object,bool]).columns)'"
     },
     "execution_count": 247,
     "metadata": {},
     "output_type": "execute_result"
    }
   ],
   "source": [
    "\"\"\"print(df_copy.select_dtypes(include=[object,bool]).columns)\"\"\""
   ]
  },
  {
   "cell_type": "code",
   "execution_count": 248,
   "id": "411c5c40",
   "metadata": {
    "ExecuteTime": {
     "end_time": "2023-10-31T15:38:51.895059300Z",
     "start_time": "2023-10-31T15:38:51.888575600Z"
    }
   },
   "outputs": [
    {
     "data": {
      "text/plain": "'df_copy.info()'"
     },
     "execution_count": 248,
     "metadata": {},
     "output_type": "execute_result"
    }
   ],
   "source": [
    "\"\"\"df_copy.info()\"\"\""
   ]
  },
  {
   "cell_type": "markdown",
   "source": [
    "# Check for Model Unbalances\n",
    "---"
   ],
   "metadata": {
    "collapsed": false
   },
   "id": "e828795b610751ea"
  },
  {
   "cell_type": "code",
   "execution_count": 267,
   "outputs": [
    {
     "data": {
      "text/plain": "<Figure size 1000x600 with 1 Axes>",
      "image/png": "[encoded data removed]"
     },
     "metadata": {},
     "output_type": "display_data"
    }
   ],
   "source": [
    "import seaborn as sns\n",
    "import matplotlib.pyplot as plt\n",
    "# Create a bar chart for the 'SMK_stat_type_cd' variable\n",
    "\n",
    "plt.figure(figsize=(10, 6))\n",
    "sns.countplot(x='SMK_stat_type_cd', data=df)\n",
    "plt.xlabel('SMK_stat_type_cd')\n",
    "plt.ylabel('Count')\n",
    "plt.title('Bar chart of SMK_stat_type_cd')\n",
    "plt.show()"
   ],
   "metadata": {
    "collapsed": false,
    "ExecuteTime": {
     "end_time": "2023-10-31T15:50:23.470376100Z",
     "start_time": "2023-10-31T15:50:23.349252200Z"
    }
   },
   "id": "2df446495bdde4c9"
  },
  {
   "cell_type": "code",
   "execution_count": 268,
   "outputs": [
    {
     "data": {
      "text/plain": "<Figure size 1000x600 with 1 Axes>",
      "image/png": "[encoded data removed]"
     },
     "metadata": {},
     "output_type": "display_data"
    }
   ],
   "source": [
    "import seaborn as sns\n",
    "import matplotlib.pyplot as plt\n",
    "# Create a bar chart for the 'SMK_stat_type_cd' variable\n",
    "\n",
    "plt.figure(figsize=(10, 6))\n",
    "sns.countplot(x='DRK_YN', data=df)\n",
    "plt.xlabel('DRK_YN')\n",
    "plt.ylabel('Count')\n",
    "plt.title('Bar chart of DRK_YN')\n",
    "plt.show()"
   ],
   "metadata": {
    "collapsed": false,
    "ExecuteTime": {
     "end_time": "2023-10-31T15:50:24.299570100Z",
     "start_time": "2023-10-31T15:50:24.017974700Z"
    }
   },
   "id": "a4e58b28fb4a6746"
  },
  {
   "cell_type": "markdown",
   "id": "b74b8f0b",
   "metadata": {},
   "source": [
    "### Modeling with One Hot Encoding"
   ]
  },
  {
   "cell_type": "code",
   "execution_count": 269,
   "id": "27aa8ccb",
   "metadata": {
    "ExecuteTime": {
     "end_time": "2023-10-31T15:50:24.846018900Z",
     "start_time": "2023-10-31T15:50:24.843053400Z"
    }
   },
   "outputs": [],
   "source": [
    "import random\n",
    "from sklearn.metrics import mean_squared_error, r2_score\n",
    "import statsmodels.api as sm\n",
    "from sklearn.impute import SimpleImputer\n",
    "from sklearn.model_selection import train_test_split\n",
    "from sklearn.linear_model import LinearRegression\n",
    "from sklearn.neighbors import KNeighborsClassifier, KNeighborsRegressor\n",
    "from sklearn.linear_model import LogisticRegression\n",
    "from sklearn.compose import make_column_transformer\n",
    "from sklearn.pipeline import make_pipeline\n",
    "from sklearn.preprocessing import OneHotEncoder, StandardScaler\n",
    "from sklearn.metrics import accuracy_score, precision_score, f1_score, recall_score, r2_score, mean_squared_error,classification_report\n",
    "import matplotlib.pyplot as plt\n",
    "import seaborn \n",
    "%matplotlib inline"
   ]
  },
  {
   "cell_type": "code",
   "execution_count": 270,
   "id": "067bea91",
   "metadata": {
    "ExecuteTime": {
     "end_time": "2023-10-31T15:50:25.476515Z",
     "start_time": "2023-10-31T15:50:25.412032800Z"
    }
   },
   "outputs": [],
   "source": [
    "categ = df_copy.select_dtypes(include=[\"object\", \"category\"]).columns.to_list()\n",
    "num = df_copy.select_dtypes(exclude=[\"object\", \"category\"]).columns.to_list()\n",
    "\n",
    "num.remove('DRK_YN')\n",
    "preprocessor = make_column_transformer(\n",
    "        (OneHotEncoder(), categ),\n",
    "        (StandardScaler(), num)\n",
    "    )\n"
   ]
  },
  {
   "cell_type": "markdown",
   "id": "71c4259b",
   "metadata": {},
   "source": [
    "Classifier Function"
   ]
  },
  {
   "cell_type": "code",
   "execution_count": 271,
   "id": "aa00ca91",
   "metadata": {
    "ExecuteTime": {
     "end_time": "2023-10-31T15:50:26.360997300Z",
     "start_time": "2023-10-31T15:50:26.355774800Z"
    }
   },
   "outputs": [],
   "source": [
    "def evaluate_classifier_metrics(classifier, X_train, y_train, X_test, y_test):\n",
    "\n",
    "    classifier.fit(X_train, y_train)\n",
    "\n",
    "    test_predictions = classifier.predict(X_test)\n",
    "    train_predictions = classifier.predict(X_train)\n",
    "    print('Train Set Classification Results:')\n",
    "    print(classification_report(y_train,train_predictions))\n",
    "    print('\\nTest Set Classification Results:')\n",
    "    print(classification_report(y_test,test_predictions))"
   ]
  },
  {
   "cell_type": "markdown",
   "id": "3ab008e4",
   "metadata": {},
   "source": [
    "KNN Classifier"
   ]
  },
  {
   "cell_type": "code",
   "execution_count": 274,
   "id": "f2ed64c7",
   "metadata": {
    "ExecuteTime": {
     "end_time": "2023-10-31T15:59:52.682670500Z",
     "start_time": "2023-10-31T15:55:36.722660700Z"
    }
   },
   "outputs": [
    {
     "name": "stdout",
     "output_type": "stream",
     "text": [
      "Train Set Classification Results:\n",
      "              precision    recall  f1-score   support\n",
      "\n",
      "           0       0.79      0.78      0.78    396263\n",
      "           1       0.78      0.80      0.79    396813\n",
      "\n",
      "    accuracy                           0.79    793076\n",
      "   macro avg       0.79      0.79      0.79    793076\n",
      "weighted avg       0.79      0.79      0.79    793076\n",
      "\n",
      "\n",
      "Test Set Classification Results:\n",
      "              precision    recall  f1-score   support\n",
      "\n",
      "           0       0.70      0.67      0.68     99595\n",
      "           1       0.68      0.70      0.69     98675\n",
      "\n",
      "    accuracy                           0.69    198270\n",
      "   macro avg       0.69      0.69      0.69    198270\n",
      "weighted avg       0.69      0.69      0.69    198270\n"
     ]
    }
   ],
   "source": [
    "from sklearn.neighbors import KNeighborsClassifier\n",
    "from sklearn.linear_model import LogisticRegression\n",
    "\n",
    "X = df_copy.drop('DRK_YN',axis=1)\n",
    "y = df_copy['DRK_YN'] \n",
    "\n",
    "X = preprocessor.fit_transform(X)\n",
    "knn_classifier = KNeighborsClassifier()\n",
    "X_train,X_test,y_train,y_test = train_test_split(X,y,test_size=0.2, random_state=42)\n",
    "knn_metrics = evaluate_classifier_metrics(knn_classifier, X_train, y_train, X_test, y_test)"
   ]
  },
  {
   "cell_type": "markdown",
   "id": "0ce88f28",
   "metadata": {},
   "source": [
    "Logistic Regression"
   ]
  },
  {
   "cell_type": "code",
   "execution_count": 273,
   "id": "ec3c9a93",
   "metadata": {
    "ExecuteTime": {
     "end_time": "2023-10-31T15:54:45.020019Z",
     "start_time": "2023-10-31T15:54:43.155970400Z"
    }
   },
   "outputs": [
    {
     "name": "stdout",
     "output_type": "stream",
     "text": [
      "Logistic Regression Metrics:\n",
      "Train Set Classification Results:\n",
      "              precision    recall  f1-score   support\n",
      "\n",
      "           0       0.72      0.73      0.73    396263\n",
      "           1       0.73      0.72      0.72    396813\n",
      "\n",
      "    accuracy                           0.73    793076\n",
      "   macro avg       0.73      0.73      0.73    793076\n",
      "weighted avg       0.73      0.73      0.73    793076\n",
      "\n",
      "\n",
      "Test Set Classification Results:\n",
      "              precision    recall  f1-score   support\n",
      "\n",
      "           0       0.72      0.73      0.73     99595\n",
      "           1       0.73      0.72      0.72     98675\n",
      "\n",
      "    accuracy                           0.72    198270\n",
      "   macro avg       0.72      0.72      0.72    198270\n",
      "weighted avg       0.72      0.72      0.72    198270\n"
     ]
    }
   ],
   "source": [
    "logistic_classifier = LogisticRegression()\n",
    "print(\"Logistic Regression Metrics:\")\n",
    "logistic_metrics = evaluate_classifier_metrics(logistic_classifier, X_train, y_train, X_test, y_test)\n"
   ]
  },
  {
   "cell_type": "markdown",
   "source": [],
   "metadata": {
    "collapsed": false
   },
   "id": "e2b7dc50e42ebda9"
  },
  {
   "cell_type": "markdown",
   "source": [
    "# PCA\n",
    "---"
   ],
   "metadata": {
    "collapsed": false
   },
   "id": "5075fe0d2aac4a64"
  },
  {
   "cell_type": "code",
   "execution_count": null,
   "outputs": [],
   "source": [
    "# if fanalysis is already installed, import it - else install and import it\n",
    "try:\n",
    "    from fanalysis.pca import PCA\n",
    "except:\n",
    "    !pip install fanalysis\n",
    "    from fanalysis.pca import PCA"
   ],
   "metadata": {
    "collapsed": false,
    "ExecuteTime": {
     "start_time": "2023-10-31T15:38:52.336778Z"
    }
   },
   "id": "23c04f36dbfda6c3"
  },
  {
   "cell_type": "markdown",
   "source": [
    "# PCA Copy\n",
    "---"
   ],
   "metadata": {
    "collapsed": false
   },
   "id": "c343c886856a4c48"
  },
  {
   "cell_type": "code",
   "execution_count": null,
   "outputs": [],
   "source": [
    "pca_copy = df_copy.copy()"
   ],
   "metadata": {
    "collapsed": false,
    "ExecuteTime": {
     "start_time": "2023-10-31T15:38:52.341787500Z"
    }
   },
   "id": "9a9107eb84585a3c"
  },
  {
   "cell_type": "markdown",
   "source": [
    "# Create Variable Mappings\n",
    "---"
   ],
   "metadata": {
    "collapsed": false
   },
   "id": "6d519c23b80ce6ad"
  },
  {
   "cell_type": "markdown",
   "source": [
    "# Standard Scaling\n",
    "---\n",
    "- PCA works by identifying the directions (principal components) in which the data varies the most. If the features are on different scales, the features with higher magnitude (regardless of their actual variance in the data) will dominate the first principal components, potentially leading to misleading results. Standardizing ensures that all features contribute equally to the calculation of the principal components.\n",
    "- PCA is sensitive to the mean of the data. By subtracting the mean of each feature from the data, standard scaling centers the data around the origin. This is important because PCA identifies the principal components using covariance or correlation, both of which are affected by the mean of the data."
   ],
   "metadata": {
    "collapsed": false
   },
   "id": "831495d84913eb6b"
  },
  {
   "cell_type": "code",
   "execution_count": null,
   "outputs": [],
   "source": [
    "from sklearn.preprocessing import StandardScaler\n",
    "\n",
    "\n",
    "quantitative_columns = ['age', 'height', 'weight', 'waistline', 'sight_left', 'sight_right','SBP', 'DBP', 'BLDS', 'tot_chole', 'HDL_chole', 'LDL_chole', 'triglyceride', 'hemoglobin', 'serum_creatinine', 'SGOT_AST','SGOT_ALT', 'gamma_GTP']\n",
    "data_quantitative = pca_copy[quantitative_columns]\n",
    "\n",
    "scaler = StandardScaler()\n",
    "data_standardized = scaler.fit_transform(data_quantitative)\n",
    "\n",
    "D = pd.DataFrame(data = data_standardized, columns = quantitative_columns)\n",
    "# define dimensions of [X] matrix : number of variables\n",
    "p = D.shape[1]\n",
    "\n",
    "# define sample size of [X] : number of observations\n",
    "n = D.shape[0]\n",
    "\n",
    "# define values of matrix [X]\n",
    "X = D.values\n",
    "\n",
    "print(D.head())\n",
    "# print dataset summary\n",
    "print(D.info())"
   ],
   "metadata": {
    "collapsed": false,
    "ExecuteTime": {
     "start_time": "2023-10-31T15:38:52.341787500Z"
    }
   },
   "id": "13319751526e938c"
  },
  {
   "cell_type": "markdown",
   "source": [
    "# Instantiate acp object form PCA class\n",
    "---"
   ],
   "metadata": {
    "collapsed": false
   },
   "id": "75a3add25be66913"
  },
  {
   "cell_type": "code",
   "execution_count": null,
   "outputs": [],
   "source": [
    "acp = PCA(std_unit=True,row_labels=D.index,col_labels=D.columns)\n",
    "\n",
    "# run PCA on X observed data\n",
    "acp.fit(X)\n",
    "\n",
    "# print methods and attributes of acp object\n",
    "dir(acp)"
   ],
   "metadata": {
    "collapsed": false,
    "ExecuteTime": {
     "start_time": "2023-10-31T15:38:52.341787500Z"
    }
   },
   "id": "8b896b62d9d0a5a9"
  },
  {
   "cell_type": "code",
   "execution_count": null,
   "outputs": [],
   "source": [
    "acp.col_labels"
   ],
   "metadata": {
    "collapsed": false,
    "ExecuteTime": {
     "start_time": "2023-10-31T15:38:52.341787500Z"
    }
   },
   "id": "932464be1e987935"
  },
  {
   "cell_type": "code",
   "execution_count": null,
   "outputs": [],
   "source": [
    "acp.row_labels"
   ],
   "metadata": {
    "collapsed": false,
    "ExecuteTime": {
     "start_time": "2023-10-31T15:38:52.341787500Z"
    }
   },
   "id": "420e80f83ac8a3eb"
  },
  {
   "cell_type": "markdown",
   "source": [
    "# Determine the number of factors\n",
    "---"
   ],
   "metadata": {
    "collapsed": false
   },
   "id": "6aa3ab13c19734e3"
  },
  {
   "cell_type": "code",
   "execution_count": null,
   "outputs": [],
   "source": [
    "# print eigenvalues (the lambdas) - output includes proportion of variance explained and cumulated values thereof\n",
    "print(acp.eig_)\n",
    "\n",
    "# row 1 : lambda 1, lambda 2, ..., lambda k\n",
    "# IP is the sum of lambda\n",
    "# row 2 : lambda 1 / IP, lambda 2 / IP, ..., lambda k/ IP\n",
    "# Cumulative "
   ],
   "metadata": {
    "collapsed": false,
    "ExecuteTime": {
     "start_time": "2023-10-31T15:38:52.346293500Z"
    }
   },
   "id": "a7234c739ffa3127"
  },
  {
   "cell_type": "code",
   "execution_count": null,
   "outputs": [],
   "source": [
    "# print scree plot\n",
    "\n",
    "# first the main plot\n",
    "fig, ax = plt.subplots(figsize=(5,5))\n",
    "ax.plot(range(1,p+1),acp.eig_[0],\".-\")\n",
    "ax.set_xlabel(\"Nb. of factors\")\n",
    "ax.set_ylabel(\"Eigenvalues\")\n",
    "plt.title(\"Scree Plot\")\n",
    "\n",
    "# add Kaiser's threshold line\n",
    "ax.plot([1,p],[1,1],\"r--\",linewidth=1)\n",
    "\n",
    "plt.show()"
   ],
   "metadata": {
    "collapsed": false,
    "ExecuteTime": {
     "start_time": "2023-10-31T15:38:52.346293500Z"
    }
   },
   "id": "a4c80df2fe50be3f"
  },
  {
   "cell_type": "markdown",
   "source": [
    "# Dimensionality Reduction from 18 to 6 using PCA\n",
    "\n",
    "Principal Component Analysis (PCA) is a widely used technique for dimensionality reduction in data analysis and machine learning. It transforms the original variables to a new set of variables, the principal components, which are orthogonal (at right angles to each other), and which reflect the maximum variance in the data.\n",
    "\n",
    "## The Kaiser-Guttman Rule\n",
    "\n",
    "The Kaiser-Guttman rule is a popular criterion for selecting the number of principal components to retain in a PCA. According to this rule, we should only keep the components with eigenvalues greater than 1.\n",
    "\n",
    "In our specific case, applying the Kaiser-Guttman rule suggests that we should retain 6 principal components.\n",
    "\n",
    "## Importance of Reducing from 18 to 6 Dimensions\n",
    "\n",
    "In conclusion, reducing the dimensionality of the dataset from 18 to 6 using PCA, guided by the Kaiser-Guttman rule, not only simplifies the dataset but also enhances the efficiency and performance of subsequent analyses and models, while potentially improving our understanding of the underlying patterns in the data.\n"
   ],
   "metadata": {
    "collapsed": false
   },
   "id": "718cd517fa043774"
  },
  {
   "cell_type": "code",
   "execution_count": null,
   "outputs": [],
   "source": [
    "# print explained variance plot\n",
    "\n",
    "fig, ax = plt.subplots(figsize=(5,5))\n",
    "ax.plot(range(0,p+1),np.append(0,acp.eig_[2]),\".-\")\n",
    "ax.set_xlabel(\"Nb. of factors\")\n",
    "ax.set_ylabel(\"% of explained variance\")\n",
    "plt.title(\"Explained Variance\")\n",
    "\n",
    "plt.show()"
   ],
   "metadata": {
    "collapsed": false,
    "ExecuteTime": {
     "start_time": "2023-10-31T15:38:52.346293500Z"
    }
   },
   "id": "9ac97110a68c0c7d"
  },
  {
   "cell_type": "code",
   "execution_count": null,
   "outputs": [],
   "source": [
    "print(f'\\nExplained Variance by the first 6 components: {sum(acp.eig_[1][:6]):.2f} %')"
   ],
   "metadata": {
    "collapsed": false,
    "ExecuteTime": {
     "start_time": "2023-10-31T15:38:52.346293500Z"
    }
   },
   "id": "249495a3caf4623f"
  },
  {
   "cell_type": "code",
   "execution_count": null,
   "outputs": [],
   "source": [
    "# Applying Barlett's test of Sphericity\n",
    "# import statistical package from scipy\n",
    "import scipy.stats as stats\n",
    "\n",
    "# Bartlett's statistic\n",
    "C = -(n-1-(2*p+5)/6) * np.sum(np.log(acp.eig_[0]))\n",
    "print(f\"Barlett's statistics: {C:.3f}\")\n",
    "\n",
    "# degree of freedom\n",
    "ddl = p*(p-1)/2\n",
    "\n",
    "# p-value\n",
    "print(f\"p-value: {1-stats.chi2.cdf(C,df=ddl):.3f}\")"
   ],
   "metadata": {
    "collapsed": false,
    "ExecuteTime": {
     "start_time": "2023-10-31T15:38:52.346293500Z"
    }
   },
   "id": "2811843925fc4b02"
  },
  {
   "cell_type": "markdown",
   "source": [
    "### Bartlett’s Test of Sphericity Results\n",
    "\n",
    "#### Interpretation:\n",
    "- **Bartlett’s Test Statistic:** 6,857,070.377\n",
    "- This is a large value, indicating strong evidence against the null hypothesis.\n",
    "\n",
    "- **P-value:** 0.000\n",
    "- A p-value of 0.000 (which might be rounded and actually be a very small number, but not exactly zero) indicates that the probability of observing a test statistic as extreme as this, assuming the null hypothesis is true, is virtually zero.\n",
    "\n",
    "#### Conclusion:\n",
    "Since the p-value is extremely low, we reject the null hypothesis of Bartlett’s test of sphericity. This suggests that there is significant evidence in the data to indicate that the variables are correlated. This is a positive indication if you are planning to proceed with factor analysis or PCA, as these techniques assume that there are relationships between the variables that can be captured by underlying factors or principal components. In other words, the test result suggests that your data is likely suitable for these types of dimensionality reduction techniques.\n"
   ],
   "metadata": {
    "collapsed": false
   },
   "id": "34675f25a293d7b5"
  },
  {
   "cell_type": "markdown",
   "source": [
    "# Variables Representation\n",
    "---"
   ],
   "metadata": {
    "collapsed": false
   },
   "id": "c21c4ca857911b2"
  },
  {
   "cell_type": "code",
   "execution_count": null,
   "outputs": [],
   "source": [
    "# Correlation between variables and factors\n",
    "print(pd.DataFrame(acp.col_coord_[:,:6],index=D.columns, columns=['F1','F2','F3','F4','F5','F6']))"
   ],
   "metadata": {
    "collapsed": false,
    "ExecuteTime": {
     "start_time": "2023-10-31T15:38:52.346293500Z"
    }
   },
   "id": "a643e9062add481e"
  },
  {
   "cell_type": "code",
   "execution_count": null,
   "outputs": [],
   "source": [
    "# Contributions of each variable on the two first factors (in %)\n",
    "print(pd.DataFrame(acp.col_contrib_[:,:6],index=D.columns, columns=['F1','F2','F3','F4','F5','F6']))"
   ],
   "metadata": {
    "collapsed": false,
    "ExecuteTime": {
     "start_time": "2023-10-31T15:38:52.351320200Z"
    }
   },
   "id": "4e35ff7a5ee54018"
  },
  {
   "cell_type": "markdown",
   "source": [
    "## Factor 1 (F1)\n",
    "### High Loadings:\n",
    "- Age\n",
    "- Weight\n",
    "- Waistline\n",
    "- Hemoglobin\n",
    "- Serum Creatinine\n",
    "- SGOT_ALT\n",
    "- Gamma_GTP\n",
    "\n",
    "### Interpretation:\n",
    "This factor might represent overall metabolic and aging processes, as it has high loadings on age, weight, and waistline (possibly indicating body size or obesity), as well as hemoglobin and serum creatinine (which are related to kidney function and blood). The liver enzymes (SGOT_ALT and gamma_GTP) also have high loadings, suggesting a possible link to liver function. This factor could be interpreted as a 'metabolic and aging' factor.\n",
    "\n",
    "## Factor 2 (F2)\n",
    "### High Loadings:\n",
    "- Sight Left\n",
    "- Sight Right\n",
    "- Systolic Blood Pressure (SBP)\n",
    "- Diastolic Blood Pressure (DBP)\n",
    "\n",
    "### Interpretation:\n",
    "This factor has high loadings on both left and right sight measurements, as well as systolic and diastolic blood pressure (SBP and DBP). This could indicate a factor related to cardiovascular and eye health, possibly capturing aspects of blood circulation and its effects on vision. This factor might be interpreted as a 'cardiovascular and vision' factor.\n",
    "\n",
    "## Factor 3 (F3)\n",
    "### High Loadings:\n",
    "- Total Cholesterol (Tot_Chole)\n",
    "- LDL Cholesterol (LDL_Chole)\n",
    "\n",
    "### Interpretation:\n",
    "This factor has high loadings on total cholesterol and LDL cholesterol, which are key indicators of lipid metabolism and cardiovascular health. This factor might represent lipid metabolism and cardiovascular risk, as higher levels of LDL cholesterol are typically associated with an increased risk of heart disease.\n",
    "\n",
    "## Factor 4 (F4)\n",
    "### High Loadings:\n",
    "- Systolic Blood Pressure (SBP)\n",
    "- Diastolic Blood Pressure (DBP)\n",
    "- SGOT_AST (A Liver Enzyme)\n",
    "\n",
    "### Interpretation:\n",
    "This factor has high loadings on systolic and diastolic blood pressure, as well as SGOT_AST (a liver enzyme). The combination of high blood pressure and liver enzyme levels could indicate a factor related to cardiovascular and liver health, possibly capturing the effects of hypertension on the body, including potential impacts on liver function.\n",
    "\n",
    "## Factor 5 (F5)\n",
    "### High Loadings:\n",
    "- HDL Cholesterol (HDL_Chole)\n",
    "- Triglyceride\n",
    "- SGOT_AST (A Liver Enzyme)\n",
    "\n",
    "### Interpretation:\n",
    "This factor has high loadings on HDL cholesterol (often considered “good” cholesterol), triglycerides, and SGOT_AST. This might represent a lipid and liver function factor, capturing aspects of lipid metabolism and its relationship with liver health. Higher levels of HDL cholesterol are generally considered protective against heart disease, while higher triglycerides can be a risk factor.\n",
    "\n",
    "## Factor 6 (F6)\n",
    "### High Loadings:\n",
    "- Sight Left\n",
    "- Sight Right\n",
    "- HDL Cholesterol (HDL_Chole)\n",
    "\n",
    "### Interpretation:\n",
    "This factor has high loadings on both left and right sight measurements, as well as HDL cholesterol. This could indicate a factor related to vision and cardiovascular health, possibly capturing the relationship between good cholesterol levels and eye health.\n"
   ],
   "metadata": {
    "collapsed": false
   },
   "id": "37b289c0eeaa44d5"
  }
 ],
 "metadata": {
  "kernelspec": {
   "display_name": "Python 3",
   "language": "python",
   "name": "python3"
  },
  "language_info": {
   "codemirror_mode": {
    "name": "ipython",
    "version": 3
   },
   "file_extension": ".py",
   "mimetype": "text/x-python",
   "name": "python",
   "nbconvert_exporter": "python",
   "pygments_lexer": "ipython3",
   "version": "3.11.5"
  }
 },
 "nbformat": 4,
 "nbformat_minor": 5
}
