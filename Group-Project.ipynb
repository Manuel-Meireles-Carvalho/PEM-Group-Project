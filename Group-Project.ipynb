{
 "cells": [
  {
   "cell_type": "markdown",
   "id": "bb08688220941b02",
   "metadata": {
    "collapsed": false
   },
   "source": [
    "# Imports\n",
    "---"
   ]
  },
  {
   "cell_type": "code",
   "execution_count": 61,
   "id": "f724c2898314d50b",
   "metadata": {
    "collapsed": false,
    "ExecuteTime": {
     "end_time": "2023-10-31T13:20:18.436873500Z",
     "start_time": "2023-10-31T13:20:18.342968200Z"
    }
   },
   "outputs": [],
   "source": [
    "import pandas as pd\n",
    "import numpy as np\n",
    "import math"
   ]
  },
  {
   "cell_type": "markdown",
   "id": "2479f5d060f9caa7",
   "metadata": {
    "collapsed": false
   },
   "source": [
    "# Import Dataset\n",
    "---\n",
    "**Column Description (Data Source: [Smoking and Drinking Dataset with body signal on Kaggle](https://www.kaggle.com/datasets/sooyoungher/smoking-drinking-dataset/data))**\n",
    "\n",
    "- Sex - male, female\n",
    "- Age - round up to 5 year\n",
    "- Height - round up to 5 cm[cm]\n",
    "- Weight [kg]\n",
    "- Waistline\n",
    "- Sight_left - eyesight(left) the column shows how well the left eye sees, where perfect vision = 1.0\n",
    "- Sight_right - eyesight(right) the column shows how well the right eye sees where perfect vision = 1.0\n",
    "- Hear_left - hearing left, 1(normal), 2(abnormal)\n",
    "- Hear_right - hearing right, 1(normal), 2(abnormal)\n",
    "- SBP - Systolic blood pressure[mmHg]\n",
    "- DBP - Diastolic blood pressure[mmHg]\n",
    "- BLDS - BLDS or FSG(fasting blood glucose)[mg/dL]\n",
    "- Tot_chole - total cholesterol[mg/dL]\n",
    "- HDL_chole - HDL cholesterol[mg/dL] - the only fraction of cholesterol that is called \"good\", \"useful\" cholesterol.\n",
    "- LDL_chole - LDL cholesterol[mg/dL]\n",
    "- Triglyceride - triglyceride[mg/dL]\n",
    "- Hemoglobin - hemoglobin[g/dL]\n",
    "- Urine_protein - protein in urine, 1(-), 2(+/-), 3(+1), 4(+2), 5(+3), 6(+4)\n",
    "- Serum_creatinine - serum(blood) creatinine[mg/dL]\n",
    "- SGOT_AST - SGOT(Glutamate-oxaloacetate transaminase) AST(Aspartate transaminase)[IU/L]\n",
    "- SGOT_ALT - ALT(Alanine transaminase)[IU/L]\n",
    "- Gamma_GTP - y-glutamyl transpeptidase[IU/L]\n",
    "- SMK_stat_type_cd - Smoking state, 1(never), 2(used to smoke but quit), 3(still smoke)\n",
    "- DRK_YN - Drinker or Not\n"
   ]
  },
  {
   "cell_type": "code",
   "execution_count": 62,
   "id": "f805d021",
   "metadata": {
    "ExecuteTime": {
     "end_time": "2023-10-31T13:20:18.499773600Z",
     "start_time": "2023-10-31T13:20:18.349599400Z"
    }
   },
   "outputs": [],
   "source": [
    "def percentage_missing_values(data):\n",
    "    total_cells = np.product(data.shape)\n",
    "\n",
    "    missing_cells = data.isnull().sum().sum()\n",
    "\n",
    "    percentage_missing = (missing_cells / total_cells) * 100\n",
    "    return f\"Percentage of missing values: {percentage_missing:.2f}%\""
   ]
  },
  {
   "cell_type": "code",
   "execution_count": 63,
   "id": "5bfeb1e3f35d16c",
   "metadata": {
    "collapsed": false,
    "ExecuteTime": {
     "end_time": "2023-10-31T13:20:25.429741400Z",
     "start_time": "2023-10-31T13:20:18.355206200Z"
    }
   },
   "outputs": [],
   "source": [
    "df = pd.read_csv('data/sd.csv')\n",
    "df_copy = df.copy()\n",
    "df_copy.head()\n",
    "df.to_csv('outpu.csv', index=False)"
   ]
  },
  {
   "cell_type": "code",
   "execution_count": 64,
   "id": "6b8ff308",
   "metadata": {
    "ExecuteTime": {
     "end_time": "2023-10-31T13:20:25.585455200Z",
     "start_time": "2023-10-31T13:20:25.429741400Z"
    }
   },
   "outputs": [
    {
     "data": {
      "text/plain": "'Percentage of missing values: 0.00%'"
     },
     "execution_count": 64,
     "metadata": {},
     "output_type": "execute_result"
    }
   ],
   "source": [
    "percentage_missing_values(df_copy)"
   ]
  },
  {
   "cell_type": "markdown",
   "id": "572ce6ac156f3cc2",
   "metadata": {
    "collapsed": false
   },
   "source": [
    "# Useful functions\n",
    "---"
   ]
  },
  {
   "cell_type": "code",
   "execution_count": 65,
   "id": "b6cee908add2d907",
   "metadata": {
    "collapsed": false,
    "ExecuteTime": {
     "end_time": "2023-10-31T13:20:25.585959400Z",
     "start_time": "2023-10-31T13:20:25.585455200Z"
    }
   },
   "outputs": [],
   "source": [
    "def remove_outliers_from_columns(df, column_names):\n",
    "\n",
    "    for column_name in column_names:\n",
    "        # Calculate Q1, Q3, and IQR\n",
    "        Q1 = df[column_name].quantile(0.25)\n",
    "        Q3 = df[column_name].quantile(0.75)\n",
    "        IQR = Q3 - Q1\n",
    "\n",
    "        # Define bounds\n",
    "        lower_bound = Q1 - 1.5 * IQR\n",
    "        upper_bound = Q3 + 1.5 * IQR\n",
    "\n",
    "        # Filter out outliers\n",
    "        df = df[(df[column_name] >= lower_bound) & (df[column_name] <= upper_bound)]\n",
    "\n",
    "    return df\n",
    "\n"
   ]
  },
  {
   "cell_type": "code",
   "execution_count": 66,
   "id": "ef7abcc13a93e2c1",
   "metadata": {
    "collapsed": false,
    "ExecuteTime": {
     "end_time": "2023-10-31T13:20:25.595439300Z",
     "start_time": "2023-10-31T13:20:25.585959400Z"
    }
   },
   "outputs": [],
   "source": [
    "def percentage_missing_values(data):\n",
    "    total_cells = np.product(data.shape)\n",
    "\n",
    "    missing_cells = data.isnull().sum().sum()\n",
    "\n",
    "    percentage_missing = (missing_cells / total_cells) * 100\n",
    "    return f\"Percentage of missing values: {percentage_missing:.2f}%\"\n"
   ]
  },
  {
   "cell_type": "code",
   "execution_count": 67,
   "id": "89898db7d78630fe",
   "metadata": {
    "collapsed": false,
    "ExecuteTime": {
     "end_time": "2023-10-31T13:20:25.598440300Z",
     "start_time": "2023-10-31T13:20:25.595439300Z"
    }
   },
   "outputs": [],
   "source": [
    "def duplicate_data(data):\n",
    "\n",
    "    duplicates_cells = data[data.duplicated].shape\n",
    "    \n",
    "    return f\"Number of duplicates: {duplicates_cells[0]}\""
   ]
  },
  {
   "cell_type": "markdown",
   "id": "a469278eea16bc70",
   "metadata": {
    "collapsed": false
   },
   "source": [
    "# Clean data\n",
    "---\n",
    "- Remove outliers\n",
    "- Remove duplicates\n",
    "- impute missing values"
   ]
  },
  {
   "cell_type": "markdown",
   "id": "cd2d1a62ddf0b8ac",
   "metadata": {
    "collapsed": false
   },
   "source": [
    "## Remove Outliers\n",
    "---"
   ]
  },
  {
   "cell_type": "code",
   "execution_count": 68,
   "id": "65fa1f8b0e1ae50",
   "metadata": {
    "collapsed": false,
    "ExecuteTime": {
     "end_time": "2023-10-31T13:20:26.023057100Z",
     "start_time": "2023-10-31T13:20:25.598440300Z"
    }
   },
   "outputs": [
    {
     "data": {
      "text/plain": "                 age         height         weight      waistline  \\\ncount  991346.000000  991346.000000  991346.000000  991346.000000   \nmean       47.614491     162.240625      63.284050      81.233358   \nstd        14.181339       9.282957      12.514241      11.850323   \nmin        20.000000     130.000000      25.000000       8.000000   \n25%        35.000000     155.000000      55.000000      74.100000   \n50%        45.000000     160.000000      60.000000      81.000000   \n75%        60.000000     170.000000      70.000000      87.800000   \nmax        85.000000     190.000000     140.000000     999.000000   \n\n          sight_left    sight_right      hear_left     hear_right  \\\ncount  991346.000000  991346.000000  991346.000000  991346.000000   \nmean        0.980834       0.978429       1.031495       1.030476   \nstd         0.605949       0.604774       0.174650       0.171892   \nmin         0.100000       0.100000       1.000000       1.000000   \n25%         0.700000       0.700000       1.000000       1.000000   \n50%         1.000000       1.000000       1.000000       1.000000   \n75%         1.200000       1.200000       1.000000       1.000000   \nmax         9.900000       9.900000       2.000000       2.000000   \n\n                 SBP            DBP  ...      HDL_chole      LDL_chole  \\\ncount  991346.000000  991346.000000  ...  991346.000000  991346.000000   \nmean      122.432498      76.052627  ...      56.936800     113.037692   \nstd        14.543148       9.889365  ...      17.238479      35.842812   \nmin        67.000000      32.000000  ...       1.000000       1.000000   \n25%       112.000000      70.000000  ...      46.000000      89.000000   \n50%       120.000000      76.000000  ...      55.000000     111.000000   \n75%       131.000000      82.000000  ...      66.000000     135.000000   \nmax       273.000000     185.000000  ...    8110.000000    5119.000000   \n\n        triglyceride     hemoglobin  urine_protein  serum_creatinine  \\\ncount  991346.000000  991346.000000  991346.000000     991346.000000   \nmean      132.141751      14.229824       1.094224          0.860467   \nstd       102.196985       1.584929       0.437724          0.480530   \nmin         1.000000       1.000000       1.000000          0.100000   \n25%        73.000000      13.200000       1.000000          0.700000   \n50%       106.000000      14.300000       1.000000          0.800000   \n75%       159.000000      15.400000       1.000000          1.000000   \nmax      9490.000000      25.000000       6.000000         98.000000   \n\n            SGOT_AST       SGOT_ALT      gamma_GTP  SMK_stat_type_cd  \ncount  991346.000000  991346.000000  991346.000000     991346.000000  \nmean       25.989308      25.755051      37.136347          1.608122  \nstd        23.493386      26.308599      50.424153          0.818507  \nmin         1.000000       1.000000       1.000000          1.000000  \n25%        19.000000      15.000000      16.000000          1.000000  \n50%        23.000000      20.000000      23.000000          1.000000  \n75%        28.000000      29.000000      39.000000          2.000000  \nmax      9999.000000    7210.000000     999.000000          3.000000  \n\n[8 rows x 22 columns]",
      "text/html": "<div>\n<style scoped>\n    .dataframe tbody tr th:only-of-type {\n        vertical-align: middle;\n    }\n\n    .dataframe tbody tr th {\n        vertical-align: top;\n    }\n\n    .dataframe thead th {\n        text-align: right;\n    }\n</style>\n<table border=\"1\" class=\"dataframe\">\n  <thead>\n    <tr style=\"text-align: right;\">\n      <th></th>\n      <th>age</th>\n      <th>height</th>\n      <th>weight</th>\n      <th>waistline</th>\n      <th>sight_left</th>\n      <th>sight_right</th>\n      <th>hear_left</th>\n      <th>hear_right</th>\n      <th>SBP</th>\n      <th>DBP</th>\n      <th>...</th>\n      <th>HDL_chole</th>\n      <th>LDL_chole</th>\n      <th>triglyceride</th>\n      <th>hemoglobin</th>\n      <th>urine_protein</th>\n      <th>serum_creatinine</th>\n      <th>SGOT_AST</th>\n      <th>SGOT_ALT</th>\n      <th>gamma_GTP</th>\n      <th>SMK_stat_type_cd</th>\n    </tr>\n  </thead>\n  <tbody>\n    <tr>\n      <th>count</th>\n      <td>991346.000000</td>\n      <td>991346.000000</td>\n      <td>991346.000000</td>\n      <td>991346.000000</td>\n      <td>991346.000000</td>\n      <td>991346.000000</td>\n      <td>991346.000000</td>\n      <td>991346.000000</td>\n      <td>991346.000000</td>\n      <td>991346.000000</td>\n      <td>...</td>\n      <td>991346.000000</td>\n      <td>991346.000000</td>\n      <td>991346.000000</td>\n      <td>991346.000000</td>\n      <td>991346.000000</td>\n      <td>991346.000000</td>\n      <td>991346.000000</td>\n      <td>991346.000000</td>\n      <td>991346.000000</td>\n      <td>991346.000000</td>\n    </tr>\n    <tr>\n      <th>mean</th>\n      <td>47.614491</td>\n      <td>162.240625</td>\n      <td>63.284050</td>\n      <td>81.233358</td>\n      <td>0.980834</td>\n      <td>0.978429</td>\n      <td>1.031495</td>\n      <td>1.030476</td>\n      <td>122.432498</td>\n      <td>76.052627</td>\n      <td>...</td>\n      <td>56.936800</td>\n      <td>113.037692</td>\n      <td>132.141751</td>\n      <td>14.229824</td>\n      <td>1.094224</td>\n      <td>0.860467</td>\n      <td>25.989308</td>\n      <td>25.755051</td>\n      <td>37.136347</td>\n      <td>1.608122</td>\n    </tr>\n    <tr>\n      <th>std</th>\n      <td>14.181339</td>\n      <td>9.282957</td>\n      <td>12.514241</td>\n      <td>11.850323</td>\n      <td>0.605949</td>\n      <td>0.604774</td>\n      <td>0.174650</td>\n      <td>0.171892</td>\n      <td>14.543148</td>\n      <td>9.889365</td>\n      <td>...</td>\n      <td>17.238479</td>\n      <td>35.842812</td>\n      <td>102.196985</td>\n      <td>1.584929</td>\n      <td>0.437724</td>\n      <td>0.480530</td>\n      <td>23.493386</td>\n      <td>26.308599</td>\n      <td>50.424153</td>\n      <td>0.818507</td>\n    </tr>\n    <tr>\n      <th>min</th>\n      <td>20.000000</td>\n      <td>130.000000</td>\n      <td>25.000000</td>\n      <td>8.000000</td>\n      <td>0.100000</td>\n      <td>0.100000</td>\n      <td>1.000000</td>\n      <td>1.000000</td>\n      <td>67.000000</td>\n      <td>32.000000</td>\n      <td>...</td>\n      <td>1.000000</td>\n      <td>1.000000</td>\n      <td>1.000000</td>\n      <td>1.000000</td>\n      <td>1.000000</td>\n      <td>0.100000</td>\n      <td>1.000000</td>\n      <td>1.000000</td>\n      <td>1.000000</td>\n      <td>1.000000</td>\n    </tr>\n    <tr>\n      <th>25%</th>\n      <td>35.000000</td>\n      <td>155.000000</td>\n      <td>55.000000</td>\n      <td>74.100000</td>\n      <td>0.700000</td>\n      <td>0.700000</td>\n      <td>1.000000</td>\n      <td>1.000000</td>\n      <td>112.000000</td>\n      <td>70.000000</td>\n      <td>...</td>\n      <td>46.000000</td>\n      <td>89.000000</td>\n      <td>73.000000</td>\n      <td>13.200000</td>\n      <td>1.000000</td>\n      <td>0.700000</td>\n      <td>19.000000</td>\n      <td>15.000000</td>\n      <td>16.000000</td>\n      <td>1.000000</td>\n    </tr>\n    <tr>\n      <th>50%</th>\n      <td>45.000000</td>\n      <td>160.000000</td>\n      <td>60.000000</td>\n      <td>81.000000</td>\n      <td>1.000000</td>\n      <td>1.000000</td>\n      <td>1.000000</td>\n      <td>1.000000</td>\n      <td>120.000000</td>\n      <td>76.000000</td>\n      <td>...</td>\n      <td>55.000000</td>\n      <td>111.000000</td>\n      <td>106.000000</td>\n      <td>14.300000</td>\n      <td>1.000000</td>\n      <td>0.800000</td>\n      <td>23.000000</td>\n      <td>20.000000</td>\n      <td>23.000000</td>\n      <td>1.000000</td>\n    </tr>\n    <tr>\n      <th>75%</th>\n      <td>60.000000</td>\n      <td>170.000000</td>\n      <td>70.000000</td>\n      <td>87.800000</td>\n      <td>1.200000</td>\n      <td>1.200000</td>\n      <td>1.000000</td>\n      <td>1.000000</td>\n      <td>131.000000</td>\n      <td>82.000000</td>\n      <td>...</td>\n      <td>66.000000</td>\n      <td>135.000000</td>\n      <td>159.000000</td>\n      <td>15.400000</td>\n      <td>1.000000</td>\n      <td>1.000000</td>\n      <td>28.000000</td>\n      <td>29.000000</td>\n      <td>39.000000</td>\n      <td>2.000000</td>\n    </tr>\n    <tr>\n      <th>max</th>\n      <td>85.000000</td>\n      <td>190.000000</td>\n      <td>140.000000</td>\n      <td>999.000000</td>\n      <td>9.900000</td>\n      <td>9.900000</td>\n      <td>2.000000</td>\n      <td>2.000000</td>\n      <td>273.000000</td>\n      <td>185.000000</td>\n      <td>...</td>\n      <td>8110.000000</td>\n      <td>5119.000000</td>\n      <td>9490.000000</td>\n      <td>25.000000</td>\n      <td>6.000000</td>\n      <td>98.000000</td>\n      <td>9999.000000</td>\n      <td>7210.000000</td>\n      <td>999.000000</td>\n      <td>3.000000</td>\n    </tr>\n  </tbody>\n</table>\n<p>8 rows × 22 columns</p>\n</div>"
     },
     "execution_count": 68,
     "metadata": {},
     "output_type": "execute_result"
    }
   ],
   "source": [
    "df_copy.describe()"
   ]
  },
  {
   "cell_type": "code",
   "execution_count": 69,
   "id": "5a40e0e5da80beb8",
   "metadata": {
    "collapsed": false,
    "ExecuteTime": {
     "end_time": "2023-10-31T13:20:27.032992500Z",
     "start_time": "2023-10-31T13:20:26.023057100Z"
    }
   },
   "outputs": [],
   "source": [
    "df_copy = remove_outliers_from_columns(df_copy, ['waistline','SBP', 'DBP','BLDS','tot_chole','triglyceride','serum_creatinine','SGOT_AST', 'SGOT_ALT','sight_left','sight_right','gamma_GTP'])"
   ]
  },
  {
   "cell_type": "code",
   "execution_count": 70,
   "id": "66b80719e1c2a5a",
   "metadata": {
    "collapsed": false,
    "ExecuteTime": {
     "end_time": "2023-10-31T13:20:27.315426800Z",
     "start_time": "2023-10-31T13:20:27.032992500Z"
    }
   },
   "outputs": [
    {
     "data": {
      "text/plain": "                 age         height         weight      waistline  \\\ncount  676654.000000  676654.000000  676654.000000  676654.000000   \nmean       46.909824     161.324872      60.784027      79.027450   \nstd        14.451683       9.171283      11.280088       8.972096   \nmin        20.000000     130.000000      25.000000      53.600000   \n25%        35.000000     155.000000      50.000000      72.500000   \n50%        45.000000     160.000000      60.000000      79.000000   \n75%        55.000000     170.000000      70.000000      85.000000   \nmax        85.000000     190.000000     125.000000     108.300000   \n\n          sight_left    sight_right      hear_left     hear_right  \\\ncount  676654.000000  676654.000000  676654.000000  676654.000000   \nmean        0.944601       0.942262       1.029503       1.028521   \nstd         0.327505       0.327287       0.169210       0.166457   \nmin         0.100000       0.100000       1.000000       1.000000   \n25%         0.700000       0.700000       1.000000       1.000000   \n50%         1.000000       1.000000       1.000000       1.000000   \n75%         1.200000       1.200000       1.000000       1.000000   \nmax         1.900000       1.900000       2.000000       2.000000   \n\n                 SBP            DBP  ...      HDL_chole      LDL_chole  \\\ncount  676654.000000  676654.000000  ...  676654.000000  676654.000000   \nmean      119.854122      74.367279  ...      58.757409     112.626100   \nstd        12.957561       8.642721  ...      14.969314      31.830963   \nmin        84.000000      54.000000  ...       1.000000       1.000000   \n25%       110.000000      69.000000  ...      48.000000      90.000000   \n50%       120.000000      74.000000  ...      57.000000     111.000000   \n75%       130.000000      80.000000  ...      67.000000     133.000000   \nmax       159.000000      97.000000  ...     933.000000    1750.000000   \n\n        triglyceride     hemoglobin  urine_protein  serum_creatinine  \\\ncount  676654.000000  676654.000000  676654.000000     676654.000000   \nmean      105.011242      13.968156       1.069199          0.827369   \nstd        50.361684       1.527757       0.355467          0.188520   \nmin         1.000000       1.000000       1.000000          0.300000   \n25%        67.000000      13.000000       1.000000          0.700000   \n50%        94.000000      13.900000       1.000000          0.800000   \n75%       132.000000      15.100000       1.000000          1.000000   \nmax       272.000000      25.000000       6.000000          1.400000   \n\n            SGOT_AST       SGOT_ALT      gamma_GTP  SMK_stat_type_cd  \ncount  676654.000000  676654.000000  676654.000000     676654.000000  \nmean       22.006646      19.127022      22.095479          1.490010  \nstd         5.596770       7.797004      10.720541          0.767761  \nmin         6.000000       1.000000       1.000000          1.000000  \n25%        18.000000      13.000000      14.000000          1.000000  \n50%        21.000000      18.000000      19.000000          1.000000  \n75%        25.000000      23.000000      28.000000          2.000000  \nmax        41.000000      44.000000      56.000000          3.000000  \n\n[8 rows x 22 columns]",
      "text/html": "<div>\n<style scoped>\n    .dataframe tbody tr th:only-of-type {\n        vertical-align: middle;\n    }\n\n    .dataframe tbody tr th {\n        vertical-align: top;\n    }\n\n    .dataframe thead th {\n        text-align: right;\n    }\n</style>\n<table border=\"1\" class=\"dataframe\">\n  <thead>\n    <tr style=\"text-align: right;\">\n      <th></th>\n      <th>age</th>\n      <th>height</th>\n      <th>weight</th>\n      <th>waistline</th>\n      <th>sight_left</th>\n      <th>sight_right</th>\n      <th>hear_left</th>\n      <th>hear_right</th>\n      <th>SBP</th>\n      <th>DBP</th>\n      <th>...</th>\n      <th>HDL_chole</th>\n      <th>LDL_chole</th>\n      <th>triglyceride</th>\n      <th>hemoglobin</th>\n      <th>urine_protein</th>\n      <th>serum_creatinine</th>\n      <th>SGOT_AST</th>\n      <th>SGOT_ALT</th>\n      <th>gamma_GTP</th>\n      <th>SMK_stat_type_cd</th>\n    </tr>\n  </thead>\n  <tbody>\n    <tr>\n      <th>count</th>\n      <td>676654.000000</td>\n      <td>676654.000000</td>\n      <td>676654.000000</td>\n      <td>676654.000000</td>\n      <td>676654.000000</td>\n      <td>676654.000000</td>\n      <td>676654.000000</td>\n      <td>676654.000000</td>\n      <td>676654.000000</td>\n      <td>676654.000000</td>\n      <td>...</td>\n      <td>676654.000000</td>\n      <td>676654.000000</td>\n      <td>676654.000000</td>\n      <td>676654.000000</td>\n      <td>676654.000000</td>\n      <td>676654.000000</td>\n      <td>676654.000000</td>\n      <td>676654.000000</td>\n      <td>676654.000000</td>\n      <td>676654.000000</td>\n    </tr>\n    <tr>\n      <th>mean</th>\n      <td>46.909824</td>\n      <td>161.324872</td>\n      <td>60.784027</td>\n      <td>79.027450</td>\n      <td>0.944601</td>\n      <td>0.942262</td>\n      <td>1.029503</td>\n      <td>1.028521</td>\n      <td>119.854122</td>\n      <td>74.367279</td>\n      <td>...</td>\n      <td>58.757409</td>\n      <td>112.626100</td>\n      <td>105.011242</td>\n      <td>13.968156</td>\n      <td>1.069199</td>\n      <td>0.827369</td>\n      <td>22.006646</td>\n      <td>19.127022</td>\n      <td>22.095479</td>\n      <td>1.490010</td>\n    </tr>\n    <tr>\n      <th>std</th>\n      <td>14.451683</td>\n      <td>9.171283</td>\n      <td>11.280088</td>\n      <td>8.972096</td>\n      <td>0.327505</td>\n      <td>0.327287</td>\n      <td>0.169210</td>\n      <td>0.166457</td>\n      <td>12.957561</td>\n      <td>8.642721</td>\n      <td>...</td>\n      <td>14.969314</td>\n      <td>31.830963</td>\n      <td>50.361684</td>\n      <td>1.527757</td>\n      <td>0.355467</td>\n      <td>0.188520</td>\n      <td>5.596770</td>\n      <td>7.797004</td>\n      <td>10.720541</td>\n      <td>0.767761</td>\n    </tr>\n    <tr>\n      <th>min</th>\n      <td>20.000000</td>\n      <td>130.000000</td>\n      <td>25.000000</td>\n      <td>53.600000</td>\n      <td>0.100000</td>\n      <td>0.100000</td>\n      <td>1.000000</td>\n      <td>1.000000</td>\n      <td>84.000000</td>\n      <td>54.000000</td>\n      <td>...</td>\n      <td>1.000000</td>\n      <td>1.000000</td>\n      <td>1.000000</td>\n      <td>1.000000</td>\n      <td>1.000000</td>\n      <td>0.300000</td>\n      <td>6.000000</td>\n      <td>1.000000</td>\n      <td>1.000000</td>\n      <td>1.000000</td>\n    </tr>\n    <tr>\n      <th>25%</th>\n      <td>35.000000</td>\n      <td>155.000000</td>\n      <td>50.000000</td>\n      <td>72.500000</td>\n      <td>0.700000</td>\n      <td>0.700000</td>\n      <td>1.000000</td>\n      <td>1.000000</td>\n      <td>110.000000</td>\n      <td>69.000000</td>\n      <td>...</td>\n      <td>48.000000</td>\n      <td>90.000000</td>\n      <td>67.000000</td>\n      <td>13.000000</td>\n      <td>1.000000</td>\n      <td>0.700000</td>\n      <td>18.000000</td>\n      <td>13.000000</td>\n      <td>14.000000</td>\n      <td>1.000000</td>\n    </tr>\n    <tr>\n      <th>50%</th>\n      <td>45.000000</td>\n      <td>160.000000</td>\n      <td>60.000000</td>\n      <td>79.000000</td>\n      <td>1.000000</td>\n      <td>1.000000</td>\n      <td>1.000000</td>\n      <td>1.000000</td>\n      <td>120.000000</td>\n      <td>74.000000</td>\n      <td>...</td>\n      <td>57.000000</td>\n      <td>111.000000</td>\n      <td>94.000000</td>\n      <td>13.900000</td>\n      <td>1.000000</td>\n      <td>0.800000</td>\n      <td>21.000000</td>\n      <td>18.000000</td>\n      <td>19.000000</td>\n      <td>1.000000</td>\n    </tr>\n    <tr>\n      <th>75%</th>\n      <td>55.000000</td>\n      <td>170.000000</td>\n      <td>70.000000</td>\n      <td>85.000000</td>\n      <td>1.200000</td>\n      <td>1.200000</td>\n      <td>1.000000</td>\n      <td>1.000000</td>\n      <td>130.000000</td>\n      <td>80.000000</td>\n      <td>...</td>\n      <td>67.000000</td>\n      <td>133.000000</td>\n      <td>132.000000</td>\n      <td>15.100000</td>\n      <td>1.000000</td>\n      <td>1.000000</td>\n      <td>25.000000</td>\n      <td>23.000000</td>\n      <td>28.000000</td>\n      <td>2.000000</td>\n    </tr>\n    <tr>\n      <th>max</th>\n      <td>85.000000</td>\n      <td>190.000000</td>\n      <td>125.000000</td>\n      <td>108.300000</td>\n      <td>1.900000</td>\n      <td>1.900000</td>\n      <td>2.000000</td>\n      <td>2.000000</td>\n      <td>159.000000</td>\n      <td>97.000000</td>\n      <td>...</td>\n      <td>933.000000</td>\n      <td>1750.000000</td>\n      <td>272.000000</td>\n      <td>25.000000</td>\n      <td>6.000000</td>\n      <td>1.400000</td>\n      <td>41.000000</td>\n      <td>44.000000</td>\n      <td>56.000000</td>\n      <td>3.000000</td>\n    </tr>\n  </tbody>\n</table>\n<p>8 rows × 22 columns</p>\n</div>"
     },
     "execution_count": 70,
     "metadata": {},
     "output_type": "execute_result"
    }
   ],
   "source": [
    "df_copy.describe()"
   ]
  },
  {
   "cell_type": "markdown",
   "id": "6f50189ec4d3f6a",
   "metadata": {
    "collapsed": false
   },
   "source": [
    "## Remove Duplicates\n",
    "---"
   ]
  },
  {
   "cell_type": "code",
   "execution_count": 71,
   "id": "7117fe644664da0d",
   "metadata": {
    "collapsed": false,
    "ExecuteTime": {
     "end_time": "2023-10-31T13:20:27.578896100Z",
     "start_time": "2023-10-31T13:20:27.315426800Z"
    }
   },
   "outputs": [
    {
     "data": {
      "text/plain": "'Number of duplicates: 14'"
     },
     "execution_count": 71,
     "metadata": {},
     "output_type": "execute_result"
    }
   ],
   "source": [
    "duplicate_data(df_copy)"
   ]
  },
  {
   "cell_type": "code",
   "execution_count": 72,
   "outputs": [],
   "source": [
    "df_copy = df_copy.drop_duplicates(keep= 'last')"
   ],
   "metadata": {
    "collapsed": false,
    "ExecuteTime": {
     "end_time": "2023-10-31T13:20:27.850300300Z",
     "start_time": "2023-10-31T13:20:27.578896100Z"
    }
   },
   "id": "be53f201066bcc89"
  },
  {
   "cell_type": "code",
   "execution_count": 73,
   "outputs": [
    {
     "data": {
      "text/plain": "'Number of duplicates: 0'"
     },
     "execution_count": 73,
     "metadata": {},
     "output_type": "execute_result"
    }
   ],
   "source": [
    "duplicate_data(df_copy)"
   ],
   "metadata": {
    "collapsed": false,
    "ExecuteTime": {
     "end_time": "2023-10-31T13:20:28.116985300Z",
     "start_time": "2023-10-31T13:20:27.850300300Z"
    }
   },
   "id": "7f796b2397584faa"
  },
  {
   "cell_type": "markdown",
   "id": "1d486ba5aa6421fe",
   "metadata": {
    "collapsed": false
   },
   "source": [
    "## Impute Missing Values \n",
    "---"
   ]
  },
  {
   "cell_type": "code",
   "execution_count": 74,
   "id": "39131a55ca7c6ab1",
   "metadata": {
    "collapsed": false,
    "ExecuteTime": {
     "end_time": "2023-10-31T13:20:28.221867500Z",
     "start_time": "2023-10-31T13:20:28.116985300Z"
    }
   },
   "outputs": [
    {
     "data": {
      "text/plain": "'Percentage of missing values: 0.00%'"
     },
     "execution_count": 74,
     "metadata": {},
     "output_type": "execute_result"
    }
   ],
   "source": [
    "percentage_missing_values(df_copy)"
   ]
  },
  {
   "cell_type": "code",
   "execution_count": 75,
   "id": "ada96391d295c6d5",
   "metadata": {
    "collapsed": false,
    "ExecuteTime": {
     "end_time": "2023-10-31T13:20:28.226906600Z",
     "start_time": "2023-10-31T13:20:28.221867500Z"
    }
   },
   "outputs": [
    {
     "data": {
      "text/plain": "'print(df_copy.select_dtypes(include=[object,bool]).columns)'"
     },
     "execution_count": 75,
     "metadata": {},
     "output_type": "execute_result"
    }
   ],
   "source": [
    "\"\"\"print(df_copy.select_dtypes(include=[object,bool]).columns)\"\"\""
   ]
  },
  {
   "cell_type": "code",
   "execution_count": 76,
   "id": "411c5c40",
   "metadata": {
    "ExecuteTime": {
     "end_time": "2023-10-31T13:20:28.231338700Z",
     "start_time": "2023-10-31T13:20:28.228934Z"
    }
   },
   "outputs": [
    {
     "data": {
      "text/plain": "'df_copy.info()'"
     },
     "execution_count": 76,
     "metadata": {},
     "output_type": "execute_result"
    }
   ],
   "source": [
    "\"\"\"df_copy.info()\"\"\""
   ]
  },
  {
   "cell_type": "markdown",
   "id": "b74b8f0b",
   "metadata": {},
   "source": [
    "### Modeling with One Hot Encoding"
   ]
  },
  {
   "cell_type": "code",
   "execution_count": 77,
   "id": "27aa8ccb",
   "metadata": {
    "ExecuteTime": {
     "end_time": "2023-10-31T13:20:28.235973900Z",
     "start_time": "2023-10-31T13:20:28.231338700Z"
    }
   },
   "outputs": [],
   "source": [
    "import random\n",
    "from sklearn.metrics import mean_squared_error, r2_score\n",
    "import statsmodels.api as sm\n",
    "from sklearn.impute import SimpleImputer\n",
    "from sklearn.model_selection import train_test_split\n",
    "from sklearn.linear_model import LinearRegression\n",
    "from sklearn.neighbors import KNeighborsClassifier, KNeighborsRegressor\n",
    "from sklearn.linear_model import LogisticRegression\n",
    "from sklearn.compose import make_column_transformer\n",
    "from sklearn.pipeline import make_pipeline\n",
    "from sklearn.preprocessing import OneHotEncoder, StandardScaler\n",
    "from sklearn.metrics import accuracy_score, precision_score, f1_score, recall_score, r2_score, mean_squared_error,classification_report\n",
    "import matplotlib.pyplot as plt\n",
    "import seaborn \n",
    "%matplotlib inline"
   ]
  },
  {
   "cell_type": "code",
   "execution_count": 78,
   "id": "067bea91",
   "metadata": {
    "ExecuteTime": {
     "end_time": "2023-10-31T13:20:28.292486800Z",
     "start_time": "2023-10-31T13:20:28.235973900Z"
    }
   },
   "outputs": [],
   "source": [
    "categ = df_copy.select_dtypes(include=[\"object\", \"category\"]).columns.to_list()\n",
    "num = df_copy.select_dtypes(exclude=[\"object\", \"category\"]).columns.to_list()\n",
    "\n",
    "num.remove('SMK_stat_type_cd')\n",
    "preprocessor = make_column_transformer(\n",
    "        (OneHotEncoder(), categ),\n",
    "        (StandardScaler(), num)\n",
    "    )\n"
   ]
  },
  {
   "cell_type": "markdown",
   "id": "71c4259b",
   "metadata": {},
   "source": [
    "Classifier Function"
   ]
  },
  {
   "cell_type": "code",
   "execution_count": 79,
   "id": "aa00ca91",
   "metadata": {
    "ExecuteTime": {
     "end_time": "2023-10-31T13:20:28.292486800Z",
     "start_time": "2023-10-31T13:20:28.276557600Z"
    }
   },
   "outputs": [],
   "source": [
    "def evaluate_classifier_metrics(classifier, X_train, y_train, X_test, y_test):\n",
    "\n",
    "    classifier.fit(X_train, y_train)\n",
    "\n",
    "    test_predictions = classifier.predict(X_test)\n",
    "    train_predictions = classifier.predict(X_train)\n",
    "    print('Train Set Classification Results:')\n",
    "    print(classification_report(y_train,train_predictions))\n",
    "    print('\\nTest Set Classification Results:')\n",
    "    print(classification_report(y_test,test_predictions))"
   ]
  },
  {
   "cell_type": "markdown",
   "id": "3ab008e4",
   "metadata": {},
   "source": [
    "KNN Classifier"
   ]
  },
  {
   "cell_type": "code",
   "execution_count": 80,
   "id": "f2ed64c7",
   "metadata": {
    "ExecuteTime": {
     "end_time": "2023-10-31T13:22:26.737766500Z",
     "start_time": "2023-10-31T13:20:28.277979300Z"
    }
   },
   "outputs": [
    {
     "name": "stdout",
     "output_type": "stream",
     "text": [
      "Train Set Classification Results:\n",
      "              precision    recall  f1-score   support\n",
      "\n",
      "         1.0       0.86      0.94      0.90    367986\n",
      "         2.0       0.61      0.54      0.57     81403\n",
      "         3.0       0.68      0.48      0.56     91923\n",
      "\n",
      "    accuracy                           0.80    541312\n",
      "   macro avg       0.72      0.65      0.68    541312\n",
      "weighted avg       0.79      0.80      0.79    541312\n",
      "\n",
      "\n",
      "Test Set Classification Results:\n",
      "              precision    recall  f1-score   support\n",
      "\n",
      "         1.0       0.80      0.89      0.84     91974\n",
      "         2.0       0.37      0.32      0.34     20400\n",
      "         3.0       0.43      0.30      0.36     22954\n",
      "\n",
      "    accuracy                           0.70    135328\n",
      "   macro avg       0.54      0.50      0.52    135328\n",
      "weighted avg       0.68      0.70      0.69    135328\n"
     ]
    }
   ],
   "source": [
    "from sklearn.neighbors import KNeighborsClassifier\n",
    "from sklearn.linear_model import LogisticRegression\n",
    "\n",
    "X = df_copy.drop('SMK_stat_type_cd',axis=1)\n",
    "y = df_copy['SMK_stat_type_cd'] \n",
    "\n",
    "X = preprocessor.fit_transform(X)\n",
    "knn_classifier = KNeighborsClassifier(n_neighbors=4)\n",
    "X_train,X_test,y_train,y_test = train_test_split(X,y,test_size=0.2, random_state=42)\n",
    "knn_metrics = evaluate_classifier_metrics(knn_classifier, X_train, y_train, X_test, y_test)"
   ]
  },
  {
   "cell_type": "markdown",
   "id": "0ce88f28",
   "metadata": {},
   "source": [
    "Logistic Regression"
   ]
  },
  {
   "cell_type": "code",
   "execution_count": 81,
   "id": "ec3c9a93",
   "metadata": {
    "ExecuteTime": {
     "end_time": "2023-10-31T13:22:30.375510300Z",
     "start_time": "2023-10-31T13:22:26.737766500Z"
    }
   },
   "outputs": [
    {
     "name": "stdout",
     "output_type": "stream",
     "text": [
      "Logistic Regression Metrics:\n",
      "Train Set Classification Results:\n",
      "              precision    recall  f1-score   support\n",
      "\n",
      "         1.0       0.83      0.88      0.86    367986\n",
      "         2.0       0.46      0.33      0.38     81403\n",
      "         3.0       0.48      0.49      0.49     91923\n",
      "\n",
      "    accuracy                           0.73    541312\n",
      "   macro avg       0.59      0.57      0.58    541312\n",
      "weighted avg       0.72      0.73      0.72    541312\n",
      "\n",
      "\n",
      "Test Set Classification Results:\n",
      "              precision    recall  f1-score   support\n",
      "\n",
      "         1.0       0.83      0.88      0.86     91974\n",
      "         2.0       0.46      0.33      0.38     20400\n",
      "         3.0       0.48      0.50      0.49     22954\n",
      "\n",
      "    accuracy                           0.73    135328\n",
      "   macro avg       0.59      0.57      0.58    135328\n",
      "weighted avg       0.72      0.73      0.72    135328\n"
     ]
    }
   ],
   "source": [
    "logistic_classifier = LogisticRegression()\n",
    "print(\"Logistic Regression Metrics:\")\n",
    "logistic_metrics = evaluate_classifier_metrics(logistic_classifier, X_train, y_train, X_test, y_test)\n"
   ]
  },
  {
   "cell_type": "markdown",
   "source": [],
   "metadata": {
    "collapsed": false
   },
   "id": "e2b7dc50e42ebda9"
  },
  {
   "cell_type": "markdown",
   "source": [
    "# PCA\n",
    "---"
   ],
   "metadata": {
    "collapsed": false
   },
   "id": "5075fe0d2aac4a64"
  },
  {
   "cell_type": "code",
   "execution_count": 82,
   "outputs": [],
   "source": [
    "# if fanalysis is already installed, import it - else install and import it\n",
    "try:\n",
    "    from fanalysis.pca import PCA\n",
    "except:\n",
    "    !pip install fanalysis\n",
    "    from fanalysis.pca import PCA"
   ],
   "metadata": {
    "collapsed": false,
    "ExecuteTime": {
     "end_time": "2023-10-31T13:22:30.376015100Z",
     "start_time": "2023-10-31T13:22:30.375510300Z"
    }
   },
   "id": "23c04f36dbfda6c3"
  },
  {
   "cell_type": "markdown",
   "source": [
    "# PCA Copy\n",
    "---"
   ],
   "metadata": {
    "collapsed": false
   },
   "id": "c343c886856a4c48"
  },
  {
   "cell_type": "code",
   "execution_count": 83,
   "outputs": [],
   "source": [
    "pca_copy = df_copy.copy()"
   ],
   "metadata": {
    "collapsed": false,
    "ExecuteTime": {
     "end_time": "2023-10-31T13:22:30.420927200Z",
     "start_time": "2023-10-31T13:22:30.376015100Z"
    }
   },
   "id": "9a9107eb84585a3c"
  },
  {
   "cell_type": "markdown",
   "source": [
    "# Create Variable Mappings\n",
    "---"
   ],
   "metadata": {
    "collapsed": false
   },
   "id": "6d519c23b80ce6ad"
  },
  {
   "cell_type": "code",
   "execution_count": 84,
   "outputs": [],
   "source": [
    "pca_copy['SMK_stat_type_cd'] = pca_copy['SMK_stat_type_cd'].map({1: 'N', 2: 'Q', 3: 'S'}) # Smoking state, 1(never) = N , 2(used to smoke but quit) = Q, 3(still smoke) = S\n",
    "pca_copy['hear_left'] = pca_copy['hear_left'].map({1: 'Normal', 2: 'Abnormal'})\n",
    "pca_copy['hear_right'] = pca_copy['hear_right'].map({1: 'Normal', 2: 'Abnormal'})\n",
    "pca_copy['urine_protein'] = pca_copy['urine_protein'].map({1: '-', 2: '+/-', 3: '+1', 4: '+2', 5: '+3', 6: '+4'})"
   ],
   "metadata": {
    "collapsed": false,
    "ExecuteTime": {
     "end_time": "2023-10-31T13:22:30.550576900Z",
     "start_time": "2023-10-31T13:22:30.420927200Z"
    }
   },
   "id": "65045f220b47faf7"
  },
  {
   "cell_type": "code",
   "execution_count": 85,
   "outputs": [
    {
     "data": {
      "text/plain": "    sex  age  height  weight  waistline  sight_left  sight_right hear_left  \\\n0  Male   35     170      75       90.0         1.0          1.0    Normal   \n1  Male   30     180      80       89.0         0.9          1.2    Normal   \n3  Male   50     175      80       91.0         1.5          1.2    Normal   \n4  Male   50     165      60       80.0         1.0          1.2    Normal   \n5  Male   50     165      55       75.0         1.2          1.5    Normal   \n\n  hear_right    SBP  ...  LDL_chole  triglyceride  hemoglobin  urine_protein  \\\n0     Normal  120.0  ...      126.0          92.0        17.1              -   \n1     Normal  130.0  ...      148.0         121.0        15.8              -   \n3     Normal  145.0  ...      104.0         106.0        17.6              -   \n4     Normal  138.0  ...      117.0         104.0        13.8              -   \n5     Normal  142.0  ...       95.0         232.0        13.8             +1   \n\n   serum_creatinine  SGOT_AST  SGOT_ALT gamma_GTP  SMK_stat_type_cd  DRK_YN  \n0               1.0      21.0      35.0      40.0                 N       Y  \n1               0.9      20.0      36.0      27.0                 S       N  \n3               1.1      29.0      34.0      18.0                 N       N  \n4               0.8      19.0      12.0      25.0                 N       N  \n5               0.8      29.0      40.0      37.0                 S       Y  \n\n[5 rows x 24 columns]",
      "text/html": "<div>\n<style scoped>\n    .dataframe tbody tr th:only-of-type {\n        vertical-align: middle;\n    }\n\n    .dataframe tbody tr th {\n        vertical-align: top;\n    }\n\n    .dataframe thead th {\n        text-align: right;\n    }\n</style>\n<table border=\"1\" class=\"dataframe\">\n  <thead>\n    <tr style=\"text-align: right;\">\n      <th></th>\n      <th>sex</th>\n      <th>age</th>\n      <th>height</th>\n      <th>weight</th>\n      <th>waistline</th>\n      <th>sight_left</th>\n      <th>sight_right</th>\n      <th>hear_left</th>\n      <th>hear_right</th>\n      <th>SBP</th>\n      <th>...</th>\n      <th>LDL_chole</th>\n      <th>triglyceride</th>\n      <th>hemoglobin</th>\n      <th>urine_protein</th>\n      <th>serum_creatinine</th>\n      <th>SGOT_AST</th>\n      <th>SGOT_ALT</th>\n      <th>gamma_GTP</th>\n      <th>SMK_stat_type_cd</th>\n      <th>DRK_YN</th>\n    </tr>\n  </thead>\n  <tbody>\n    <tr>\n      <th>0</th>\n      <td>Male</td>\n      <td>35</td>\n      <td>170</td>\n      <td>75</td>\n      <td>90.0</td>\n      <td>1.0</td>\n      <td>1.0</td>\n      <td>Normal</td>\n      <td>Normal</td>\n      <td>120.0</td>\n      <td>...</td>\n      <td>126.0</td>\n      <td>92.0</td>\n      <td>17.1</td>\n      <td>-</td>\n      <td>1.0</td>\n      <td>21.0</td>\n      <td>35.0</td>\n      <td>40.0</td>\n      <td>N</td>\n      <td>Y</td>\n    </tr>\n    <tr>\n      <th>1</th>\n      <td>Male</td>\n      <td>30</td>\n      <td>180</td>\n      <td>80</td>\n      <td>89.0</td>\n      <td>0.9</td>\n      <td>1.2</td>\n      <td>Normal</td>\n      <td>Normal</td>\n      <td>130.0</td>\n      <td>...</td>\n      <td>148.0</td>\n      <td>121.0</td>\n      <td>15.8</td>\n      <td>-</td>\n      <td>0.9</td>\n      <td>20.0</td>\n      <td>36.0</td>\n      <td>27.0</td>\n      <td>S</td>\n      <td>N</td>\n    </tr>\n    <tr>\n      <th>3</th>\n      <td>Male</td>\n      <td>50</td>\n      <td>175</td>\n      <td>80</td>\n      <td>91.0</td>\n      <td>1.5</td>\n      <td>1.2</td>\n      <td>Normal</td>\n      <td>Normal</td>\n      <td>145.0</td>\n      <td>...</td>\n      <td>104.0</td>\n      <td>106.0</td>\n      <td>17.6</td>\n      <td>-</td>\n      <td>1.1</td>\n      <td>29.0</td>\n      <td>34.0</td>\n      <td>18.0</td>\n      <td>N</td>\n      <td>N</td>\n    </tr>\n    <tr>\n      <th>4</th>\n      <td>Male</td>\n      <td>50</td>\n      <td>165</td>\n      <td>60</td>\n      <td>80.0</td>\n      <td>1.0</td>\n      <td>1.2</td>\n      <td>Normal</td>\n      <td>Normal</td>\n      <td>138.0</td>\n      <td>...</td>\n      <td>117.0</td>\n      <td>104.0</td>\n      <td>13.8</td>\n      <td>-</td>\n      <td>0.8</td>\n      <td>19.0</td>\n      <td>12.0</td>\n      <td>25.0</td>\n      <td>N</td>\n      <td>N</td>\n    </tr>\n    <tr>\n      <th>5</th>\n      <td>Male</td>\n      <td>50</td>\n      <td>165</td>\n      <td>55</td>\n      <td>75.0</td>\n      <td>1.2</td>\n      <td>1.5</td>\n      <td>Normal</td>\n      <td>Normal</td>\n      <td>142.0</td>\n      <td>...</td>\n      <td>95.0</td>\n      <td>232.0</td>\n      <td>13.8</td>\n      <td>+1</td>\n      <td>0.8</td>\n      <td>29.0</td>\n      <td>40.0</td>\n      <td>37.0</td>\n      <td>S</td>\n      <td>Y</td>\n    </tr>\n  </tbody>\n</table>\n<p>5 rows × 24 columns</p>\n</div>"
     },
     "execution_count": 85,
     "metadata": {},
     "output_type": "execute_result"
    }
   ],
   "source": [
    "pca_copy.head()"
   ],
   "metadata": {
    "collapsed": false,
    "ExecuteTime": {
     "end_time": "2023-10-31T13:22:30.562426500Z",
     "start_time": "2023-10-31T13:22:30.550576900Z"
    }
   },
   "id": "a4c7e302cc30f438"
  },
  {
   "cell_type": "markdown",
   "source": [
    "# Standard Scaling\n",
    "---\n",
    "- PCA works by identifying the directions (principal components) in which the data varies the most. If the features are on different scales, the features with higher magnitude (regardless of their actual variance in the data) will dominate the first principal components, potentially leading to misleading results. Standardizing ensures that all features contribute equally to the calculation of the principal components.\n",
    "- PCA is sensitive to the mean of the data. By subtracting the mean of each feature from the data, standard scaling centers the data around the origin. This is important because PCA identifies the principal components using covariance or correlation, both of which are affected by the mean of the data."
   ],
   "metadata": {
    "collapsed": false
   },
   "id": "831495d84913eb6b"
  },
  {
   "cell_type": "code",
   "execution_count": 86,
   "outputs": [
    {
     "name": "stdout",
     "output_type": "stream",
     "text": [
      "        age    height    weight  waistline  sight_left  sight_right       SBP  \\\n",
      "0 -0.824115  0.945905  1.260278   1.222973    0.169151     0.176412  0.011263   \n",
      "1 -1.170097  2.036267  1.703537   1.111516   -0.136186     0.787496  0.783017   \n",
      "2  0.213830  1.491086  1.703537   1.334430    1.695835     0.787496  1.940647   \n",
      "3  0.213830  0.400724 -0.069500   0.108403    0.169151     0.787496  1.400420   \n",
      "4  0.213830  0.400724 -0.512759  -0.448882    0.779824     1.704122  1.709121   \n",
      "\n",
      "        DBP      BLDS  tot_chole  HDL_chole  LDL_chole  triglyceride  \\\n",
      "0  0.651736  0.383969   0.016305  -0.718640   0.420158     -0.258352   \n",
      "1  0.883145  1.012019   1.038141  -0.251018   1.111309      0.317481   \n",
      "2  1.461669  0.025084   0.249867   1.151849  -0.270993      0.019636   \n",
      "3  0.883145  0.563412   0.191477   0.149801   0.137414     -0.020076   \n",
      "4  2.040194  0.383969   0.746188   1.218653  -0.553737      2.521534   \n",
      "\n",
      "   hemoglobin  serum_creatinine  SGOT_AST  SGOT_ALT  gamma_GTP  \n",
      "0    2.049989          0.915723 -0.179864  2.035771   1.670111  \n",
      "1    1.199060          0.385276 -0.358538  2.164025   0.457489  \n",
      "2    2.377269          1.446170  1.249528  1.907517  -0.382018  \n",
      "3   -0.110061         -0.145171 -0.537212 -0.914069   0.270932  \n",
      "4   -0.110061         -0.145171  1.249528  2.677040   1.390275  \n",
      "<class 'pandas.core.frame.DataFrame'>\n",
      "RangeIndex: 676640 entries, 0 to 676639\n",
      "Data columns (total 18 columns):\n",
      " #   Column            Non-Null Count   Dtype  \n",
      "---  ------            --------------   -----  \n",
      " 0   age               676640 non-null  float64\n",
      " 1   height            676640 non-null  float64\n",
      " 2   weight            676640 non-null  float64\n",
      " 3   waistline         676640 non-null  float64\n",
      " 4   sight_left        676640 non-null  float64\n",
      " 5   sight_right       676640 non-null  float64\n",
      " 6   SBP               676640 non-null  float64\n",
      " 7   DBP               676640 non-null  float64\n",
      " 8   BLDS              676640 non-null  float64\n",
      " 9   tot_chole         676640 non-null  float64\n",
      " 10  HDL_chole         676640 non-null  float64\n",
      " 11  LDL_chole         676640 non-null  float64\n",
      " 12  triglyceride      676640 non-null  float64\n",
      " 13  hemoglobin        676640 non-null  float64\n",
      " 14  serum_creatinine  676640 non-null  float64\n",
      " 15  SGOT_AST          676640 non-null  float64\n",
      " 16  SGOT_ALT          676640 non-null  float64\n",
      " 17  gamma_GTP         676640 non-null  float64\n",
      "dtypes: float64(18)\n",
      "memory usage: 92.9 MB\n",
      "None\n"
     ]
    }
   ],
   "source": [
    "from sklearn.preprocessing import StandardScaler\n",
    "\n",
    "\n",
    "quantitative_columns = pca_copy.select_dtypes(include=[np.number]).columns.tolist()\n",
    "data_quantitative = pca_copy[quantitative_columns]\n",
    "\n",
    "scaler = StandardScaler()\n",
    "data_standardized = scaler.fit_transform(data_quantitative)\n",
    "\n",
    "D = pd.DataFrame(data = data_standardized, columns = quantitative_columns)\n",
    "# define dimensions of [X] matrix : number of variables\n",
    "p = D.shape[1]\n",
    "\n",
    "# define sample size of [X] : number of observations\n",
    "n = D.shape[0]\n",
    "\n",
    "# define values of matrix [X]\n",
    "X = D.values\n",
    "\n",
    "print(D.head())\n",
    "# print dataset summary\n",
    "print(D.info())"
   ],
   "metadata": {
    "collapsed": false,
    "ExecuteTime": {
     "end_time": "2023-10-31T13:22:30.829294Z",
     "start_time": "2023-10-31T13:22:30.562426500Z"
    }
   },
   "id": "13319751526e938c"
  },
  {
   "cell_type": "markdown",
   "source": [
    "# Instantiate acp object form PCA class\n",
    "---"
   ],
   "metadata": {
    "collapsed": false
   },
   "id": "75a3add25be66913"
  },
  {
   "cell_type": "code",
   "execution_count": 87,
   "outputs": [
    {
     "data": {
      "text/plain": "['__class__',\n '__delattr__',\n '__dict__',\n '__dir__',\n '__doc__',\n '__eq__',\n '__format__',\n '__ge__',\n '__getattribute__',\n '__getstate__',\n '__gt__',\n '__hash__',\n '__init__',\n '__init_subclass__',\n '__le__',\n '__lt__',\n '__module__',\n '__ne__',\n '__new__',\n '__reduce__',\n '__reduce_ex__',\n '__repr__',\n '__setattr__',\n '__setstate__',\n '__sizeof__',\n '__sklearn_clone__',\n '__str__',\n '__subclasshook__',\n '__weakref__',\n '_build_request_for_signature',\n '_check_feature_names',\n '_check_n_features',\n '_compute_stats',\n '_compute_svd',\n '_get_default_requests',\n '_get_metadata_request',\n '_get_param_names',\n '_get_tags',\n '_more_tags',\n '_repr_html_',\n '_repr_html_inner',\n '_repr_mimebundle_',\n '_sklearn_auto_wrap_output_keys',\n '_validate_data',\n '_validate_params',\n 'col_contrib_',\n 'col_coord_',\n 'col_cor_',\n 'col_cos2_',\n 'col_labels',\n 'col_labels_',\n 'col_labels_short_',\n 'col_topandas',\n 'correlation_circle',\n 'eig_',\n 'eigen_vectors_',\n 'fit',\n 'fit_transform',\n 'get_metadata_routing',\n 'get_params',\n 'mapping',\n 'mapping_col',\n 'mapping_row',\n 'means_',\n 'model_',\n 'n_components',\n 'n_components_',\n 'plot_col_contrib',\n 'plot_col_cos2',\n 'plot_eigenvalues',\n 'plot_row_contrib',\n 'plot_row_cos2',\n 'row_contrib_',\n 'row_coord_',\n 'row_cos2_',\n 'row_labels',\n 'row_labels_',\n 'row_topandas',\n 'set_output',\n 'set_params',\n 'ss_col_coord_',\n 'stats',\n 'std_',\n 'std_unit',\n 'transform']"
     },
     "execution_count": 87,
     "metadata": {},
     "output_type": "execute_result"
    }
   ],
   "source": [
    "acp = PCA(std_unit=True,row_labels=D.index,col_labels=D.columns)\n",
    "\n",
    "# run PCA on X observed data\n",
    "acp.fit(X)\n",
    "\n",
    "# print methods and attributes of acp object\n",
    "dir(acp)"
   ],
   "metadata": {
    "collapsed": false,
    "ExecuteTime": {
     "end_time": "2023-10-31T13:22:37.020886Z",
     "start_time": "2023-10-31T13:22:30.829294Z"
    }
   },
   "id": "8b896b62d9d0a5a9"
  },
  {
   "cell_type": "code",
   "execution_count": 88,
   "outputs": [
    {
     "data": {
      "text/plain": "Index(['age', 'height', 'weight', 'waistline', 'sight_left', 'sight_right',\n       'SBP', 'DBP', 'BLDS', 'tot_chole', 'HDL_chole', 'LDL_chole',\n       'triglyceride', 'hemoglobin', 'serum_creatinine', 'SGOT_AST',\n       'SGOT_ALT', 'gamma_GTP'],\n      dtype='object')"
     },
     "execution_count": 88,
     "metadata": {},
     "output_type": "execute_result"
    }
   ],
   "source": [
    "acp.col_labels"
   ],
   "metadata": {
    "collapsed": false,
    "ExecuteTime": {
     "end_time": "2023-10-31T13:22:37.027344500Z",
     "start_time": "2023-10-31T13:22:37.020886Z"
    }
   },
   "id": "932464be1e987935"
  },
  {
   "cell_type": "code",
   "execution_count": 89,
   "outputs": [
    {
     "data": {
      "text/plain": "RangeIndex(start=0, stop=676640, step=1)"
     },
     "execution_count": 89,
     "metadata": {},
     "output_type": "execute_result"
    }
   ],
   "source": [
    "acp.row_labels"
   ],
   "metadata": {
    "collapsed": false,
    "ExecuteTime": {
     "end_time": "2023-10-31T13:22:37.035943300Z",
     "start_time": "2023-10-31T13:22:37.027344500Z"
    }
   },
   "id": "420e80f83ac8a3eb"
  },
  {
   "cell_type": "markdown",
   "source": [
    "# Determine the number of factors\n",
    "---"
   ],
   "metadata": {
    "collapsed": false
   },
   "id": "6aa3ab13c19734e3"
  },
  {
   "cell_type": "code",
   "execution_count": 90,
   "outputs": [
    {
     "name": "stdout",
     "output_type": "stream",
     "text": [
      "[[4.16742118e+00 2.68035122e+00 1.89011580e+00 1.39534532e+00\n",
      "  1.31652025e+00 1.12678535e+00 9.00253674e-01 8.03862698e-01\n",
      "  7.78148573e-01 6.18201130e-01 5.34308293e-01 4.84694550e-01\n",
      "  3.54456760e-01 2.80004256e-01 2.79548589e-01 2.66924055e-01\n",
      "  1.10775592e-01 1.22827124e-02]\n",
      " [2.31523399e+01 1.48908401e+01 1.05006433e+01 7.75191844e+00\n",
      "  7.31400138e+00 6.25991862e+00 5.00140930e+00 4.46590388e+00\n",
      "  4.32304763e+00 3.43445072e+00 2.96837941e+00 2.69274750e+00\n",
      "  1.96920422e+00 1.55557920e+00 1.55304772e+00 1.48291142e+00\n",
      "  6.15419954e-01 6.82372910e-02]\n",
      " [2.31523399e+01 3.80431800e+01 4.85438233e+01 5.62957418e+01\n",
      "  6.36097432e+01 6.98696618e+01 7.48710711e+01 7.93369749e+01\n",
      "  8.36600226e+01 8.70944733e+01 9.00628527e+01 9.27556002e+01\n",
      "  9.47248044e+01 9.62803836e+01 9.78334313e+01 9.93163428e+01\n",
      "  9.99317627e+01 1.00000000e+02]]\n"
     ]
    }
   ],
   "source": [
    "# print eigenvalues (the lambdas) - output includes proportion of variance explained and cumulated values thereof\n",
    "print(acp.eig_)\n",
    "\n",
    "# row 1 : lambda 1, lambda 2, ..., lambda k\n",
    "# IP is the sum of lambda\n",
    "# row 2 : lambda 1 / IP, lambda 2 / IP, ..., lambda k/ IP\n",
    "# Cumulative "
   ],
   "metadata": {
    "collapsed": false,
    "ExecuteTime": {
     "end_time": "2023-10-31T13:22:37.035943300Z",
     "start_time": "2023-10-31T13:22:37.032347200Z"
    }
   },
   "id": "a7234c739ffa3127"
  },
  {
   "cell_type": "code",
   "execution_count": 91,
   "outputs": [
    {
     "data": {
      "text/plain": "<Figure size 500x500 with 1 Axes>",
      "image/png": "[encoded data removed]"
     },
     "metadata": {},
     "output_type": "display_data"
    }
   ],
   "source": [
    "# print scree plot\n",
    "\n",
    "# first the main plot\n",
    "fig, ax = plt.subplots(figsize=(5,5))\n",
    "ax.plot(range(1,p+1),acp.eig_[0],\".-\")\n",
    "ax.set_xlabel(\"Nb. of factors\")\n",
    "ax.set_ylabel(\"Eigenvalues\")\n",
    "plt.title(\"Scree Plot\")\n",
    "\n",
    "# add Kaiser's threshold line\n",
    "ax.plot([1,p],[1,1],\"r--\",linewidth=1)\n",
    "\n",
    "plt.show()"
   ],
   "metadata": {
    "collapsed": false,
    "ExecuteTime": {
     "end_time": "2023-10-31T13:22:37.139028800Z",
     "start_time": "2023-10-31T13:22:37.035943300Z"
    }
   },
   "id": "a4c80df2fe50be3f"
  },
  {
   "cell_type": "markdown",
   "source": [
    "# Dimensionality Reduction from 18 to 6 using PCA\n",
    "\n",
    "Principal Component Analysis (PCA) is a widely used technique for dimensionality reduction in data analysis and machine learning. It transforms the original variables to a new set of variables, the principal components, which are orthogonal (at right angles to each other), and which reflect the maximum variance in the data.\n",
    "\n",
    "## The Kaiser-Guttman Rule\n",
    "\n",
    "The Kaiser-Guttman rule is a popular criterion for selecting the number of principal components to retain in a PCA. According to this rule, we should only keep the components with eigenvalues greater than 1.\n",
    "\n",
    "In our specific case, applying the Kaiser-Guttman rule suggests that we should retain 6 principal components.\n",
    "\n",
    "## Importance of Reducing from 18 to 6 Dimensions\n",
    "\n",
    "In conclusion, reducing the dimensionality of the dataset from 18 to 6 using PCA, guided by the Kaiser-Guttman rule, not only simplifies the dataset but also enhances the efficiency and performance of subsequent analyses and models, while potentially improving our understanding of the underlying patterns in the data.\n"
   ],
   "metadata": {
    "collapsed": false
   },
   "id": "718cd517fa043774"
  },
  {
   "cell_type": "code",
   "execution_count": 92,
   "outputs": [
    {
     "data": {
      "text/plain": "<Figure size 500x500 with 1 Axes>",
      "image/png": "[encoded data removed]"
     },
     "metadata": {},
     "output_type": "display_data"
    }
   ],
   "source": [
    "# print explained variance plot\n",
    "\n",
    "fig, ax = plt.subplots(figsize=(5,5))\n",
    "ax.plot(range(0,p+1),np.append(0,acp.eig_[2]),\".-\")\n",
    "ax.set_xlabel(\"Nb. of factors\")\n",
    "ax.set_ylabel(\"% of explained variance\")\n",
    "plt.title(\"Explained Variance\")\n",
    "\n",
    "plt.show()"
   ],
   "metadata": {
    "collapsed": false,
    "ExecuteTime": {
     "end_time": "2023-10-31T13:22:37.245634Z",
     "start_time": "2023-10-31T13:22:37.139028800Z"
    }
   },
   "id": "9ac97110a68c0c7d"
  },
  {
   "cell_type": "code",
   "execution_count": 93,
   "outputs": [
    {
     "name": "stdout",
     "output_type": "stream",
     "text": [
      "\n",
      "Explained Variance by the first 6 components: 69.87 %\n"
     ]
    }
   ],
   "source": [
    "print(f'\\nExplained Variance by the first 6 components: {sum(acp.eig_[1][:6]):.2f} %')"
   ],
   "metadata": {
    "collapsed": false,
    "ExecuteTime": {
     "end_time": "2023-10-31T13:22:37.248639Z",
     "start_time": "2023-10-31T13:22:37.241990300Z"
    }
   },
   "id": "249495a3caf4623f"
  },
  {
   "cell_type": "code",
   "execution_count": 94,
   "outputs": [
    {
     "name": "stdout",
     "output_type": "stream",
     "text": [
      "Barlett's statistics: 6857070.377\n",
      "p-value: 0.000\n"
     ]
    }
   ],
   "source": [
    "# Applying Barlett's test of Sphericity\n",
    "# import statistical package from scipy\n",
    "import scipy.stats as stats\n",
    "\n",
    "# Bartlett's statistic\n",
    "C = -(n-1-(2*p+5)/6) * np.sum(np.log(acp.eig_[0]))\n",
    "print(f\"Barlett's statistics: {C:.3f}\")\n",
    "\n",
    "# degree of freedom\n",
    "ddl = p*(p-1)/2\n",
    "\n",
    "# p-value\n",
    "print(f\"p-value: {1-stats.chi2.cdf(C,df=ddl):.3f}\")"
   ],
   "metadata": {
    "collapsed": false,
    "ExecuteTime": {
     "end_time": "2023-10-31T13:22:37.261481600Z",
     "start_time": "2023-10-31T13:22:37.245634Z"
    }
   },
   "id": "2811843925fc4b02"
  },
  {
   "cell_type": "markdown",
   "source": [
    "### Bartlett’s Test of Sphericity Results\n",
    "\n",
    "#### Interpretation:\n",
    "- **Bartlett’s Test Statistic:** 6,857,070.377\n",
    "- This is a large value, indicating strong evidence against the null hypothesis.\n",
    "\n",
    "- **P-value:** 0.000\n",
    "- A p-value of 0.000 (which might be rounded and actually be a very small number, but not exactly zero) indicates that the probability of observing a test statistic as extreme as this, assuming the null hypothesis is true, is virtually zero.\n",
    "\n",
    "#### Conclusion:\n",
    "Since the p-value is extremely low, we reject the null hypothesis of Bartlett’s test of sphericity. This suggests that there is significant evidence in the data to indicate that the variables are correlated. This is a positive indication if you are planning to proceed with factor analysis or PCA, as these techniques assume that there are relationships between the variables that can be captured by underlying factors or principal components. In other words, the test result suggests that your data is likely suitable for these types of dimensionality reduction techniques.\n"
   ],
   "metadata": {
    "collapsed": false
   },
   "id": "34675f25a293d7b5"
  },
  {
   "cell_type": "markdown",
   "source": [
    "# Variables representation\n",
    "---"
   ],
   "metadata": {
    "collapsed": false
   },
   "id": "c21c4ca857911b2"
  },
  {
   "cell_type": "code",
   "execution_count": 95,
   "outputs": [
    {
     "name": "stdout",
     "output_type": "stream",
     "text": [
      "                        F1        F2        F3        F4        F5        F6\n",
      "age               0.132838 -0.750102  0.122259 -0.045359  0.002037 -0.152652\n",
      "height            0.529434  0.614473  0.051980  0.029836  0.154168  0.303405\n",
      "weight            0.782006  0.302726  0.085555  0.109947  0.194569  0.108653\n",
      "waistline         0.747754 -0.098083  0.134854  0.095453  0.200450 -0.047699\n",
      "sight_left        0.088185  0.684257 -0.235763  0.097115 -0.345093 -0.407045\n",
      "sight_right       0.093083  0.680264 -0.235616  0.098188 -0.344798 -0.410065\n",
      "SBP               0.465984 -0.384275  0.143765  0.529859 -0.404471  0.088381\n",
      "DBP               0.458092 -0.264185  0.066287  0.562240 -0.449059  0.128113\n",
      "BLDS              0.312810 -0.269506  0.093902  0.107601  0.006496 -0.200532\n",
      "tot_chole         0.163432 -0.267869 -0.931171  0.055370  0.064153  0.096109\n",
      "HDL_chole        -0.437876  0.052253 -0.243488 -0.051481 -0.437766  0.470377\n",
      "LDL_chole         0.226055 -0.245284 -0.873489  0.065976  0.187513  0.037186\n",
      "triglyceride      0.499442 -0.211209 -0.078505  0.059511  0.268407 -0.466773\n",
      "hemoglobin        0.637491  0.304546 -0.048032 -0.065934  0.035024  0.256991\n",
      "serum_creatinine  0.545602  0.206369  0.060652 -0.077364  0.149107  0.278180\n",
      "SGOT_AST          0.375780 -0.297117 -0.000839 -0.617049 -0.436864  0.001636\n",
      "SGOT_ALT          0.626906 -0.116821 -0.002571 -0.532150 -0.288194 -0.076098\n",
      "gamma_GTP         0.632644 -0.035730 -0.021853 -0.236237 -0.105447 -0.009907\n"
     ]
    }
   ],
   "source": [
    "# Correlation between variables and factors\n",
    "print(pd.DataFrame(acp.col_coord_[:,:6],index=D.columns, columns=['F1','F2','F3','F4','F5','F6']))"
   ],
   "metadata": {
    "collapsed": false,
    "ExecuteTime": {
     "end_time": "2023-10-31T13:22:37.266658500Z",
     "start_time": "2023-10-31T13:22:37.255213500Z"
    }
   },
   "id": "a643e9062add481e"
  },
  {
   "cell_type": "code",
   "execution_count": 96,
   "outputs": [
    {
     "name": "stdout",
     "output_type": "stream",
     "text": [
      "                         F1         F2         F3         F4         F5  \\\n",
      "age                0.423426  20.991791   0.790816   0.147447   0.000315   \n",
      "height             6.725981  14.086864   0.142949   0.063795   1.805345   \n",
      "weight            14.674137   3.419064   0.387264   0.866333   2.875545   \n",
      "waistline         13.416841   0.358915   0.962144   0.652973   3.052005   \n",
      "sight_left         0.186603  17.468135   2.940778   0.675907   9.045734   \n",
      "sight_right        0.207911  17.264846   2.937127   0.690935   9.030312   \n",
      "SBP                5.210441   5.509263   1.093496  20.120489  12.426445   \n",
      "DBP                5.035458   2.603909   0.232471  22.654883  15.317212   \n",
      "BLDS               2.347974   2.709857   0.466507   0.829755   0.003205   \n",
      "tot_chole          0.640923   2.677029  45.874402   0.219716   0.312613   \n",
      "HDL_chole          4.600808   0.101868   3.136654   0.189937  14.556498   \n",
      "LDL_chole          1.226204   2.244640  40.366981   0.311950   2.670763   \n",
      "triglyceride       5.985528   1.664299   0.326069   0.253815   5.472167   \n",
      "hemoglobin         9.751701   3.460301   0.122060   0.311558   0.093176   \n",
      "serum_creatinine   7.143075   1.588902   0.194629   0.428942   1.688765   \n",
      "SGOT_AST           3.388437   3.293535   0.000037  27.287146  14.496586   \n",
      "SGOT_ALT           9.430560   0.509152   0.000350  20.294844   6.308731   \n",
      "gamma_GTP          9.603993   0.047630   0.025267   3.999575   0.844582   \n",
      "\n",
      "                         F6  \n",
      "age                2.068050  \n",
      "height             8.169639  \n",
      "weight             1.047718  \n",
      "waistline          0.201917  \n",
      "sight_left        14.704258  \n",
      "sight_right       14.923311  \n",
      "SBP                0.693224  \n",
      "DBP                1.456620  \n",
      "BLDS               3.568832  \n",
      "tot_chole          0.819763  \n",
      "HDL_chole         19.635876  \n",
      "LDL_chole          0.122723  \n",
      "triglyceride      19.336187  \n",
      "hemoglobin         5.861318  \n",
      "serum_creatinine   6.867680  \n",
      "SGOT_AST           0.000238  \n",
      "SGOT_ALT           0.513937  \n",
      "gamma_GTP          0.008710  \n"
     ]
    }
   ],
   "source": [
    "# Contributions of each variable on the two first factors (in %)\n",
    "print(pd.DataFrame(acp.col_contrib_[:,:6],index=D.columns, columns=['F1','F2','F3','F4','F5','F6']))"
   ],
   "metadata": {
    "collapsed": false,
    "ExecuteTime": {
     "end_time": "2023-10-31T13:22:37.311811800Z",
     "start_time": "2023-10-31T13:22:37.261481600Z"
    }
   },
   "id": "4e35ff7a5ee54018"
  },
  {
   "cell_type": "markdown",
   "source": [
    "## Factor 1 (F1)\n",
    "### High Loadings:\n",
    "- Age\n",
    "- Weight\n",
    "- Waistline\n",
    "- Hemoglobin\n",
    "- Serum Creatinine\n",
    "- SGOT_ALT\n",
    "- Gamma_GTP\n",
    "\n",
    "### Interpretation:\n",
    "This factor might represent overall metabolic and aging processes, as it has high loadings on age, weight, and waistline (possibly indicating body size or obesity), as well as hemoglobin and serum creatinine (which are related to kidney function and blood). The liver enzymes (SGOT_ALT and gamma_GTP) also have high loadings, suggesting a possible link to liver function. This factor could be interpreted as a 'metabolic and aging' factor.\n",
    "\n",
    "## Factor 2 (F2)\n",
    "### High Loadings:\n",
    "- Sight Left\n",
    "- Sight Right\n",
    "- Systolic Blood Pressure (SBP)\n",
    "- Diastolic Blood Pressure (DBP)\n",
    "\n",
    "### Interpretation:\n",
    "This factor has high loadings on both left and right sight measurements, as well as systolic and diastolic blood pressure (SBP and DBP). This could indicate a factor related to cardiovascular and eye health, possibly capturing aspects of blood circulation and its effects on vision. This factor might be interpreted as a 'cardiovascular and vision' factor.\n",
    "\n",
    "## Factor 3 (F3)\n",
    "### High Loadings:\n",
    "- Total Cholesterol (Tot_Chole)\n",
    "- LDL Cholesterol (LDL_Chole)\n",
    "\n",
    "### Interpretation:\n",
    "This factor has high loadings on total cholesterol and LDL cholesterol, which are key indicators of lipid metabolism and cardiovascular health. This factor might represent lipid metabolism and cardiovascular risk, as higher levels of LDL cholesterol are typically associated with an increased risk of heart disease.\n",
    "\n",
    "## Factor 4 (F4)\n",
    "### High Loadings:\n",
    "- Systolic Blood Pressure (SBP)\n",
    "- Diastolic Blood Pressure (DBP)\n",
    "- SGOT_AST (A Liver Enzyme)\n",
    "\n",
    "### Interpretation:\n",
    "This factor has high loadings on systolic and diastolic blood pressure, as well as SGOT_AST (a liver enzyme). The combination of high blood pressure and liver enzyme levels could indicate a factor related to cardiovascular and liver health, possibly capturing the effects of hypertension on the body, including potential impacts on liver function.\n",
    "\n",
    "## Factor 5 (F5)\n",
    "### High Loadings:\n",
    "- HDL Cholesterol (HDL_Chole)\n",
    "- Triglyceride\n",
    "- SGOT_AST (A Liver Enzyme)\n",
    "\n",
    "### Interpretation:\n",
    "This factor has high loadings on HDL cholesterol (often considered “good” cholesterol), triglycerides, and SGOT_AST. This might represent a lipid and liver function factor, capturing aspects of lipid metabolism and its relationship with liver health. Higher levels of HDL cholesterol are generally considered protective against heart disease, while higher triglycerides can be a risk factor.\n",
    "\n",
    "## Factor 6 (F6)\n",
    "### High Loadings:\n",
    "- Sight Left\n",
    "- Sight Right\n",
    "- HDL Cholesterol (HDL_Chole)\n",
    "\n",
    "### Interpretation:\n",
    "This factor has high loadings on both left and right sight measurements, as well as HDL cholesterol. This could indicate a factor related to vision and cardiovascular health, possibly capturing the relationship between good cholesterol levels and eye health.\n"
   ],
   "metadata": {
    "collapsed": false
   },
   "id": "37b289c0eeaa44d5"
  }
 ],
 "metadata": {
  "kernelspec": {
   "display_name": "Python 3",
   "language": "python",
   "name": "python3"
  },
  "language_info": {
   "codemirror_mode": {
    "name": "ipython",
    "version": 3
   },
   "file_extension": ".py",
   "mimetype": "text/x-python",
   "name": "python",
   "nbconvert_exporter": "python",
   "pygments_lexer": "ipython3",
   "version": "3.11.5"
  }
 },
 "nbformat": 4,
 "nbformat_minor": 5
}
