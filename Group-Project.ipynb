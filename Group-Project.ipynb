{
 "cells": [
  {
   "cell_type": "markdown",
   "source": [
    "# Imports\n",
    "---"
   ],
   "metadata": {
    "collapsed": false
   },
   "id": "bb08688220941b02"
  },
  {
   "cell_type": "code",
   "execution_count": 5,
   "outputs": [],
   "source": [
    "import pandas as pd\n",
    "import numpy as np"
   ],
   "metadata": {
    "collapsed": false,
    "ExecuteTime": {
     "end_time": "2023-10-25T06:56:36.671552500Z",
     "start_time": "2023-10-25T06:56:36.665025200Z"
    }
   },
   "id": "f724c2898314d50b"
  },
  {
   "cell_type": "markdown",
   "source": [
    "# Import Dataset\n",
    "---\n",
    "**Column Description (Data Source: [Smoking and Drinking Dataset with body signal on Kaggle](https://www.kaggle.com/datasets/sooyoungher/smoking-drinking-dataset/data))**\n"
   ],
   "metadata": {
    "collapsed": false
   },
   "id": "2479f5d060f9caa7"
  },
  {
   "cell_type": "code",
   "execution_count": 27,
   "outputs": [],
   "source": [
    "def percentage_missing_values(data):\n",
    "    total_cells = np.product(data.shape)\n",
    "\n",
    "    missing_cells = data.isnull().sum().sum()\n",
    "\n",
    "    percentage_missing = (missing_cells / total_cells) * 100\n",
    "    return f\"Percentage of missing values: {percentage_missing:.2f}%\"\n"
   ],
   "metadata": {
    "collapsed": false,
    "ExecuteTime": {
     "end_time": "2023-10-25T07:16:58.532735600Z",
     "start_time": "2023-10-25T07:16:58.510507400Z"
    }
   },
   "id": "ef7abcc13a93e2c1"
  },
  {
   "cell_type": "code",
   "execution_count": 28,
   "outputs": [
    {
     "data": {
      "text/plain": "    sex  age  height  weight  waistline  sight_left  sight_right  hear_left  \\\n0  Male   35     170      75       90.0         1.0          1.0        1.0   \n1  Male   30     180      80       89.0         0.9          1.2        1.0   \n2  Male   40     165      75       91.0         1.2          1.5        1.0   \n3  Male   50     175      80       91.0         1.5          1.2        1.0   \n4  Male   50     165      60       80.0         1.0          1.2        1.0   \n\n   hear_right    SBP  ...  LDL_chole  triglyceride  hemoglobin  urine_protein  \\\n0         1.0  120.0  ...      126.0          92.0        17.1            1.0   \n1         1.0  130.0  ...      148.0         121.0        15.8            1.0   \n2         1.0  120.0  ...       74.0         104.0        15.8            1.0   \n3         1.0  145.0  ...      104.0         106.0        17.6            1.0   \n4         1.0  138.0  ...      117.0         104.0        13.8            1.0   \n\n   serum_creatinine  SGOT_AST  SGOT_ALT  gamma_GTP  SMK_stat_type_cd  DRK_YN  \n0               1.0      21.0      35.0       40.0               1.0       Y  \n1               0.9      20.0      36.0       27.0               3.0       N  \n2               0.9      47.0      32.0       68.0               1.0       N  \n3               1.1      29.0      34.0       18.0               1.0       N  \n4               0.8      19.0      12.0       25.0               1.0       N  \n\n[5 rows x 24 columns]",
      "text/html": "<div>\n<style scoped>\n    .dataframe tbody tr th:only-of-type {\n        vertical-align: middle;\n    }\n\n    .dataframe tbody tr th {\n        vertical-align: top;\n    }\n\n    .dataframe thead th {\n        text-align: right;\n    }\n</style>\n<table border=\"1\" class=\"dataframe\">\n  <thead>\n    <tr style=\"text-align: right;\">\n      <th></th>\n      <th>sex</th>\n      <th>age</th>\n      <th>height</th>\n      <th>weight</th>\n      <th>waistline</th>\n      <th>sight_left</th>\n      <th>sight_right</th>\n      <th>hear_left</th>\n      <th>hear_right</th>\n      <th>SBP</th>\n      <th>...</th>\n      <th>LDL_chole</th>\n      <th>triglyceride</th>\n      <th>hemoglobin</th>\n      <th>urine_protein</th>\n      <th>serum_creatinine</th>\n      <th>SGOT_AST</th>\n      <th>SGOT_ALT</th>\n      <th>gamma_GTP</th>\n      <th>SMK_stat_type_cd</th>\n      <th>DRK_YN</th>\n    </tr>\n  </thead>\n  <tbody>\n    <tr>\n      <th>0</th>\n      <td>Male</td>\n      <td>35</td>\n      <td>170</td>\n      <td>75</td>\n      <td>90.0</td>\n      <td>1.0</td>\n      <td>1.0</td>\n      <td>1.0</td>\n      <td>1.0</td>\n      <td>120.0</td>\n      <td>...</td>\n      <td>126.0</td>\n      <td>92.0</td>\n      <td>17.1</td>\n      <td>1.0</td>\n      <td>1.0</td>\n      <td>21.0</td>\n      <td>35.0</td>\n      <td>40.0</td>\n      <td>1.0</td>\n      <td>Y</td>\n    </tr>\n    <tr>\n      <th>1</th>\n      <td>Male</td>\n      <td>30</td>\n      <td>180</td>\n      <td>80</td>\n      <td>89.0</td>\n      <td>0.9</td>\n      <td>1.2</td>\n      <td>1.0</td>\n      <td>1.0</td>\n      <td>130.0</td>\n      <td>...</td>\n      <td>148.0</td>\n      <td>121.0</td>\n      <td>15.8</td>\n      <td>1.0</td>\n      <td>0.9</td>\n      <td>20.0</td>\n      <td>36.0</td>\n      <td>27.0</td>\n      <td>3.0</td>\n      <td>N</td>\n    </tr>\n    <tr>\n      <th>2</th>\n      <td>Male</td>\n      <td>40</td>\n      <td>165</td>\n      <td>75</td>\n      <td>91.0</td>\n      <td>1.2</td>\n      <td>1.5</td>\n      <td>1.0</td>\n      <td>1.0</td>\n      <td>120.0</td>\n      <td>...</td>\n      <td>74.0</td>\n      <td>104.0</td>\n      <td>15.8</td>\n      <td>1.0</td>\n      <td>0.9</td>\n      <td>47.0</td>\n      <td>32.0</td>\n      <td>68.0</td>\n      <td>1.0</td>\n      <td>N</td>\n    </tr>\n    <tr>\n      <th>3</th>\n      <td>Male</td>\n      <td>50</td>\n      <td>175</td>\n      <td>80</td>\n      <td>91.0</td>\n      <td>1.5</td>\n      <td>1.2</td>\n      <td>1.0</td>\n      <td>1.0</td>\n      <td>145.0</td>\n      <td>...</td>\n      <td>104.0</td>\n      <td>106.0</td>\n      <td>17.6</td>\n      <td>1.0</td>\n      <td>1.1</td>\n      <td>29.0</td>\n      <td>34.0</td>\n      <td>18.0</td>\n      <td>1.0</td>\n      <td>N</td>\n    </tr>\n    <tr>\n      <th>4</th>\n      <td>Male</td>\n      <td>50</td>\n      <td>165</td>\n      <td>60</td>\n      <td>80.0</td>\n      <td>1.0</td>\n      <td>1.2</td>\n      <td>1.0</td>\n      <td>1.0</td>\n      <td>138.0</td>\n      <td>...</td>\n      <td>117.0</td>\n      <td>104.0</td>\n      <td>13.8</td>\n      <td>1.0</td>\n      <td>0.8</td>\n      <td>19.0</td>\n      <td>12.0</td>\n      <td>25.0</td>\n      <td>1.0</td>\n      <td>N</td>\n    </tr>\n  </tbody>\n</table>\n<p>5 rows × 24 columns</p>\n</div>"
     },
     "execution_count": 28,
     "metadata": {},
     "output_type": "execute_result"
    }
   ],
   "source": [
    "df = pd.read_csv('Data/sd.csv')\n",
    "df_copy = df.copy()\n",
    "df_copy.head()\n",
    "df.to_csv('outpu.csv', index=False)"
   ],
   "metadata": {
    "collapsed": false,
    "ExecuteTime": {
     "end_time": "2023-10-25T07:16:59.893380100Z",
     "start_time": "2023-10-25T07:16:58.852453600Z"
    }
   },
   "id": "5bfeb1e3f35d16c"
  },
  {
   "cell_type": "code",
   "execution_count": 29,
   "outputs": [
    {
     "data": {
      "text/plain": "'Percentage of missing values: 0.00%'"
     },
     "execution_count": 29,
     "metadata": {},
     "output_type": "execute_result"
    }
   ],
   "source": [
    "percentage_missing_values(df_copy)"
   ],
   "metadata": {
    "collapsed": false,
    "ExecuteTime": {
     "end_time": "2023-10-25T07:17:00.052620200Z",
     "start_time": "2023-10-25T07:16:59.893380100Z"
    }
   },
   "id": "7117fe644664da0d"
  },
  {
   "cell_type": "markdown",
   "source": [
    "# Create Variable Mappings\n",
    "---"
   ],
   "metadata": {
    "collapsed": false
   },
   "id": "6d519c23b80ce6ad"
  },
  {
   "cell_type": "code",
   "execution_count": 30,
   "outputs": [
    {
     "data": {
      "text/plain": "1.0    960124\n2.0     31222\nName: hear_left, dtype: int64"
     },
     "execution_count": 30,
     "metadata": {},
     "output_type": "execute_result"
    }
   ],
   "source": [
    "df_copy['hear_left'].value_counts()"
   ],
   "metadata": {
    "collapsed": false,
    "ExecuteTime": {
     "end_time": "2023-10-25T07:17:00.667384700Z",
     "start_time": "2023-10-25T07:17:00.647299Z"
    }
   },
   "id": "62c16bd516d66e89"
  },
  {
   "cell_type": "code",
   "execution_count": 31,
   "outputs": [],
   "source": [
    "df_copy['SMK_stat_type_cd'] = df_copy['SMK_stat_type_cd'].map({1: 'N', 2: 'Q', 3: 'S'}) # Smoking state, 1(never) = N , 2(used to smoke but quit) = Q, 3(still smoke) = S\n",
    "df_copy['hear_left'] = df_copy['hear_left'].map({1: 'Normal', 2: 'Abnormal'})\n",
    "df_copy['hear_right'] = df_copy['hear_right'].map({1: 'Normal', 2: 'Abnormal'})\n",
    "df_copy['urine_protein'] = df_copy['urine_protein'].map({1: '-', 2: '+/-', 3: '+1', 4: '+2', 5: '+3', 6: '+4'})"
   ],
   "metadata": {
    "collapsed": false,
    "ExecuteTime": {
     "end_time": "2023-10-25T07:17:02.234359600Z",
     "start_time": "2023-10-25T07:17:02.047912500Z"
    }
   },
   "id": "65045f220b47faf7"
  },
  {
   "cell_type": "code",
   "execution_count": 32,
   "outputs": [
    {
     "name": "stdout",
     "output_type": "stream",
     "text": [
      "Index(['sex', 'hear_left', 'hear_right', 'urine_protein', 'SMK_stat_type_cd',\n",
      "       'DRK_YN'],\n",
      "      dtype='object')\n"
     ]
    }
   ],
   "source": [
    "print(df_copy.select_dtypes(include=[object,bool]).columns)"
   ],
   "metadata": {
    "collapsed": false,
    "ExecuteTime": {
     "end_time": "2023-10-25T07:17:03.036107200Z",
     "start_time": "2023-10-25T07:17:02.943800500Z"
    }
   },
   "id": "ada96391d295c6d5"
  },
  {
   "cell_type": "markdown",
   "source": [
    "# Encoding \n",
    "---"
   ],
   "metadata": {
    "collapsed": false
   },
   "id": "c3aceb90fa0a77b5"
  },
  {
   "cell_type": "code",
   "execution_count": 33,
   "outputs": [],
   "source": [
    "def one_hot_encode_dataframe(df,columns):\n",
    "    copy = df.copy()\n",
    "    ohe = pd.get_dummies(df_copy, columns=columns)\n",
    "    return ohe"
   ],
   "metadata": {
    "collapsed": false,
    "ExecuteTime": {
     "end_time": "2023-10-25T07:17:05.191814Z",
     "start_time": "2023-10-25T07:17:05.172391400Z"
    }
   },
   "id": "ace26354f26f6d54"
  },
  {
   "cell_type": "code",
   "execution_count": 36,
   "outputs": [],
   "source": [
    "columns = ['sex','hear_left','hear_right','urine_protein'] # We can then re-use the one hot encode method depending if we want to predict smoker or drinker\n",
    "ohe_df = one_hot_encode_dataframe(df_copy, columns)"
   ],
   "metadata": {
    "collapsed": false,
    "ExecuteTime": {
     "end_time": "2023-10-25T07:17:27.292219600Z",
     "start_time": "2023-10-25T07:17:26.946181200Z"
    }
   },
   "id": "dccb15878175d72a"
  },
  {
   "cell_type": "code",
   "execution_count": 37,
   "outputs": [
    {
     "data": {
      "text/plain": "   age  height  weight  waistline  sight_left  sight_right    SBP   DBP  \\\n0   35     170      75       90.0         1.0          1.0  120.0  80.0   \n1   30     180      80       89.0         0.9          1.2  130.0  82.0   \n2   40     165      75       91.0         1.2          1.5  120.0  70.0   \n3   50     175      80       91.0         1.5          1.2  145.0  87.0   \n4   50     165      60       80.0         1.0          1.2  138.0  82.0   \n\n    BLDS  tot_chole  ...  hear_left_Abnormal  hear_left_Normal  \\\n0   99.0      193.0  ...                   0                 1   \n1  106.0      228.0  ...                   0                 1   \n2   98.0      136.0  ...                   0                 1   \n3   95.0      201.0  ...                   0                 1   \n4  101.0      199.0  ...                   0                 1   \n\n   hear_right_Abnormal  hear_right_Normal  urine_protein_+/-  \\\n0                    0                  1                  0   \n1                    0                  1                  0   \n2                    0                  1                  0   \n3                    0                  1                  0   \n4                    0                  1                  0   \n\n   urine_protein_+1  urine_protein_+2  urine_protein_+3 urine_protein_+4  \\\n0                 0                 0                 0                0   \n1                 0                 0                 0                0   \n2                 0                 0                 0                0   \n3                 0                 0                 0                0   \n4                 0                 0                 0                0   \n\n  urine_protein_-  \n0               1  \n1               1  \n2               1  \n3               1  \n4               1  \n\n[5 rows x 32 columns]",
      "text/html": "<div>\n<style scoped>\n    .dataframe tbody tr th:only-of-type {\n        vertical-align: middle;\n    }\n\n    .dataframe tbody tr th {\n        vertical-align: top;\n    }\n\n    .dataframe thead th {\n        text-align: right;\n    }\n</style>\n<table border=\"1\" class=\"dataframe\">\n  <thead>\n    <tr style=\"text-align: right;\">\n      <th></th>\n      <th>age</th>\n      <th>height</th>\n      <th>weight</th>\n      <th>waistline</th>\n      <th>sight_left</th>\n      <th>sight_right</th>\n      <th>SBP</th>\n      <th>DBP</th>\n      <th>BLDS</th>\n      <th>tot_chole</th>\n      <th>...</th>\n      <th>hear_left_Abnormal</th>\n      <th>hear_left_Normal</th>\n      <th>hear_right_Abnormal</th>\n      <th>hear_right_Normal</th>\n      <th>urine_protein_+/-</th>\n      <th>urine_protein_+1</th>\n      <th>urine_protein_+2</th>\n      <th>urine_protein_+3</th>\n      <th>urine_protein_+4</th>\n      <th>urine_protein_-</th>\n    </tr>\n  </thead>\n  <tbody>\n    <tr>\n      <th>0</th>\n      <td>35</td>\n      <td>170</td>\n      <td>75</td>\n      <td>90.0</td>\n      <td>1.0</td>\n      <td>1.0</td>\n      <td>120.0</td>\n      <td>80.0</td>\n      <td>99.0</td>\n      <td>193.0</td>\n      <td>...</td>\n      <td>0</td>\n      <td>1</td>\n      <td>0</td>\n      <td>1</td>\n      <td>0</td>\n      <td>0</td>\n      <td>0</td>\n      <td>0</td>\n      <td>0</td>\n      <td>1</td>\n    </tr>\n    <tr>\n      <th>1</th>\n      <td>30</td>\n      <td>180</td>\n      <td>80</td>\n      <td>89.0</td>\n      <td>0.9</td>\n      <td>1.2</td>\n      <td>130.0</td>\n      <td>82.0</td>\n      <td>106.0</td>\n      <td>228.0</td>\n      <td>...</td>\n      <td>0</td>\n      <td>1</td>\n      <td>0</td>\n      <td>1</td>\n      <td>0</td>\n      <td>0</td>\n      <td>0</td>\n      <td>0</td>\n      <td>0</td>\n      <td>1</td>\n    </tr>\n    <tr>\n      <th>2</th>\n      <td>40</td>\n      <td>165</td>\n      <td>75</td>\n      <td>91.0</td>\n      <td>1.2</td>\n      <td>1.5</td>\n      <td>120.0</td>\n      <td>70.0</td>\n      <td>98.0</td>\n      <td>136.0</td>\n      <td>...</td>\n      <td>0</td>\n      <td>1</td>\n      <td>0</td>\n      <td>1</td>\n      <td>0</td>\n      <td>0</td>\n      <td>0</td>\n      <td>0</td>\n      <td>0</td>\n      <td>1</td>\n    </tr>\n    <tr>\n      <th>3</th>\n      <td>50</td>\n      <td>175</td>\n      <td>80</td>\n      <td>91.0</td>\n      <td>1.5</td>\n      <td>1.2</td>\n      <td>145.0</td>\n      <td>87.0</td>\n      <td>95.0</td>\n      <td>201.0</td>\n      <td>...</td>\n      <td>0</td>\n      <td>1</td>\n      <td>0</td>\n      <td>1</td>\n      <td>0</td>\n      <td>0</td>\n      <td>0</td>\n      <td>0</td>\n      <td>0</td>\n      <td>1</td>\n    </tr>\n    <tr>\n      <th>4</th>\n      <td>50</td>\n      <td>165</td>\n      <td>60</td>\n      <td>80.0</td>\n      <td>1.0</td>\n      <td>1.2</td>\n      <td>138.0</td>\n      <td>82.0</td>\n      <td>101.0</td>\n      <td>199.0</td>\n      <td>...</td>\n      <td>0</td>\n      <td>1</td>\n      <td>0</td>\n      <td>1</td>\n      <td>0</td>\n      <td>0</td>\n      <td>0</td>\n      <td>0</td>\n      <td>0</td>\n      <td>1</td>\n    </tr>\n  </tbody>\n</table>\n<p>5 rows × 32 columns</p>\n</div>"
     },
     "execution_count": 37,
     "metadata": {},
     "output_type": "execute_result"
    }
   ],
   "source": [
    "ohe_df.head()"
   ],
   "metadata": {
    "collapsed": false,
    "ExecuteTime": {
     "end_time": "2023-10-25T07:17:27.786037900Z",
     "start_time": "2023-10-25T07:17:27.754327600Z"
    }
   },
   "id": "86b6752fe6caf205"
  }
 ],
 "metadata": {
  "kernelspec": {
   "display_name": "Python 3",
   "language": "python",
   "name": "python3"
  },
  "language_info": {
   "codemirror_mode": {
    "name": "ipython",
    "version": 2
   },
   "file_extension": ".py",
   "mimetype": "text/x-python",
   "name": "python",
   "nbconvert_exporter": "python",
   "pygments_lexer": "ipython2",
   "version": "2.7.6"
  }
 },
 "nbformat": 4,
 "nbformat_minor": 5
}
