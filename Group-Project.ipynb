{
 "cells": [
  {
   "cell_type": "markdown",
   "id": "bb08688220941b02",
   "metadata": {
    "collapsed": false
   },
   "source": [
    "# Imports\n",
    "---"
   ]
  },
  {
   "cell_type": "code",
   "execution_count": 4,
   "id": "f724c2898314d50b",
   "metadata": {
    "collapsed": false,
    "ExecuteTime": {
     "end_time": "2023-10-25T13:05:05.137635100Z",
     "start_time": "2023-10-25T13:05:05.136108400Z"
    }
   },
   "outputs": [],
   "source": [
    "import pandas as pd\n",
    "import numpy as np\n",
    "import math"
   ]
  },
  {
   "cell_type": "markdown",
   "id": "2479f5d060f9caa7",
   "metadata": {
    "collapsed": false
   },
   "source": [
    "# Import Dataset\n",
    "---\n",
    "**Column Description (Data Source: [Smoking and Drinking Dataset with body signal on Kaggle](https://www.kaggle.com/datasets/sooyoungher/smoking-drinking-dataset/data))**\n",
    "\n",
    "- Sex - male, female\n",
    "- Age - round up to 5 year\n",
    "- Height - round up to 5 cm[cm]\n",
    "- Weight [kg]\n",
    "- Waistline\n",
    "- Sight_left - eyesight(left) the column shows how well the left eye sees, where perfect vision = 1.0\n",
    "- Sight_right - eyesight(right) the column shows how well the right eye sees where perfect vision = 1.0\n",
    "- Hear_left - hearing left, 1(normal), 2(abnormal)\n",
    "- Hear_right - hearing right, 1(normal), 2(abnormal)\n",
    "- SBP - Systolic blood pressure[mmHg]\n",
    "- DBP - Diastolic blood pressure[mmHg]\n",
    "- BLDS - BLDS or FSG(fasting blood glucose)[mg/dL]\n",
    "- Tot_chole - total cholesterol[mg/dL]\n",
    "- HDL_chole - HDL cholesterol[mg/dL] - the only fraction of cholesterol that is called \"good\", \"useful\" cholesterol.\n",
    "- LDL_chole - LDL cholesterol[mg/dL]\n",
    "- Triglyceride - triglyceride[mg/dL]\n",
    "- Hemoglobin - hemoglobin[g/dL]\n",
    "- Urine_protein - protein in urine, 1(-), 2(+/-), 3(+1), 4(+2), 5(+3), 6(+4)\n",
    "- Serum_creatinine - serum(blood) creatinine[mg/dL]\n",
    "- SGOT_AST - SGOT(Glutamate-oxaloacetate transaminase) AST(Aspartate transaminase)[IU/L]\n",
    "- SGOT_ALT - ALT(Alanine transaminase)[IU/L]\n",
    "- Gamma_GTP - y-glutamyl transpeptidase[IU/L]\n",
    "- SMK_stat_type_cd - Smoking state, 1(never), 2(used to smoke but quit), 3(still smoke)\n",
    "- DRK_YN - Drinker or Not\n"
   ]
  },
  {
   "cell_type": "code",
   "execution_count": 16,
   "outputs": [],
   "source": [
    "df = pd.read_csv('Data/sd.csv')\n",
    "df_copy = df.copy()"
   ],
   "metadata": {
    "collapsed": false,
    "ExecuteTime": {
     "end_time": "2023-10-26T16:48:19.952523500Z",
     "start_time": "2023-10-26T16:48:18.899900500Z"
    }
   },
   "id": "5bfeb1e3f35d16c"
  },
  {
   "cell_type": "markdown",
   "source": [
    "# Useful functions\n",
    "---"
   ],
   "metadata": {
    "collapsed": false
   },
   "id": "572ce6ac156f3cc2"
  },
  {
   "cell_type": "code",
   "execution_count": 17,
   "outputs": [],
   "source": [
    "def remove_outliers_from_columns(df, column_names):\n",
    "\n",
    "    for column_name in column_names:\n",
    "        # Calculate Q1, Q3, and IQR\n",
    "        Q1 = df[column_name].quantile(0.25)\n",
    "        Q3 = df[column_name].quantile(0.75)\n",
    "        IQR = Q3 - Q1\n",
    "\n",
    "        # Define bounds\n",
    "        lower_bound = Q1 - 1.5 * IQR\n",
    "        upper_bound = Q3 + 1.5 * IQR\n",
    "\n",
    "        # Filter out outliers\n",
    "        df = df[(df[column_name] >= lower_bound) & (df[column_name] <= upper_bound)]\n",
    "\n",
    "    return df\n",
    "\n"
   ],
   "metadata": {
    "collapsed": false,
    "ExecuteTime": {
     "end_time": "2023-10-26T16:48:22.341681400Z",
     "start_time": "2023-10-26T16:48:22.326439300Z"
    }
   },
   "id": "b6cee908add2d907"
  },
  {
   "cell_type": "code",
   "execution_count": 18,
   "outputs": [],
   "source": [
    "def percentage_missing_values(data):\n",
    "    total_cells = np.product(data.shape)\n",
    "\n",
    "    missing_cells = data.isnull().sum().sum()\n",
    "\n",
    "    percentage_missing = (missing_cells / total_cells) * 100\n",
    "    return f\"Percentage of missing values: {percentage_missing:.2f}%\"\n"
   ],
   "metadata": {
    "collapsed": false,
    "ExecuteTime": {
     "end_time": "2023-10-26T16:48:22.341681400Z",
     "start_time": "2023-10-26T16:48:22.332014300Z"
    }
   },
   "id": "ef7abcc13a93e2c1"
  },
  {
   "cell_type": "code",
   "execution_count": 19,
   "outputs": [],
   "source": [
    "def duplicate_data(data):\n",
    "\n",
    "    duplicates_cells = data[data.duplicated].shape\n",
    "    \n",
    "    return f\"Number of duplicates: {duplicates_cells[0]}\""
   ],
   "metadata": {
    "collapsed": false,
    "ExecuteTime": {
     "end_time": "2023-10-26T16:48:22.341681400Z",
     "start_time": "2023-10-26T16:48:22.340248500Z"
    }
   },
   "id": "89898db7d78630fe"
  },
  {
   "cell_type": "markdown",
   "source": [
    "# Clean data\n",
    "---\n",
    "- Remove outliers\n",
    "- Remove duplicates\n",
    "- impute missing values"
   ],
   "metadata": {
    "collapsed": false
   },
   "id": "a469278eea16bc70"
  },
  {
   "cell_type": "markdown",
   "source": [
    "## Remove Outliers\n",
    "---"
   ],
   "metadata": {
    "collapsed": false
   },
   "id": "cd2d1a62ddf0b8ac"
  },
  {
   "cell_type": "code",
   "execution_count": 57,
   "outputs": [
    {
     "data": {
      "text/plain": "                 age         height         weight      waistline  \\\ncount  544456.000000  544456.000000  544456.000000  544456.000000   \nmean       46.158386     160.846276      59.538539      77.894888   \nstd        14.489838       9.044924      10.763349       8.709568   \nmin        20.000000     130.000000      25.000000      53.600000   \n25%        35.000000     155.000000      50.000000      71.200000   \n50%        45.000000     160.000000      60.000000      78.000000   \n75%        55.000000     165.000000      65.000000      84.000000   \nmax        85.000000     190.000000     120.000000     104.500000   \n\n          sight_left    sight_right      hear_left     hear_right  \\\ncount  544456.000000  544456.000000  544456.000000  544456.000000   \nmean        0.946704       0.943934       1.027685       1.026878   \nstd         0.327453       0.327151       0.164067       0.161728   \nmin         0.100000       0.100000       1.000000       1.000000   \n25%         0.700000       0.700000       1.000000       1.000000   \n50%         1.000000       1.000000       1.000000       1.000000   \n75%         1.200000       1.200000       1.000000       1.000000   \nmax         1.900000       1.900000       2.000000       2.000000   \n\n                 SBP            DBP  ...      HDL_chole      LDL_chole  \\\ncount  544456.000000  544456.000000  ...  544456.000000  544456.000000   \nmean      118.848678      73.764778  ...      59.858299     111.987174   \nstd        12.811646       8.559513  ...      14.903400      30.943446   \nmin        84.000000      54.000000  ...       1.000000       1.000000   \n25%       110.000000      68.000000  ...      49.000000      90.000000   \n50%       119.000000      73.000000  ...      58.000000     110.000000   \n75%       128.000000      80.000000  ...      69.000000     132.000000   \nmax       157.000000      96.000000  ...     933.000000    1750.000000   \n\n        triglyceride     hemoglobin  urine_protein  serum_creatinine  \\\ncount  544456.000000  544456.000000  544456.000000     544456.000000   \nmean       96.399920      13.826581       1.065186          0.808354   \nstd        41.953641       1.506384       0.340190          0.176191   \nmin         1.000000       1.000000       1.000000          0.400000   \n25%        64.000000      12.900000       1.000000          0.700000   \n50%        88.000000      13.800000       1.000000          0.800000   \n75%       122.000000      14.900000       1.000000          0.900000   \nmax       218.000000      25.000000       6.000000          1.200000   \n\n            SGOT_AST       SGOT_ALT      gamma_GTP  SMK_stat_type_cd  \ncount  544456.000000  544456.000000  544456.000000     544456.000000  \nmean       21.123082      17.466982      19.380848          1.432323  \nstd         4.896659       6.296440       7.828522          0.738428  \nmin         8.000000       1.000000       1.000000          1.000000  \n25%        18.000000      13.000000      13.000000          1.000000  \n50%        21.000000      16.000000      18.000000          1.000000  \n75%        24.000000      21.000000      24.000000          2.000000  \nmax        35.000000      35.000000      41.000000          3.000000  \n\n[8 rows x 22 columns]",
      "text/html": "<div>\n<style scoped>\n    .dataframe tbody tr th:only-of-type {\n        vertical-align: middle;\n    }\n\n    .dataframe tbody tr th {\n        vertical-align: top;\n    }\n\n    .dataframe thead th {\n        text-align: right;\n    }\n</style>\n<table border=\"1\" class=\"dataframe\">\n  <thead>\n    <tr style=\"text-align: right;\">\n      <th></th>\n      <th>age</th>\n      <th>height</th>\n      <th>weight</th>\n      <th>waistline</th>\n      <th>sight_left</th>\n      <th>sight_right</th>\n      <th>hear_left</th>\n      <th>hear_right</th>\n      <th>SBP</th>\n      <th>DBP</th>\n      <th>...</th>\n      <th>HDL_chole</th>\n      <th>LDL_chole</th>\n      <th>triglyceride</th>\n      <th>hemoglobin</th>\n      <th>urine_protein</th>\n      <th>serum_creatinine</th>\n      <th>SGOT_AST</th>\n      <th>SGOT_ALT</th>\n      <th>gamma_GTP</th>\n      <th>SMK_stat_type_cd</th>\n    </tr>\n  </thead>\n  <tbody>\n    <tr>\n      <th>count</th>\n      <td>544456.000000</td>\n      <td>544456.000000</td>\n      <td>544456.000000</td>\n      <td>544456.000000</td>\n      <td>544456.000000</td>\n      <td>544456.000000</td>\n      <td>544456.000000</td>\n      <td>544456.000000</td>\n      <td>544456.000000</td>\n      <td>544456.000000</td>\n      <td>...</td>\n      <td>544456.000000</td>\n      <td>544456.000000</td>\n      <td>544456.000000</td>\n      <td>544456.000000</td>\n      <td>544456.000000</td>\n      <td>544456.000000</td>\n      <td>544456.000000</td>\n      <td>544456.000000</td>\n      <td>544456.000000</td>\n      <td>544456.000000</td>\n    </tr>\n    <tr>\n      <th>mean</th>\n      <td>46.158386</td>\n      <td>160.846276</td>\n      <td>59.538539</td>\n      <td>77.894888</td>\n      <td>0.946704</td>\n      <td>0.943934</td>\n      <td>1.027685</td>\n      <td>1.026878</td>\n      <td>118.848678</td>\n      <td>73.764778</td>\n      <td>...</td>\n      <td>59.858299</td>\n      <td>111.987174</td>\n      <td>96.399920</td>\n      <td>13.826581</td>\n      <td>1.065186</td>\n      <td>0.808354</td>\n      <td>21.123082</td>\n      <td>17.466982</td>\n      <td>19.380848</td>\n      <td>1.432323</td>\n    </tr>\n    <tr>\n      <th>std</th>\n      <td>14.489838</td>\n      <td>9.044924</td>\n      <td>10.763349</td>\n      <td>8.709568</td>\n      <td>0.327453</td>\n      <td>0.327151</td>\n      <td>0.164067</td>\n      <td>0.161728</td>\n      <td>12.811646</td>\n      <td>8.559513</td>\n      <td>...</td>\n      <td>14.903400</td>\n      <td>30.943446</td>\n      <td>41.953641</td>\n      <td>1.506384</td>\n      <td>0.340190</td>\n      <td>0.176191</td>\n      <td>4.896659</td>\n      <td>6.296440</td>\n      <td>7.828522</td>\n      <td>0.738428</td>\n    </tr>\n    <tr>\n      <th>min</th>\n      <td>20.000000</td>\n      <td>130.000000</td>\n      <td>25.000000</td>\n      <td>53.600000</td>\n      <td>0.100000</td>\n      <td>0.100000</td>\n      <td>1.000000</td>\n      <td>1.000000</td>\n      <td>84.000000</td>\n      <td>54.000000</td>\n      <td>...</td>\n      <td>1.000000</td>\n      <td>1.000000</td>\n      <td>1.000000</td>\n      <td>1.000000</td>\n      <td>1.000000</td>\n      <td>0.400000</td>\n      <td>8.000000</td>\n      <td>1.000000</td>\n      <td>1.000000</td>\n      <td>1.000000</td>\n    </tr>\n    <tr>\n      <th>25%</th>\n      <td>35.000000</td>\n      <td>155.000000</td>\n      <td>50.000000</td>\n      <td>71.200000</td>\n      <td>0.700000</td>\n      <td>0.700000</td>\n      <td>1.000000</td>\n      <td>1.000000</td>\n      <td>110.000000</td>\n      <td>68.000000</td>\n      <td>...</td>\n      <td>49.000000</td>\n      <td>90.000000</td>\n      <td>64.000000</td>\n      <td>12.900000</td>\n      <td>1.000000</td>\n      <td>0.700000</td>\n      <td>18.000000</td>\n      <td>13.000000</td>\n      <td>13.000000</td>\n      <td>1.000000</td>\n    </tr>\n    <tr>\n      <th>50%</th>\n      <td>45.000000</td>\n      <td>160.000000</td>\n      <td>60.000000</td>\n      <td>78.000000</td>\n      <td>1.000000</td>\n      <td>1.000000</td>\n      <td>1.000000</td>\n      <td>1.000000</td>\n      <td>119.000000</td>\n      <td>73.000000</td>\n      <td>...</td>\n      <td>58.000000</td>\n      <td>110.000000</td>\n      <td>88.000000</td>\n      <td>13.800000</td>\n      <td>1.000000</td>\n      <td>0.800000</td>\n      <td>21.000000</td>\n      <td>16.000000</td>\n      <td>18.000000</td>\n      <td>1.000000</td>\n    </tr>\n    <tr>\n      <th>75%</th>\n      <td>55.000000</td>\n      <td>165.000000</td>\n      <td>65.000000</td>\n      <td>84.000000</td>\n      <td>1.200000</td>\n      <td>1.200000</td>\n      <td>1.000000</td>\n      <td>1.000000</td>\n      <td>128.000000</td>\n      <td>80.000000</td>\n      <td>...</td>\n      <td>69.000000</td>\n      <td>132.000000</td>\n      <td>122.000000</td>\n      <td>14.900000</td>\n      <td>1.000000</td>\n      <td>0.900000</td>\n      <td>24.000000</td>\n      <td>21.000000</td>\n      <td>24.000000</td>\n      <td>2.000000</td>\n    </tr>\n    <tr>\n      <th>max</th>\n      <td>85.000000</td>\n      <td>190.000000</td>\n      <td>120.000000</td>\n      <td>104.500000</td>\n      <td>1.900000</td>\n      <td>1.900000</td>\n      <td>2.000000</td>\n      <td>2.000000</td>\n      <td>157.000000</td>\n      <td>96.000000</td>\n      <td>...</td>\n      <td>933.000000</td>\n      <td>1750.000000</td>\n      <td>218.000000</td>\n      <td>25.000000</td>\n      <td>6.000000</td>\n      <td>1.200000</td>\n      <td>35.000000</td>\n      <td>35.000000</td>\n      <td>41.000000</td>\n      <td>3.000000</td>\n    </tr>\n  </tbody>\n</table>\n<p>8 rows × 22 columns</p>\n</div>"
     },
     "execution_count": 57,
     "metadata": {},
     "output_type": "execute_result"
    }
   ],
   "source": [
    "df_copy.describe()"
   ],
   "metadata": {
    "collapsed": false,
    "ExecuteTime": {
     "end_time": "2023-10-26T16:43:50.378743200Z",
     "start_time": "2023-10-26T16:43:50.145276200Z"
    }
   },
   "id": "65fa1f8b0e1ae50"
  },
  {
   "cell_type": "code",
   "execution_count": 58,
   "outputs": [],
   "source": [
    "df_copy = remove_outliers_from_columns(df_copy, ['waistline','SBP', 'DBP','BLDS','tot_chole','triglyceride','serum_creatinine','SGOT_AST', 'SGOT_ALT','sight_left','sight_right','gamma_GTP'])"
   ],
   "metadata": {
    "collapsed": false,
    "ExecuteTime": {
     "end_time": "2023-10-26T16:43:50.992600700Z",
     "start_time": "2023-10-26T16:43:50.378743200Z"
    }
   },
   "id": "5a40e0e5da80beb8"
  },
  {
   "cell_type": "code",
   "execution_count": 59,
   "outputs": [
    {
     "data": {
      "text/plain": "                 age         height         weight      waistline  \\\ncount  514490.000000  514490.000000  514490.000000  514490.000000   \nmean       45.888278     160.794554      59.291434      77.635536   \nstd        14.471204       9.004381      10.647231       8.639888   \nmin        20.000000     130.000000      25.000000      53.600000   \n25%        35.000000     155.000000      50.000000      71.000000   \n50%        45.000000     160.000000      60.000000      77.500000   \n75%        55.000000     165.000000      65.000000      84.000000   \nmax        85.000000     190.000000     120.000000     103.100000   \n\n          sight_left    sight_right      hear_left     hear_right  \\\ncount  514490.000000  514490.000000  514490.000000  514490.000000   \nmean        0.948281       0.945260       1.027064       1.026238   \nstd         0.327297       0.327096       0.162269       0.159841   \nmin         0.100000       0.100000       1.000000       1.000000   \n25%         0.700000       0.700000       1.000000       1.000000   \n50%         1.000000       1.000000       1.000000       1.000000   \n75%         1.200000       1.200000       1.000000       1.000000   \nmax         1.900000       1.900000       2.000000       2.000000   \n\n                 SBP            DBP  ...      HDL_chole      LDL_chole  \\\ncount  514490.000000  514490.000000  ...  514490.000000  514490.000000   \nmean      118.574266      73.624008  ...      60.124424     111.732883   \nstd        12.720438       8.542271  ...      14.871205      30.535743   \nmin        84.000000      54.000000  ...       1.000000       1.000000   \n25%       110.000000      68.000000  ...      50.000000      90.000000   \n50%       118.000000      73.000000  ...      59.000000     110.000000   \n75%       128.000000      80.000000  ...      69.000000     132.000000   \nmax       155.000000      96.000000  ...     933.000000    1750.000000   \n\n        triglyceride     hemoglobin  urine_protein  serum_creatinine  \\\ncount  514490.000000  514490.000000  514490.000000     514490.000000   \nmean       94.428313      13.799538       1.064654          0.805935   \nstd        40.000063       1.503407       0.338190          0.175724   \nmin         1.000000       1.000000       1.000000          0.400000   \n25%        63.000000      12.900000       1.000000          0.700000   \n50%        87.000000      13.700000       1.000000          0.800000   \n75%       119.000000      14.800000       1.000000          0.900000   \nmax       206.000000      25.000000       6.000000          1.200000   \n\n            SGOT_AST       SGOT_ALT      gamma_GTP  SMK_stat_type_cd  \ncount  514490.000000  514490.000000  514490.000000     514490.000000  \nmean       20.856471      17.067026      19.026622          1.423658  \nstd         4.650780       5.942221       7.567117          0.734103  \nmin         9.000000       1.000000       1.000000          1.000000  \n25%        17.000000      13.000000      13.000000          1.000000  \n50%        20.000000      16.000000      17.000000          1.000000  \n75%        24.000000      21.000000      23.000000          2.000000  \nmax        33.000000      33.000000      40.000000          3.000000  \n\n[8 rows x 22 columns]",
      "text/html": "<div>\n<style scoped>\n    .dataframe tbody tr th:only-of-type {\n        vertical-align: middle;\n    }\n\n    .dataframe tbody tr th {\n        vertical-align: top;\n    }\n\n    .dataframe thead th {\n        text-align: right;\n    }\n</style>\n<table border=\"1\" class=\"dataframe\">\n  <thead>\n    <tr style=\"text-align: right;\">\n      <th></th>\n      <th>age</th>\n      <th>height</th>\n      <th>weight</th>\n      <th>waistline</th>\n      <th>sight_left</th>\n      <th>sight_right</th>\n      <th>hear_left</th>\n      <th>hear_right</th>\n      <th>SBP</th>\n      <th>DBP</th>\n      <th>...</th>\n      <th>HDL_chole</th>\n      <th>LDL_chole</th>\n      <th>triglyceride</th>\n      <th>hemoglobin</th>\n      <th>urine_protein</th>\n      <th>serum_creatinine</th>\n      <th>SGOT_AST</th>\n      <th>SGOT_ALT</th>\n      <th>gamma_GTP</th>\n      <th>SMK_stat_type_cd</th>\n    </tr>\n  </thead>\n  <tbody>\n    <tr>\n      <th>count</th>\n      <td>514490.000000</td>\n      <td>514490.000000</td>\n      <td>514490.000000</td>\n      <td>514490.000000</td>\n      <td>514490.000000</td>\n      <td>514490.000000</td>\n      <td>514490.000000</td>\n      <td>514490.000000</td>\n      <td>514490.000000</td>\n      <td>514490.000000</td>\n      <td>...</td>\n      <td>514490.000000</td>\n      <td>514490.000000</td>\n      <td>514490.000000</td>\n      <td>514490.000000</td>\n      <td>514490.000000</td>\n      <td>514490.000000</td>\n      <td>514490.000000</td>\n      <td>514490.000000</td>\n      <td>514490.000000</td>\n      <td>514490.000000</td>\n    </tr>\n    <tr>\n      <th>mean</th>\n      <td>45.888278</td>\n      <td>160.794554</td>\n      <td>59.291434</td>\n      <td>77.635536</td>\n      <td>0.948281</td>\n      <td>0.945260</td>\n      <td>1.027064</td>\n      <td>1.026238</td>\n      <td>118.574266</td>\n      <td>73.624008</td>\n      <td>...</td>\n      <td>60.124424</td>\n      <td>111.732883</td>\n      <td>94.428313</td>\n      <td>13.799538</td>\n      <td>1.064654</td>\n      <td>0.805935</td>\n      <td>20.856471</td>\n      <td>17.067026</td>\n      <td>19.026622</td>\n      <td>1.423658</td>\n    </tr>\n    <tr>\n      <th>std</th>\n      <td>14.471204</td>\n      <td>9.004381</td>\n      <td>10.647231</td>\n      <td>8.639888</td>\n      <td>0.327297</td>\n      <td>0.327096</td>\n      <td>0.162269</td>\n      <td>0.159841</td>\n      <td>12.720438</td>\n      <td>8.542271</td>\n      <td>...</td>\n      <td>14.871205</td>\n      <td>30.535743</td>\n      <td>40.000063</td>\n      <td>1.503407</td>\n      <td>0.338190</td>\n      <td>0.175724</td>\n      <td>4.650780</td>\n      <td>5.942221</td>\n      <td>7.567117</td>\n      <td>0.734103</td>\n    </tr>\n    <tr>\n      <th>min</th>\n      <td>20.000000</td>\n      <td>130.000000</td>\n      <td>25.000000</td>\n      <td>53.600000</td>\n      <td>0.100000</td>\n      <td>0.100000</td>\n      <td>1.000000</td>\n      <td>1.000000</td>\n      <td>84.000000</td>\n      <td>54.000000</td>\n      <td>...</td>\n      <td>1.000000</td>\n      <td>1.000000</td>\n      <td>1.000000</td>\n      <td>1.000000</td>\n      <td>1.000000</td>\n      <td>0.400000</td>\n      <td>9.000000</td>\n      <td>1.000000</td>\n      <td>1.000000</td>\n      <td>1.000000</td>\n    </tr>\n    <tr>\n      <th>25%</th>\n      <td>35.000000</td>\n      <td>155.000000</td>\n      <td>50.000000</td>\n      <td>71.000000</td>\n      <td>0.700000</td>\n      <td>0.700000</td>\n      <td>1.000000</td>\n      <td>1.000000</td>\n      <td>110.000000</td>\n      <td>68.000000</td>\n      <td>...</td>\n      <td>50.000000</td>\n      <td>90.000000</td>\n      <td>63.000000</td>\n      <td>12.900000</td>\n      <td>1.000000</td>\n      <td>0.700000</td>\n      <td>17.000000</td>\n      <td>13.000000</td>\n      <td>13.000000</td>\n      <td>1.000000</td>\n    </tr>\n    <tr>\n      <th>50%</th>\n      <td>45.000000</td>\n      <td>160.000000</td>\n      <td>60.000000</td>\n      <td>77.500000</td>\n      <td>1.000000</td>\n      <td>1.000000</td>\n      <td>1.000000</td>\n      <td>1.000000</td>\n      <td>118.000000</td>\n      <td>73.000000</td>\n      <td>...</td>\n      <td>59.000000</td>\n      <td>110.000000</td>\n      <td>87.000000</td>\n      <td>13.700000</td>\n      <td>1.000000</td>\n      <td>0.800000</td>\n      <td>20.000000</td>\n      <td>16.000000</td>\n      <td>17.000000</td>\n      <td>1.000000</td>\n    </tr>\n    <tr>\n      <th>75%</th>\n      <td>55.000000</td>\n      <td>165.000000</td>\n      <td>65.000000</td>\n      <td>84.000000</td>\n      <td>1.200000</td>\n      <td>1.200000</td>\n      <td>1.000000</td>\n      <td>1.000000</td>\n      <td>128.000000</td>\n      <td>80.000000</td>\n      <td>...</td>\n      <td>69.000000</td>\n      <td>132.000000</td>\n      <td>119.000000</td>\n      <td>14.800000</td>\n      <td>1.000000</td>\n      <td>0.900000</td>\n      <td>24.000000</td>\n      <td>21.000000</td>\n      <td>23.000000</td>\n      <td>2.000000</td>\n    </tr>\n    <tr>\n      <th>max</th>\n      <td>85.000000</td>\n      <td>190.000000</td>\n      <td>120.000000</td>\n      <td>103.100000</td>\n      <td>1.900000</td>\n      <td>1.900000</td>\n      <td>2.000000</td>\n      <td>2.000000</td>\n      <td>155.000000</td>\n      <td>96.000000</td>\n      <td>...</td>\n      <td>933.000000</td>\n      <td>1750.000000</td>\n      <td>206.000000</td>\n      <td>25.000000</td>\n      <td>6.000000</td>\n      <td>1.200000</td>\n      <td>33.000000</td>\n      <td>33.000000</td>\n      <td>40.000000</td>\n      <td>3.000000</td>\n    </tr>\n  </tbody>\n</table>\n<p>8 rows × 22 columns</p>\n</div>"
     },
     "execution_count": 59,
     "metadata": {},
     "output_type": "execute_result"
    }
   ],
   "source": [
    "df_copy.describe()"
   ],
   "metadata": {
    "collapsed": false,
    "ExecuteTime": {
     "end_time": "2023-10-26T16:43:54.425559300Z",
     "start_time": "2023-10-26T16:43:54.191026600Z"
    }
   },
   "id": "66b80719e1c2a5a"
  },
  {
   "cell_type": "markdown",
   "source": [
    "## Remove Duplicates\n",
    "---"
   ],
   "metadata": {
    "collapsed": false
   },
   "id": "6f50189ec4d3f6a"
  },
  {
   "cell_type": "code",
   "execution_count": 60,
   "outputs": [
    {
     "data": {
      "text/plain": "'Number of duplicates: 0'"
     },
     "execution_count": 60,
     "metadata": {},
     "output_type": "execute_result"
    }
   ],
   "source": [
    "duplicate_data(df_copy)"
   ],
   "metadata": {
    "collapsed": false,
    "ExecuteTime": {
     "end_time": "2023-10-26T16:43:56.788265900Z",
     "start_time": "2023-10-26T16:43:56.598679600Z"
    }
   },
   "id": "7117fe644664da0d"
  },
  {
   "cell_type": "markdown",
   "source": [
    "## Impute Missing Values \n",
    "---"
   ],
   "metadata": {
    "collapsed": false
   },
   "id": "1d486ba5aa6421fe"
  },
  {
   "cell_type": "code",
   "execution_count": 20,
   "outputs": [
    {
     "data": {
      "text/plain": "'Percentage of missing values: 0.00%'"
     },
     "execution_count": 20,
     "metadata": {},
     "output_type": "execute_result"
    }
   ],
   "source": [
    "percentage_missing_values(df_copy)"
   ],
   "metadata": {
    "collapsed": false,
    "ExecuteTime": {
     "end_time": "2023-10-26T16:48:28.073225400Z",
     "start_time": "2023-10-26T16:48:27.886255Z"
    }
   },
   "id": "39131a55ca7c6ab1"
  },
  {
   "cell_type": "markdown",
   "id": "6d519c23b80ce6ad",
   "metadata": {
    "collapsed": false
   },
   "source": [
    "# Create Variable Mappings\n",
    "---"
   ]
  },
  {
   "cell_type": "code",
   "execution_count": 62,
   "id": "65045f220b47faf7",
   "metadata": {
    "collapsed": false,
    "ExecuteTime": {
     "end_time": "2023-10-26T16:45:06.242388700Z",
     "start_time": "2023-10-26T16:45:06.131906800Z"
    }
   },
   "outputs": [],
   "source": [
    "df_copy['SMK_stat_type_cd'] = df_copy['SMK_stat_type_cd'].map({1: 'N', 2: 'Q', 3: 'S'}) # Smoking state, 1(never) = N , 2(used to smoke but quit) = Q, 3(still smoke) = S\n",
    "df_copy['hear_left'] = df_copy['hear_left'].map({1: 'Normal', 2: 'Abnormal'})\n",
    "df_copy['hear_right'] = df_copy['hear_right'].map({1: 'Normal', 2: 'Abnormal'})\n",
    "df_copy['urine_protein'] = df_copy['urine_protein'].map({1: '-', 2: '+/-', 3: '+1', 4: '+2', 5: '+3', 6: '+4'})"
   ]
  },
  {
   "cell_type": "code",
   "execution_count": 63,
   "id": "ada96391d295c6d5",
   "metadata": {
    "collapsed": false,
    "ExecuteTime": {
     "end_time": "2023-10-26T16:45:08.405027900Z",
     "start_time": "2023-10-26T16:45:08.367125700Z"
    }
   },
   "outputs": [
    {
     "name": "stdout",
     "output_type": "stream",
     "text": [
      "Index(['sex', 'hear_left', 'hear_right', 'urine_protein', 'SMK_stat_type_cd',\n",
      "       'DRK_YN'],\n",
      "      dtype='object')\n"
     ]
    }
   ],
   "source": [
    "print(df_copy.select_dtypes(include=[object,bool]).columns)"
   ]
  },
  {
   "cell_type": "markdown",
   "id": "c3aceb90fa0a77b5",
   "metadata": {
    "collapsed": false
   },
   "source": [
    "# Encoding \n",
    "---"
   ]
  },
  {
   "cell_type": "code",
   "execution_count": 11,
   "id": "ace26354f26f6d54",
   "metadata": {
    "collapsed": false,
    "ExecuteTime": {
     "end_time": "2023-10-25T13:05:15.148592600Z",
     "start_time": "2023-10-25T13:05:15.140762400Z"
    }
   },
   "outputs": [],
   "source": [
    "def one_hot_encode_dataframe(df,columns):\n",
    "    copy = df.copy()\n",
    "    ohe = pd.get_dummies(df_copy, columns=columns)\n",
    "    return ohe"
   ]
  },
  {
   "cell_type": "code",
   "execution_count": 12,
   "id": "dccb15878175d72a",
   "metadata": {
    "collapsed": false,
    "ExecuteTime": {
     "end_time": "2023-10-25T13:05:15.652980900Z",
     "start_time": "2023-10-25T13:05:15.148592600Z"
    }
   },
   "outputs": [],
   "source": [
    "columns = ['sex','hear_left','hear_right','urine_protein','DRK_YN'] # We can then re-use the one hot encode method depending if we want to predict smoker or drinker\n",
    "ohe_df = one_hot_encode_dataframe(df_copy, columns)"
   ]
  },
  {
   "cell_type": "code",
   "execution_count": 13,
   "id": "86b6752fe6caf205",
   "metadata": {
    "collapsed": false,
    "ExecuteTime": {
     "end_time": "2023-10-25T13:05:15.674777400Z",
     "start_time": "2023-10-25T13:05:15.656163400Z"
    }
   },
   "outputs": [
    {
     "data": {
      "text/plain": "   age  height  weight  waistline  sight_left  sight_right    SBP   DBP  \\\n0   35     170      75       90.0         1.0          1.0  120.0  80.0   \n1   30     180      80       89.0         0.9          1.2  130.0  82.0   \n2   40     165      75       91.0         1.2          1.5  120.0  70.0   \n3   50     175      80       91.0         1.5          1.2  145.0  87.0   \n4   50     165      60       80.0         1.0          1.2  138.0  82.0   \n\n    BLDS  tot_chole  ...  hear_right_Abnormal  hear_right_Normal  \\\n0   99.0      193.0  ...                    0                  1   \n1  106.0      228.0  ...                    0                  1   \n2   98.0      136.0  ...                    0                  1   \n3   95.0      201.0  ...                    0                  1   \n4  101.0      199.0  ...                    0                  1   \n\n   urine_protein_+/-  urine_protein_+1  urine_protein_+2  urine_protein_+3  \\\n0                  0                 0                 0                 0   \n1                  0                 0                 0                 0   \n2                  0                 0                 0                 0   \n3                  0                 0                 0                 0   \n4                  0                 0                 0                 0   \n\n   urine_protein_+4  urine_protein_- DRK_YN_N  DRK_YN_Y  \n0                 0                1        0         1  \n1                 0                1        1         0  \n2                 0                1        1         0  \n3                 0                1        1         0  \n4                 0                1        1         0  \n\n[5 rows x 33 columns]",
      "text/html": "<div>\n<style scoped>\n    .dataframe tbody tr th:only-of-type {\n        vertical-align: middle;\n    }\n\n    .dataframe tbody tr th {\n        vertical-align: top;\n    }\n\n    .dataframe thead th {\n        text-align: right;\n    }\n</style>\n<table border=\"1\" class=\"dataframe\">\n  <thead>\n    <tr style=\"text-align: right;\">\n      <th></th>\n      <th>age</th>\n      <th>height</th>\n      <th>weight</th>\n      <th>waistline</th>\n      <th>sight_left</th>\n      <th>sight_right</th>\n      <th>SBP</th>\n      <th>DBP</th>\n      <th>BLDS</th>\n      <th>tot_chole</th>\n      <th>...</th>\n      <th>hear_right_Abnormal</th>\n      <th>hear_right_Normal</th>\n      <th>urine_protein_+/-</th>\n      <th>urine_protein_+1</th>\n      <th>urine_protein_+2</th>\n      <th>urine_protein_+3</th>\n      <th>urine_protein_+4</th>\n      <th>urine_protein_-</th>\n      <th>DRK_YN_N</th>\n      <th>DRK_YN_Y</th>\n    </tr>\n  </thead>\n  <tbody>\n    <tr>\n      <th>0</th>\n      <td>35</td>\n      <td>170</td>\n      <td>75</td>\n      <td>90.0</td>\n      <td>1.0</td>\n      <td>1.0</td>\n      <td>120.0</td>\n      <td>80.0</td>\n      <td>99.0</td>\n      <td>193.0</td>\n      <td>...</td>\n      <td>0</td>\n      <td>1</td>\n      <td>0</td>\n      <td>0</td>\n      <td>0</td>\n      <td>0</td>\n      <td>0</td>\n      <td>1</td>\n      <td>0</td>\n      <td>1</td>\n    </tr>\n    <tr>\n      <th>1</th>\n      <td>30</td>\n      <td>180</td>\n      <td>80</td>\n      <td>89.0</td>\n      <td>0.9</td>\n      <td>1.2</td>\n      <td>130.0</td>\n      <td>82.0</td>\n      <td>106.0</td>\n      <td>228.0</td>\n      <td>...</td>\n      <td>0</td>\n      <td>1</td>\n      <td>0</td>\n      <td>0</td>\n      <td>0</td>\n      <td>0</td>\n      <td>0</td>\n      <td>1</td>\n      <td>1</td>\n      <td>0</td>\n    </tr>\n    <tr>\n      <th>2</th>\n      <td>40</td>\n      <td>165</td>\n      <td>75</td>\n      <td>91.0</td>\n      <td>1.2</td>\n      <td>1.5</td>\n      <td>120.0</td>\n      <td>70.0</td>\n      <td>98.0</td>\n      <td>136.0</td>\n      <td>...</td>\n      <td>0</td>\n      <td>1</td>\n      <td>0</td>\n      <td>0</td>\n      <td>0</td>\n      <td>0</td>\n      <td>0</td>\n      <td>1</td>\n      <td>1</td>\n      <td>0</td>\n    </tr>\n    <tr>\n      <th>3</th>\n      <td>50</td>\n      <td>175</td>\n      <td>80</td>\n      <td>91.0</td>\n      <td>1.5</td>\n      <td>1.2</td>\n      <td>145.0</td>\n      <td>87.0</td>\n      <td>95.0</td>\n      <td>201.0</td>\n      <td>...</td>\n      <td>0</td>\n      <td>1</td>\n      <td>0</td>\n      <td>0</td>\n      <td>0</td>\n      <td>0</td>\n      <td>0</td>\n      <td>1</td>\n      <td>1</td>\n      <td>0</td>\n    </tr>\n    <tr>\n      <th>4</th>\n      <td>50</td>\n      <td>165</td>\n      <td>60</td>\n      <td>80.0</td>\n      <td>1.0</td>\n      <td>1.2</td>\n      <td>138.0</td>\n      <td>82.0</td>\n      <td>101.0</td>\n      <td>199.0</td>\n      <td>...</td>\n      <td>0</td>\n      <td>1</td>\n      <td>0</td>\n      <td>0</td>\n      <td>0</td>\n      <td>0</td>\n      <td>0</td>\n      <td>1</td>\n      <td>1</td>\n      <td>0</td>\n    </tr>\n  </tbody>\n</table>\n<p>5 rows × 33 columns</p>\n</div>"
     },
     "execution_count": 13,
     "metadata": {},
     "output_type": "execute_result"
    }
   ],
   "source": [
    "ohe_df.head()"
   ]
  },
  {
   "cell_type": "code",
   "execution_count": 14,
   "id": "411c5c40",
   "metadata": {
    "ExecuteTime": {
     "end_time": "2023-10-25T13:05:15.812122Z",
     "start_time": "2023-10-25T13:05:15.674777400Z"
    }
   },
   "outputs": [
    {
     "name": "stdout",
     "output_type": "stream",
     "text": [
      "<class 'pandas.core.frame.DataFrame'>\n",
      "RangeIndex: 991346 entries, 0 to 991345\n",
      "Data columns (total 33 columns):\n",
      " #   Column               Non-Null Count   Dtype  \n",
      "---  ------               --------------   -----  \n",
      " 0   age                  991346 non-null  int64  \n",
      " 1   height               991346 non-null  int64  \n",
      " 2   weight               991346 non-null  int64  \n",
      " 3   waistline            991346 non-null  float64\n",
      " 4   sight_left           991346 non-null  float64\n",
      " 5   sight_right          991346 non-null  float64\n",
      " 6   SBP                  991346 non-null  float64\n",
      " 7   DBP                  991346 non-null  float64\n",
      " 8   BLDS                 991346 non-null  float64\n",
      " 9   tot_chole            991346 non-null  float64\n",
      " 10  HDL_chole            991346 non-null  float64\n",
      " 11  LDL_chole            991346 non-null  float64\n",
      " 12  triglyceride         991346 non-null  float64\n",
      " 13  hemoglobin           991346 non-null  float64\n",
      " 14  serum_creatinine     991346 non-null  float64\n",
      " 15  SGOT_AST             991346 non-null  float64\n",
      " 16  SGOT_ALT             991346 non-null  float64\n",
      " 17  gamma_GTP            991346 non-null  float64\n",
      " 18  SMK_stat_type_cd     991346 non-null  object \n",
      " 19  sex_Female           991346 non-null  uint8  \n",
      " 20  sex_Male             991346 non-null  uint8  \n",
      " 21  hear_left_Abnormal   991346 non-null  uint8  \n",
      " 22  hear_left_Normal     991346 non-null  uint8  \n",
      " 23  hear_right_Abnormal  991346 non-null  uint8  \n",
      " 24  hear_right_Normal    991346 non-null  uint8  \n",
      " 25  urine_protein_+/-    991346 non-null  uint8  \n",
      " 26  urine_protein_+1     991346 non-null  uint8  \n",
      " 27  urine_protein_+2     991346 non-null  uint8  \n",
      " 28  urine_protein_+3     991346 non-null  uint8  \n",
      " 29  urine_protein_+4     991346 non-null  uint8  \n",
      " 30  urine_protein_-      991346 non-null  uint8  \n",
      " 31  DRK_YN_N             991346 non-null  uint8  \n",
      " 32  DRK_YN_Y             991346 non-null  uint8  \n",
      "dtypes: float64(15), int64(3), object(1), uint8(14)\n",
      "memory usage: 156.9+ MB\n"
     ]
    }
   ],
   "source": [
    "ohe_df.info()"
   ]
  },
  {
   "cell_type": "markdown",
   "id": "b74b8f0b",
   "metadata": {},
   "source": [
    "### Modeling with One Hot Encoding"
   ]
  },
  {
   "cell_type": "code",
   "execution_count": 15,
   "id": "27aa8ccb",
   "metadata": {
    "ExecuteTime": {
     "end_time": "2023-10-25T13:05:16.761868600Z",
     "start_time": "2023-10-25T13:05:15.812122Z"
    }
   },
   "outputs": [],
   "source": [
    "import random\n",
    "from sklearn.metrics import mean_squared_error, r2_score\n",
    "import statsmodels.api as sm\n",
    "from sklearn.impute import SimpleImputer\n",
    "from sklearn.model_selection import train_test_split\n",
    "from sklearn.linear_model import LinearRegression\n",
    "from sklearn.neighbors import KNeighborsClassifier, KNeighborsRegressor\n",
    "from sklearn.linear_model import LogisticRegression\n",
    "from sklearn.compose import make_column_transformer\n",
    "from sklearn.pipeline import make_pipeline\n",
    "from sklearn.preprocessing import OneHotEncoder, StandardScaler\n",
    "from sklearn.metrics import accuracy_score, precision_score, f1_score, recall_score, r2_score, mean_squared_error\n",
    "import matplotlib.pyplot as plt\n",
    "import seaborn \n",
    "%matplotlib inline"
   ]
  },
  {
   "cell_type": "markdown",
   "id": "7ef0ff04",
   "metadata": {},
   "source": [
    "Linear Regression"
   ]
  },
  {
   "cell_type": "code",
   "execution_count": 20,
   "id": "067bea91",
   "metadata": {
    "ExecuteTime": {
     "end_time": "2023-10-25T13:08:32.077726500Z",
     "start_time": "2023-10-25T13:08:31.849830200Z"
    }
   },
   "outputs": [
    {
     "data": {
      "text/plain": "        age  height  weight  waistline  sight_left  sight_right    SBP   DBP  \\\n0        35     170      75       90.0         1.0          1.0  120.0  80.0   \n1        30     180      80       89.0         0.9          1.2  130.0  82.0   \n2        40     165      75       91.0         1.2          1.5  120.0  70.0   \n3        50     175      80       91.0         1.5          1.2  145.0  87.0   \n4        50     165      60       80.0         1.0          1.2  138.0  82.0   \n...     ...     ...     ...        ...         ...          ...    ...   ...   \n991341   45     175      80       92.1         1.5          1.5  114.0  80.0   \n991342   35     170      75       86.0         1.0          1.5  119.0  83.0   \n991343   40     155      50       68.0         1.0          0.7  110.0  70.0   \n991344   25     175      60       72.0         1.5          1.0  119.0  74.0   \n991345   50     160      70       90.5         1.0          1.5  133.0  79.0   \n\n         BLDS  tot_chole  ...  hear_right_Abnormal  hear_right_Normal  \\\n0        99.0      193.0  ...                    0                  1   \n1       106.0      228.0  ...                    0                  1   \n2        98.0      136.0  ...                    0                  1   \n3        95.0      201.0  ...                    0                  1   \n4       101.0      199.0  ...                    0                  1   \n...       ...        ...  ...                  ...                ...   \n991341   88.0      198.0  ...                    0                  1   \n991342   83.0      133.0  ...                    0                  1   \n991343   90.0      205.0  ...                    0                  1   \n991344   69.0      122.0  ...                    0                  1   \n991345   99.0      225.0  ...                    0                  1   \n\n        urine_protein_+/-  urine_protein_+1  urine_protein_+2  \\\n0                       0                 0                 0   \n1                       0                 0                 0   \n2                       0                 0                 0   \n3                       0                 0                 0   \n4                       0                 0                 0   \n...                   ...               ...               ...   \n991341                  0                 0                 0   \n991342                  0                 0                 0   \n991343                  0                 0                 0   \n991344                  0                 0                 0   \n991345                  0                 0                 0   \n\n        urine_protein_+3  urine_protein_+4  urine_protein_- DRK_YN_N  DRK_YN_Y  \n0                      0                 0                1        0         1  \n1                      0                 0                1        1         0  \n2                      0                 0                1        1         0  \n3                      0                 0                1        1         0  \n4                      0                 0                1        1         0  \n...                  ...               ...              ...      ...       ...  \n991341                 0                 0                1        1         0  \n991342                 0                 0                1        1         0  \n991343                 0                 0                1        0         1  \n991344                 0                 0                1        1         0  \n991345                 0                 0                1        0         1  \n\n[991346 rows x 33 columns]",
      "text/html": "<div>\n<style scoped>\n    .dataframe tbody tr th:only-of-type {\n        vertical-align: middle;\n    }\n\n    .dataframe tbody tr th {\n        vertical-align: top;\n    }\n\n    .dataframe thead th {\n        text-align: right;\n    }\n</style>\n<table border=\"1\" class=\"dataframe\">\n  <thead>\n    <tr style=\"text-align: right;\">\n      <th></th>\n      <th>age</th>\n      <th>height</th>\n      <th>weight</th>\n      <th>waistline</th>\n      <th>sight_left</th>\n      <th>sight_right</th>\n      <th>SBP</th>\n      <th>DBP</th>\n      <th>BLDS</th>\n      <th>tot_chole</th>\n      <th>...</th>\n      <th>hear_right_Abnormal</th>\n      <th>hear_right_Normal</th>\n      <th>urine_protein_+/-</th>\n      <th>urine_protein_+1</th>\n      <th>urine_protein_+2</th>\n      <th>urine_protein_+3</th>\n      <th>urine_protein_+4</th>\n      <th>urine_protein_-</th>\n      <th>DRK_YN_N</th>\n      <th>DRK_YN_Y</th>\n    </tr>\n  </thead>\n  <tbody>\n    <tr>\n      <th>0</th>\n      <td>35</td>\n      <td>170</td>\n      <td>75</td>\n      <td>90.0</td>\n      <td>1.0</td>\n      <td>1.0</td>\n      <td>120.0</td>\n      <td>80.0</td>\n      <td>99.0</td>\n      <td>193.0</td>\n      <td>...</td>\n      <td>0</td>\n      <td>1</td>\n      <td>0</td>\n      <td>0</td>\n      <td>0</td>\n      <td>0</td>\n      <td>0</td>\n      <td>1</td>\n      <td>0</td>\n      <td>1</td>\n    </tr>\n    <tr>\n      <th>1</th>\n      <td>30</td>\n      <td>180</td>\n      <td>80</td>\n      <td>89.0</td>\n      <td>0.9</td>\n      <td>1.2</td>\n      <td>130.0</td>\n      <td>82.0</td>\n      <td>106.0</td>\n      <td>228.0</td>\n      <td>...</td>\n      <td>0</td>\n      <td>1</td>\n      <td>0</td>\n      <td>0</td>\n      <td>0</td>\n      <td>0</td>\n      <td>0</td>\n      <td>1</td>\n      <td>1</td>\n      <td>0</td>\n    </tr>\n    <tr>\n      <th>2</th>\n      <td>40</td>\n      <td>165</td>\n      <td>75</td>\n      <td>91.0</td>\n      <td>1.2</td>\n      <td>1.5</td>\n      <td>120.0</td>\n      <td>70.0</td>\n      <td>98.0</td>\n      <td>136.0</td>\n      <td>...</td>\n      <td>0</td>\n      <td>1</td>\n      <td>0</td>\n      <td>0</td>\n      <td>0</td>\n      <td>0</td>\n      <td>0</td>\n      <td>1</td>\n      <td>1</td>\n      <td>0</td>\n    </tr>\n    <tr>\n      <th>3</th>\n      <td>50</td>\n      <td>175</td>\n      <td>80</td>\n      <td>91.0</td>\n      <td>1.5</td>\n      <td>1.2</td>\n      <td>145.0</td>\n      <td>87.0</td>\n      <td>95.0</td>\n      <td>201.0</td>\n      <td>...</td>\n      <td>0</td>\n      <td>1</td>\n      <td>0</td>\n      <td>0</td>\n      <td>0</td>\n      <td>0</td>\n      <td>0</td>\n      <td>1</td>\n      <td>1</td>\n      <td>0</td>\n    </tr>\n    <tr>\n      <th>4</th>\n      <td>50</td>\n      <td>165</td>\n      <td>60</td>\n      <td>80.0</td>\n      <td>1.0</td>\n      <td>1.2</td>\n      <td>138.0</td>\n      <td>82.0</td>\n      <td>101.0</td>\n      <td>199.0</td>\n      <td>...</td>\n      <td>0</td>\n      <td>1</td>\n      <td>0</td>\n      <td>0</td>\n      <td>0</td>\n      <td>0</td>\n      <td>0</td>\n      <td>1</td>\n      <td>1</td>\n      <td>0</td>\n    </tr>\n    <tr>\n      <th>...</th>\n      <td>...</td>\n      <td>...</td>\n      <td>...</td>\n      <td>...</td>\n      <td>...</td>\n      <td>...</td>\n      <td>...</td>\n      <td>...</td>\n      <td>...</td>\n      <td>...</td>\n      <td>...</td>\n      <td>...</td>\n      <td>...</td>\n      <td>...</td>\n      <td>...</td>\n      <td>...</td>\n      <td>...</td>\n      <td>...</td>\n      <td>...</td>\n      <td>...</td>\n      <td>...</td>\n    </tr>\n    <tr>\n      <th>991341</th>\n      <td>45</td>\n      <td>175</td>\n      <td>80</td>\n      <td>92.1</td>\n      <td>1.5</td>\n      <td>1.5</td>\n      <td>114.0</td>\n      <td>80.0</td>\n      <td>88.0</td>\n      <td>198.0</td>\n      <td>...</td>\n      <td>0</td>\n      <td>1</td>\n      <td>0</td>\n      <td>0</td>\n      <td>0</td>\n      <td>0</td>\n      <td>0</td>\n      <td>1</td>\n      <td>1</td>\n      <td>0</td>\n    </tr>\n    <tr>\n      <th>991342</th>\n      <td>35</td>\n      <td>170</td>\n      <td>75</td>\n      <td>86.0</td>\n      <td>1.0</td>\n      <td>1.5</td>\n      <td>119.0</td>\n      <td>83.0</td>\n      <td>83.0</td>\n      <td>133.0</td>\n      <td>...</td>\n      <td>0</td>\n      <td>1</td>\n      <td>0</td>\n      <td>0</td>\n      <td>0</td>\n      <td>0</td>\n      <td>0</td>\n      <td>1</td>\n      <td>1</td>\n      <td>0</td>\n    </tr>\n    <tr>\n      <th>991343</th>\n      <td>40</td>\n      <td>155</td>\n      <td>50</td>\n      <td>68.0</td>\n      <td>1.0</td>\n      <td>0.7</td>\n      <td>110.0</td>\n      <td>70.0</td>\n      <td>90.0</td>\n      <td>205.0</td>\n      <td>...</td>\n      <td>0</td>\n      <td>1</td>\n      <td>0</td>\n      <td>0</td>\n      <td>0</td>\n      <td>0</td>\n      <td>0</td>\n      <td>1</td>\n      <td>0</td>\n      <td>1</td>\n    </tr>\n    <tr>\n      <th>991344</th>\n      <td>25</td>\n      <td>175</td>\n      <td>60</td>\n      <td>72.0</td>\n      <td>1.5</td>\n      <td>1.0</td>\n      <td>119.0</td>\n      <td>74.0</td>\n      <td>69.0</td>\n      <td>122.0</td>\n      <td>...</td>\n      <td>0</td>\n      <td>1</td>\n      <td>0</td>\n      <td>0</td>\n      <td>0</td>\n      <td>0</td>\n      <td>0</td>\n      <td>1</td>\n      <td>1</td>\n      <td>0</td>\n    </tr>\n    <tr>\n      <th>991345</th>\n      <td>50</td>\n      <td>160</td>\n      <td>70</td>\n      <td>90.5</td>\n      <td>1.0</td>\n      <td>1.5</td>\n      <td>133.0</td>\n      <td>79.0</td>\n      <td>99.0</td>\n      <td>225.0</td>\n      <td>...</td>\n      <td>0</td>\n      <td>1</td>\n      <td>0</td>\n      <td>0</td>\n      <td>0</td>\n      <td>0</td>\n      <td>0</td>\n      <td>1</td>\n      <td>0</td>\n      <td>1</td>\n    </tr>\n  </tbody>\n</table>\n<p>991346 rows × 33 columns</p>\n</div>"
     },
     "execution_count": 20,
     "metadata": {},
     "output_type": "execute_result"
    }
   ],
   "source": [
    "categ = df_copy.select_dtypes(include=[object, \"category\",bool])\n",
    "num = df_copy.select_dtypes(exclude=[\"object\", \"category\"])\n",
    "\n",
    "\n",
    "prep = make_column_transformer( \n",
    "        (OneHotEncoder(), categ),(\n",
    "        StandardScaler(),num))\n",
    "\n",
    "l  = LinearRegression()\n",
    "pipe = make_pipeline(prep,l)\n",
    "pipe\n",
    "ohe_df"
   ]
  },
  {
   "cell_type": "code",
   "execution_count": 21,
   "id": "aa00ca91",
   "metadata": {
    "ExecuteTime": {
     "end_time": "2023-10-25T13:10:02.037091700Z",
     "start_time": "2023-10-25T13:10:01.332085900Z"
    }
   },
   "outputs": [
    {
     "ename": "ValueError",
     "evalue": "No valid specification of the columns. Only a scalar, list or slice of all integers or all strings, or boolean mask is allowed",
     "output_type": "error",
     "traceback": [
      "\u001B[1;31m---------------------------------------------------------------------------\u001B[0m",
      "\u001B[1;31mValueError\u001B[0m                                Traceback (most recent call last)",
      "Cell \u001B[1;32mIn[21], line 7\u001B[0m\n\u001B[0;32m      2\u001B[0m y \u001B[38;5;241m=\u001B[39m df_copy[\u001B[38;5;124m'\u001B[39m\u001B[38;5;124mage\u001B[39m\u001B[38;5;124m'\u001B[39m] \n\u001B[0;32m      4\u001B[0m X_train, X_test, y_train, y_test \u001B[38;5;241m=\u001B[39m train_test_split(X,y, test_size\u001B[38;5;241m=\u001B[39m\u001B[38;5;241m0.3\u001B[39m, random_state\u001B[38;5;241m=\u001B[39m\u001B[38;5;241m42\u001B[39m)\n\u001B[1;32m----> 7\u001B[0m pipe\u001B[38;5;241m.\u001B[39mfit(X_train, y_train)\n\u001B[0;32m      9\u001B[0m linear_predictions \u001B[38;5;241m=\u001B[39m pipe\u001B[38;5;241m.\u001B[39mpredict(X_test) \n\u001B[0;32m     12\u001B[0m linear_mse \u001B[38;5;241m=\u001B[39m mean_squared_error(y_test, linear_predictions) \n",
      "File \u001B[1;32m~\\anaconda3\\Lib\\site-packages\\sklearn\\base.py:1151\u001B[0m, in \u001B[0;36m_fit_context.<locals>.decorator.<locals>.wrapper\u001B[1;34m(estimator, *args, **kwargs)\u001B[0m\n\u001B[0;32m   1144\u001B[0m     estimator\u001B[38;5;241m.\u001B[39m_validate_params()\n\u001B[0;32m   1146\u001B[0m \u001B[38;5;28;01mwith\u001B[39;00m config_context(\n\u001B[0;32m   1147\u001B[0m     skip_parameter_validation\u001B[38;5;241m=\u001B[39m(\n\u001B[0;32m   1148\u001B[0m         prefer_skip_nested_validation \u001B[38;5;129;01mor\u001B[39;00m global_skip_validation\n\u001B[0;32m   1149\u001B[0m     )\n\u001B[0;32m   1150\u001B[0m ):\n\u001B[1;32m-> 1151\u001B[0m     \u001B[38;5;28;01mreturn\u001B[39;00m fit_method(estimator, \u001B[38;5;241m*\u001B[39margs, \u001B[38;5;241m*\u001B[39m\u001B[38;5;241m*\u001B[39mkwargs)\n",
      "File \u001B[1;32m~\\anaconda3\\Lib\\site-packages\\sklearn\\pipeline.py:416\u001B[0m, in \u001B[0;36mPipeline.fit\u001B[1;34m(self, X, y, **fit_params)\u001B[0m\n\u001B[0;32m    390\u001B[0m \u001B[38;5;250m\u001B[39m\u001B[38;5;124;03m\"\"\"Fit the model.\u001B[39;00m\n\u001B[0;32m    391\u001B[0m \n\u001B[0;32m    392\u001B[0m \u001B[38;5;124;03mFit all the transformers one after the other and transform the\u001B[39;00m\n\u001B[1;32m   (...)\u001B[0m\n\u001B[0;32m    413\u001B[0m \u001B[38;5;124;03m    Pipeline with fitted steps.\u001B[39;00m\n\u001B[0;32m    414\u001B[0m \u001B[38;5;124;03m\"\"\"\u001B[39;00m\n\u001B[0;32m    415\u001B[0m fit_params_steps \u001B[38;5;241m=\u001B[39m \u001B[38;5;28mself\u001B[39m\u001B[38;5;241m.\u001B[39m_check_fit_params(\u001B[38;5;241m*\u001B[39m\u001B[38;5;241m*\u001B[39mfit_params)\n\u001B[1;32m--> 416\u001B[0m Xt \u001B[38;5;241m=\u001B[39m \u001B[38;5;28mself\u001B[39m\u001B[38;5;241m.\u001B[39m_fit(X, y, \u001B[38;5;241m*\u001B[39m\u001B[38;5;241m*\u001B[39mfit_params_steps)\n\u001B[0;32m    417\u001B[0m \u001B[38;5;28;01mwith\u001B[39;00m _print_elapsed_time(\u001B[38;5;124m\"\u001B[39m\u001B[38;5;124mPipeline\u001B[39m\u001B[38;5;124m\"\u001B[39m, \u001B[38;5;28mself\u001B[39m\u001B[38;5;241m.\u001B[39m_log_message(\u001B[38;5;28mlen\u001B[39m(\u001B[38;5;28mself\u001B[39m\u001B[38;5;241m.\u001B[39msteps) \u001B[38;5;241m-\u001B[39m \u001B[38;5;241m1\u001B[39m)):\n\u001B[0;32m    418\u001B[0m     \u001B[38;5;28;01mif\u001B[39;00m \u001B[38;5;28mself\u001B[39m\u001B[38;5;241m.\u001B[39m_final_estimator \u001B[38;5;241m!=\u001B[39m \u001B[38;5;124m\"\u001B[39m\u001B[38;5;124mpassthrough\u001B[39m\u001B[38;5;124m\"\u001B[39m:\n",
      "File \u001B[1;32m~\\anaconda3\\Lib\\site-packages\\sklearn\\pipeline.py:370\u001B[0m, in \u001B[0;36mPipeline._fit\u001B[1;34m(self, X, y, **fit_params_steps)\u001B[0m\n\u001B[0;32m    368\u001B[0m     cloned_transformer \u001B[38;5;241m=\u001B[39m clone(transformer)\n\u001B[0;32m    369\u001B[0m \u001B[38;5;66;03m# Fit or load from cache the current transformer\u001B[39;00m\n\u001B[1;32m--> 370\u001B[0m X, fitted_transformer \u001B[38;5;241m=\u001B[39m fit_transform_one_cached(\n\u001B[0;32m    371\u001B[0m     cloned_transformer,\n\u001B[0;32m    372\u001B[0m     X,\n\u001B[0;32m    373\u001B[0m     y,\n\u001B[0;32m    374\u001B[0m     \u001B[38;5;28;01mNone\u001B[39;00m,\n\u001B[0;32m    375\u001B[0m     message_clsname\u001B[38;5;241m=\u001B[39m\u001B[38;5;124m\"\u001B[39m\u001B[38;5;124mPipeline\u001B[39m\u001B[38;5;124m\"\u001B[39m,\n\u001B[0;32m    376\u001B[0m     message\u001B[38;5;241m=\u001B[39m\u001B[38;5;28mself\u001B[39m\u001B[38;5;241m.\u001B[39m_log_message(step_idx),\n\u001B[0;32m    377\u001B[0m     \u001B[38;5;241m*\u001B[39m\u001B[38;5;241m*\u001B[39mfit_params_steps[name],\n\u001B[0;32m    378\u001B[0m )\n\u001B[0;32m    379\u001B[0m \u001B[38;5;66;03m# Replace the transformer of the step with the fitted\u001B[39;00m\n\u001B[0;32m    380\u001B[0m \u001B[38;5;66;03m# transformer. This is necessary when loading the transformer\u001B[39;00m\n\u001B[0;32m    381\u001B[0m \u001B[38;5;66;03m# from the cache.\u001B[39;00m\n\u001B[0;32m    382\u001B[0m \u001B[38;5;28mself\u001B[39m\u001B[38;5;241m.\u001B[39msteps[step_idx] \u001B[38;5;241m=\u001B[39m (name, fitted_transformer)\n",
      "File \u001B[1;32m~\\anaconda3\\Lib\\site-packages\\joblib\\memory.py:349\u001B[0m, in \u001B[0;36mNotMemorizedFunc.__call__\u001B[1;34m(self, *args, **kwargs)\u001B[0m\n\u001B[0;32m    348\u001B[0m \u001B[38;5;28;01mdef\u001B[39;00m \u001B[38;5;21m__call__\u001B[39m(\u001B[38;5;28mself\u001B[39m, \u001B[38;5;241m*\u001B[39margs, \u001B[38;5;241m*\u001B[39m\u001B[38;5;241m*\u001B[39mkwargs):\n\u001B[1;32m--> 349\u001B[0m     \u001B[38;5;28;01mreturn\u001B[39;00m \u001B[38;5;28mself\u001B[39m\u001B[38;5;241m.\u001B[39mfunc(\u001B[38;5;241m*\u001B[39margs, \u001B[38;5;241m*\u001B[39m\u001B[38;5;241m*\u001B[39mkwargs)\n",
      "File \u001B[1;32m~\\anaconda3\\Lib\\site-packages\\sklearn\\pipeline.py:950\u001B[0m, in \u001B[0;36m_fit_transform_one\u001B[1;34m(transformer, X, y, weight, message_clsname, message, **fit_params)\u001B[0m\n\u001B[0;32m    948\u001B[0m \u001B[38;5;28;01mwith\u001B[39;00m _print_elapsed_time(message_clsname, message):\n\u001B[0;32m    949\u001B[0m     \u001B[38;5;28;01mif\u001B[39;00m \u001B[38;5;28mhasattr\u001B[39m(transformer, \u001B[38;5;124m\"\u001B[39m\u001B[38;5;124mfit_transform\u001B[39m\u001B[38;5;124m\"\u001B[39m):\n\u001B[1;32m--> 950\u001B[0m         res \u001B[38;5;241m=\u001B[39m transformer\u001B[38;5;241m.\u001B[39mfit_transform(X, y, \u001B[38;5;241m*\u001B[39m\u001B[38;5;241m*\u001B[39mfit_params)\n\u001B[0;32m    951\u001B[0m     \u001B[38;5;28;01melse\u001B[39;00m:\n\u001B[0;32m    952\u001B[0m         res \u001B[38;5;241m=\u001B[39m transformer\u001B[38;5;241m.\u001B[39mfit(X, y, \u001B[38;5;241m*\u001B[39m\u001B[38;5;241m*\u001B[39mfit_params)\u001B[38;5;241m.\u001B[39mtransform(X)\n",
      "File \u001B[1;32m~\\anaconda3\\Lib\\site-packages\\sklearn\\utils\\_set_output.py:140\u001B[0m, in \u001B[0;36m_wrap_method_output.<locals>.wrapped\u001B[1;34m(self, X, *args, **kwargs)\u001B[0m\n\u001B[0;32m    138\u001B[0m \u001B[38;5;129m@wraps\u001B[39m(f)\n\u001B[0;32m    139\u001B[0m \u001B[38;5;28;01mdef\u001B[39;00m \u001B[38;5;21mwrapped\u001B[39m(\u001B[38;5;28mself\u001B[39m, X, \u001B[38;5;241m*\u001B[39margs, \u001B[38;5;241m*\u001B[39m\u001B[38;5;241m*\u001B[39mkwargs):\n\u001B[1;32m--> 140\u001B[0m     data_to_wrap \u001B[38;5;241m=\u001B[39m f(\u001B[38;5;28mself\u001B[39m, X, \u001B[38;5;241m*\u001B[39margs, \u001B[38;5;241m*\u001B[39m\u001B[38;5;241m*\u001B[39mkwargs)\n\u001B[0;32m    141\u001B[0m     \u001B[38;5;28;01mif\u001B[39;00m \u001B[38;5;28misinstance\u001B[39m(data_to_wrap, \u001B[38;5;28mtuple\u001B[39m):\n\u001B[0;32m    142\u001B[0m         \u001B[38;5;66;03m# only wrap the first output for cross decomposition\u001B[39;00m\n\u001B[0;32m    143\u001B[0m         return_tuple \u001B[38;5;241m=\u001B[39m (\n\u001B[0;32m    144\u001B[0m             _wrap_data_with_container(method, data_to_wrap[\u001B[38;5;241m0\u001B[39m], X, \u001B[38;5;28mself\u001B[39m),\n\u001B[0;32m    145\u001B[0m             \u001B[38;5;241m*\u001B[39mdata_to_wrap[\u001B[38;5;241m1\u001B[39m:],\n\u001B[0;32m    146\u001B[0m         )\n",
      "File \u001B[1;32m~\\anaconda3\\Lib\\site-packages\\sklearn\\base.py:1151\u001B[0m, in \u001B[0;36m_fit_context.<locals>.decorator.<locals>.wrapper\u001B[1;34m(estimator, *args, **kwargs)\u001B[0m\n\u001B[0;32m   1144\u001B[0m     estimator\u001B[38;5;241m.\u001B[39m_validate_params()\n\u001B[0;32m   1146\u001B[0m \u001B[38;5;28;01mwith\u001B[39;00m config_context(\n\u001B[0;32m   1147\u001B[0m     skip_parameter_validation\u001B[38;5;241m=\u001B[39m(\n\u001B[0;32m   1148\u001B[0m         prefer_skip_nested_validation \u001B[38;5;129;01mor\u001B[39;00m global_skip_validation\n\u001B[0;32m   1149\u001B[0m     )\n\u001B[0;32m   1150\u001B[0m ):\n\u001B[1;32m-> 1151\u001B[0m     \u001B[38;5;28;01mreturn\u001B[39;00m fit_method(estimator, \u001B[38;5;241m*\u001B[39margs, \u001B[38;5;241m*\u001B[39m\u001B[38;5;241m*\u001B[39mkwargs)\n",
      "File \u001B[1;32m~\\anaconda3\\Lib\\site-packages\\sklearn\\compose\\_column_transformer.py:740\u001B[0m, in \u001B[0;36mColumnTransformer.fit_transform\u001B[1;34m(self, X, y)\u001B[0m\n\u001B[0;32m    738\u001B[0m \u001B[38;5;28mself\u001B[39m\u001B[38;5;241m.\u001B[39m_check_n_features(X, reset\u001B[38;5;241m=\u001B[39m\u001B[38;5;28;01mTrue\u001B[39;00m)\n\u001B[0;32m    739\u001B[0m \u001B[38;5;28mself\u001B[39m\u001B[38;5;241m.\u001B[39m_validate_transformers()\n\u001B[1;32m--> 740\u001B[0m \u001B[38;5;28mself\u001B[39m\u001B[38;5;241m.\u001B[39m_validate_column_callables(X)\n\u001B[0;32m    741\u001B[0m \u001B[38;5;28mself\u001B[39m\u001B[38;5;241m.\u001B[39m_validate_remainder(X)\n\u001B[0;32m    743\u001B[0m result \u001B[38;5;241m=\u001B[39m \u001B[38;5;28mself\u001B[39m\u001B[38;5;241m.\u001B[39m_fit_transform(X, y, _fit_transform_one)\n",
      "File \u001B[1;32m~\\anaconda3\\Lib\\site-packages\\sklearn\\compose\\_column_transformer.py:448\u001B[0m, in \u001B[0;36mColumnTransformer._validate_column_callables\u001B[1;34m(self, X)\u001B[0m\n\u001B[0;32m    446\u001B[0m         columns \u001B[38;5;241m=\u001B[39m columns(X)\n\u001B[0;32m    447\u001B[0m     all_columns\u001B[38;5;241m.\u001B[39mappend(columns)\n\u001B[1;32m--> 448\u001B[0m     transformer_to_input_indices[name] \u001B[38;5;241m=\u001B[39m _get_column_indices(X, columns)\n\u001B[0;32m    450\u001B[0m \u001B[38;5;28mself\u001B[39m\u001B[38;5;241m.\u001B[39m_columns \u001B[38;5;241m=\u001B[39m all_columns\n\u001B[0;32m    451\u001B[0m \u001B[38;5;28mself\u001B[39m\u001B[38;5;241m.\u001B[39m_transformer_to_input_indices \u001B[38;5;241m=\u001B[39m transformer_to_input_indices\n",
      "File \u001B[1;32m~\\anaconda3\\Lib\\site-packages\\sklearn\\utils\\__init__.py:405\u001B[0m, in \u001B[0;36m_get_column_indices\u001B[1;34m(X, key)\u001B[0m\n\u001B[0;32m    398\u001B[0m \u001B[38;5;250m\u001B[39m\u001B[38;5;124;03m\"\"\"Get feature column indices for input data X and key.\u001B[39;00m\n\u001B[0;32m    399\u001B[0m \n\u001B[0;32m    400\u001B[0m \u001B[38;5;124;03mFor accepted values of `key`, see the docstring of\u001B[39;00m\n\u001B[0;32m    401\u001B[0m \u001B[38;5;124;03m:func:`_safe_indexing_column`.\u001B[39;00m\n\u001B[0;32m    402\u001B[0m \u001B[38;5;124;03m\"\"\"\u001B[39;00m\n\u001B[0;32m    403\u001B[0m n_columns \u001B[38;5;241m=\u001B[39m X\u001B[38;5;241m.\u001B[39mshape[\u001B[38;5;241m1\u001B[39m]\n\u001B[1;32m--> 405\u001B[0m key_dtype \u001B[38;5;241m=\u001B[39m _determine_key_type(key)\n\u001B[0;32m    407\u001B[0m \u001B[38;5;28;01mif\u001B[39;00m \u001B[38;5;28misinstance\u001B[39m(key, (\u001B[38;5;28mlist\u001B[39m, \u001B[38;5;28mtuple\u001B[39m)) \u001B[38;5;129;01mand\u001B[39;00m \u001B[38;5;129;01mnot\u001B[39;00m key:\n\u001B[0;32m    408\u001B[0m     \u001B[38;5;66;03m# we get an empty list\u001B[39;00m\n\u001B[0;32m    409\u001B[0m     \u001B[38;5;28;01mreturn\u001B[39;00m []\n",
      "File \u001B[1;32m~\\anaconda3\\Lib\\site-packages\\sklearn\\utils\\__init__.py:281\u001B[0m, in \u001B[0;36m_determine_key_type\u001B[1;34m(key, accept_slice)\u001B[0m\n\u001B[0;32m    279\u001B[0m     \u001B[38;5;28;01mexcept\u001B[39;00m \u001B[38;5;167;01mKeyError\u001B[39;00m:\n\u001B[0;32m    280\u001B[0m         \u001B[38;5;28;01mraise\u001B[39;00m \u001B[38;5;167;01mValueError\u001B[39;00m(err_msg)\n\u001B[1;32m--> 281\u001B[0m \u001B[38;5;28;01mraise\u001B[39;00m \u001B[38;5;167;01mValueError\u001B[39;00m(err_msg)\n",
      "\u001B[1;31mValueError\u001B[0m: No valid specification of the columns. Only a scalar, list or slice of all integers or all strings, or boolean mask is allowed"
     ]
    }
   ],
   "source": [
    "X = df_copy.drop('age', axis =1)\n",
    "y = df_copy['age'] \n",
    "\n",
    "X_train, X_test, y_train, y_test = train_test_split(X,y, test_size=0.3, random_state=42)\n",
    "\n",
    "\n",
    "pipe.fit(X_train, y_train)\n",
    "\n",
    "linear_predictions = pipe.predict(X_test) \n",
    "\n",
    "\n",
    "linear_mse = mean_squared_error(y_test, linear_predictions) \n",
    "linear_r2 = r2_score(y_test, linear_predictions) \n",
    "linear_rmse = np.sqrt(linear_mse) \n",
    "linear_meany = np.mean(y)\n",
    "linear_rmsem = linear_rmse/ linear_meany \n",
    "\n",
    "print(\"Linear Regression Model:\")\n",
    "print(\"Mean Squared Error:\", linear_mse)\n",
    "print(\"R-squared:\", linear_r2)\n",
    "print(\"RMSEM:\", linear_rmsem)"
   ]
  },
  {
   "cell_type": "markdown",
   "id": "2c089855",
   "metadata": {},
   "source": [
    "KNN Regression \n"
   ]
  },
  {
   "cell_type": "code",
   "execution_count": null,
   "id": "37a2a375",
   "metadata": {
    "ExecuteTime": {
     "start_time": "2023-10-25T13:04:06.775454600Z"
    }
   },
   "outputs": [],
   "source": [
    "knn_regressor = KNeighborsRegressor(n_neighbors=5)  \n",
    "\n",
    "pipeline_knn = Pipeline([\n",
    "    ('preprocessor', preprocessor),\n",
    "    ('regressor', knn_regressor)\n",
    "])\n",
    "\n",
    "X = ohe_df.drop('', axis=1)\n",
    "y = ohe_df['']\n",
    "\n",
    "X_train, X_test, y_train, y_test = train_test_split(X, y, test_size=0.3, random_state=42)\n",
    "\n",
    "pipeline_knn.fit(X_train, y_train)\n",
    "\n",
    "knn_predictions = pipeline_knn.predict(X_test)\n",
    "\n",
    "knn_mse = mean_squared_error(y_test, knn_predictions)\n",
    "knn_r2 = r2_score(y_test, knn_predictions)\n",
    "knn_rmse = np.sqrt(knn_mse)\n",
    "knn_meany = np.mean(y)\n",
    "knn_rmsem = knn_rmse / knn_meany\n",
    "\n",
    "print(\"KNN Regression Model:\")\n",
    "print(\"Mean Squared Error:\", knn_mse)\n",
    "print(\"R-squared:\", knn_r2)\n",
    "print(\"RMSEM:\", knn_rmsem)"
   ]
  },
  {
   "cell_type": "markdown",
   "id": "6f3910c6",
   "metadata": {},
   "source": [
    "Classifiers Function "
   ]
  },
  {
   "cell_type": "code",
   "execution_count": 17,
   "id": "a60f03d3",
   "metadata": {},
   "outputs": [],
   "source": [
    "def evaluate_classifier_metrics(classifier, X_train, y_train, X_test, y_test):\n",
    "    categ = ohe_df.select_dtypes(include=[\"object\", \"category\"])\n",
    "    num = ohe_df.select_dtypes(exclude=[\"object\", \"category\"])\n",
    "\n",
    "    preprocessor = make_column_transformer(\n",
    "        (OneHotEncoder(), categ),\n",
    "        (StandardScaler(), num)\n",
    "    )\n",
    "\n",
    "    pipeline = Pipeline([\n",
    "        ('preprocessor', preprocessor),\n",
    "        ('classifier', classifier)\n",
    "    ])\n",
    "\n",
    "    pipeline.fit(X_train, y_train)\n",
    "\n",
    "    test_predictions = pipeline.predict(X_test)\n",
    "    train_predictions = pipeline.predict(X_train)\n",
    "\n",
    "    accuracy_test = accuracy_score(y_test, test_predictions)\n",
    "    roc_auc_test = roc_auc_score(y_test, test_predictions)\n",
    "    kappa_test = cohen_kappa_score(y_test, test_predictions)\n",
    "    f1_test = f1_score(y_test, test_predictions)\n",
    "\n",
    "    accuracy_train = accuracy_score(y_train, train_predictions)\n",
    "    roc_auc_train = roc_auc_score(y_train, train_predictions)\n",
    "    kappa_train = cohen_kappa_score(y_train, train_predictions)\n",
    "    f1_train = f1_score(y_train, train_predictions)\n",
    "\n",
    "    return {\n",
    "        'Test Accuracy': accuracy_test,\n",
    "        'Test ROC AUC': roc_auc_test,\n",
    "        'Test Kappa': kappa_test,\n",
    "        'Test F1 Score': f1_test,\n",
    "        'Train Accuracy': accuracy_train,\n",
    "        'Train ROC AUC': roc_auc_train,\n",
    "        'Train Kappa': kappa_train,\n",
    "        'Train F1 Score': f1_train\n",
    "    }"
   ]
  },
  {
   "cell_type": "markdown",
   "id": "b56dd6e4",
   "metadata": {},
   "source": [
    "KNN Classifier "
   ]
  },
  {
   "cell_type": "code",
   "execution_count": 16,
   "id": "6b9ec8d4",
   "metadata": {},
   "outputs": [
    {
     "ename": "ValueError",
     "evalue": "No valid specification of the columns. Only a scalar, list or slice of all integers or all strings, or boolean mask is allowed",
     "output_type": "error",
     "traceback": [
      "\u001B[0;31m---------------------------------------------------------------------------\u001B[0m",
      "\u001B[0;31mValueError\u001B[0m                                Traceback (most recent call last)",
      "\u001B[1;32m/Users/selinkuruca/Documents/GitHub/PEM-Group-Project/Group-Project.ipynb Cell 26\u001B[0m line \u001B[0;36m1\n\u001B[1;32m     <a href='vscode-notebook-cell:/Users/selinkuruca/Documents/GitHub/PEM-Group-Project/Group-Project.ipynb#X36sZmlsZQ%3D%3D?line=10'>11</a>\u001B[0m knn_classifier \u001B[39m=\u001B[39m KNeighborsClassifier(n_neighbors\u001B[39m=\u001B[39m\u001B[39m4\u001B[39m)\n\u001B[1;32m     <a href='vscode-notebook-cell:/Users/selinkuruca/Documents/GitHub/PEM-Group-Project/Group-Project.ipynb#X36sZmlsZQ%3D%3D?line=11'>12</a>\u001B[0m X_train,X_test,y_train,y_test \u001B[39m=\u001B[39m train_test_split(X,y,test_size\u001B[39m=\u001B[39m\u001B[39m0.2\u001B[39m, random_state\u001B[39m=\u001B[39m\u001B[39m42\u001B[39m)\n\u001B[0;32m---> <a href='vscode-notebook-cell:/Users/selinkuruca/Documents/GitHub/PEM-Group-Project/Group-Project.ipynb#X36sZmlsZQ%3D%3D?line=12'>13</a>\u001B[0m knn_metrics \u001B[39m=\u001B[39m evaluate_classifier_metrics(knn_classifier, X_train, y_train, X_test, y_test)\n\u001B[1;32m     <a href='vscode-notebook-cell:/Users/selinkuruca/Documents/GitHub/PEM-Group-Project/Group-Project.ipynb#X36sZmlsZQ%3D%3D?line=13'>14</a>\u001B[0m \u001B[39mprint\u001B[39m(\u001B[39m\"\u001B[39m\u001B[39mKNN Metrics:\u001B[39m\u001B[39m\"\u001B[39m)\n\u001B[1;32m     <a href='vscode-notebook-cell:/Users/selinkuruca/Documents/GitHub/PEM-Group-Project/Group-Project.ipynb#X36sZmlsZQ%3D%3D?line=14'>15</a>\u001B[0m \u001B[39mfor\u001B[39;00m metric, value \u001B[39min\u001B[39;00m knn_metrics\u001B[39m.\u001B[39mitems(): \n",
      "\u001B[1;32m/Users/selinkuruca/Documents/GitHub/PEM-Group-Project/Group-Project.ipynb Cell 26\u001B[0m line \u001B[0;36m1\n\u001B[1;32m      <a href='vscode-notebook-cell:/Users/selinkuruca/Documents/GitHub/PEM-Group-Project/Group-Project.ipynb#X36sZmlsZQ%3D%3D?line=4'>5</a>\u001B[0m preprocessor \u001B[39m=\u001B[39m make_column_transformer(\n\u001B[1;32m      <a href='vscode-notebook-cell:/Users/selinkuruca/Documents/GitHub/PEM-Group-Project/Group-Project.ipynb#X36sZmlsZQ%3D%3D?line=5'>6</a>\u001B[0m     (OneHotEncoder(), categ),\n\u001B[1;32m      <a href='vscode-notebook-cell:/Users/selinkuruca/Documents/GitHub/PEM-Group-Project/Group-Project.ipynb#X36sZmlsZQ%3D%3D?line=6'>7</a>\u001B[0m     (StandardScaler(), num)\n\u001B[1;32m      <a href='vscode-notebook-cell:/Users/selinkuruca/Documents/GitHub/PEM-Group-Project/Group-Project.ipynb#X36sZmlsZQ%3D%3D?line=7'>8</a>\u001B[0m )\n\u001B[1;32m     <a href='vscode-notebook-cell:/Users/selinkuruca/Documents/GitHub/PEM-Group-Project/Group-Project.ipynb#X36sZmlsZQ%3D%3D?line=9'>10</a>\u001B[0m pipeline \u001B[39m=\u001B[39m Pipeline([\n\u001B[1;32m     <a href='vscode-notebook-cell:/Users/selinkuruca/Documents/GitHub/PEM-Group-Project/Group-Project.ipynb#X36sZmlsZQ%3D%3D?line=10'>11</a>\u001B[0m     (\u001B[39m'\u001B[39m\u001B[39mpreprocessor\u001B[39m\u001B[39m'\u001B[39m, preprocessor),\n\u001B[1;32m     <a href='vscode-notebook-cell:/Users/selinkuruca/Documents/GitHub/PEM-Group-Project/Group-Project.ipynb#X36sZmlsZQ%3D%3D?line=11'>12</a>\u001B[0m     (\u001B[39m'\u001B[39m\u001B[39mclassifier\u001B[39m\u001B[39m'\u001B[39m, classifier)\n\u001B[1;32m     <a href='vscode-notebook-cell:/Users/selinkuruca/Documents/GitHub/PEM-Group-Project/Group-Project.ipynb#X36sZmlsZQ%3D%3D?line=12'>13</a>\u001B[0m ])\n\u001B[0;32m---> <a href='vscode-notebook-cell:/Users/selinkuruca/Documents/GitHub/PEM-Group-Project/Group-Project.ipynb#X36sZmlsZQ%3D%3D?line=14'>15</a>\u001B[0m pipeline\u001B[39m.\u001B[39mfit(X_train, y_train)\n\u001B[1;32m     <a href='vscode-notebook-cell:/Users/selinkuruca/Documents/GitHub/PEM-Group-Project/Group-Project.ipynb#X36sZmlsZQ%3D%3D?line=16'>17</a>\u001B[0m test_predictions \u001B[39m=\u001B[39m pipeline\u001B[39m.\u001B[39mpredict(X_test)\n\u001B[1;32m     <a href='vscode-notebook-cell:/Users/selinkuruca/Documents/GitHub/PEM-Group-Project/Group-Project.ipynb#X36sZmlsZQ%3D%3D?line=17'>18</a>\u001B[0m train_predictions \u001B[39m=\u001B[39m pipeline\u001B[39m.\u001B[39mpredict(X_train)\n",
      "File \u001B[0;32m~/anaconda3/lib/python3.11/site-packages/sklearn/base.py:1151\u001B[0m, in \u001B[0;36m_fit_context.<locals>.decorator.<locals>.wrapper\u001B[0;34m(estimator, *args, **kwargs)\u001B[0m\n\u001B[1;32m   1144\u001B[0m     estimator\u001B[39m.\u001B[39m_validate_params()\n\u001B[1;32m   1146\u001B[0m \u001B[39mwith\u001B[39;00m config_context(\n\u001B[1;32m   1147\u001B[0m     skip_parameter_validation\u001B[39m=\u001B[39m(\n\u001B[1;32m   1148\u001B[0m         prefer_skip_nested_validation \u001B[39mor\u001B[39;00m global_skip_validation\n\u001B[1;32m   1149\u001B[0m     )\n\u001B[1;32m   1150\u001B[0m ):\n\u001B[0;32m-> 1151\u001B[0m     \u001B[39mreturn\u001B[39;00m fit_method(estimator, \u001B[39m*\u001B[39margs, \u001B[39m*\u001B[39m\u001B[39m*\u001B[39mkwargs)\n",
      "File \u001B[0;32m~/anaconda3/lib/python3.11/site-packages/sklearn/pipeline.py:416\u001B[0m, in \u001B[0;36mPipeline.fit\u001B[0;34m(self, X, y, **fit_params)\u001B[0m\n\u001B[1;32m    390\u001B[0m \u001B[39m\u001B[39m\u001B[39m\"\"\"Fit the model.\u001B[39;00m\n\u001B[1;32m    391\u001B[0m \n\u001B[1;32m    392\u001B[0m \u001B[39mFit all the transformers one after the other and transform the\u001B[39;00m\n\u001B[0;32m   (...)\u001B[0m\n\u001B[1;32m    413\u001B[0m \u001B[39m    Pipeline with fitted steps.\u001B[39;00m\n\u001B[1;32m    414\u001B[0m \u001B[39m\"\"\"\u001B[39;00m\n\u001B[1;32m    415\u001B[0m fit_params_steps \u001B[39m=\u001B[39m \u001B[39mself\u001B[39m\u001B[39m.\u001B[39m_check_fit_params(\u001B[39m*\u001B[39m\u001B[39m*\u001B[39mfit_params)\n\u001B[0;32m--> 416\u001B[0m Xt \u001B[39m=\u001B[39m \u001B[39mself\u001B[39m\u001B[39m.\u001B[39m_fit(X, y, \u001B[39m*\u001B[39m\u001B[39m*\u001B[39mfit_params_steps)\n\u001B[1;32m    417\u001B[0m \u001B[39mwith\u001B[39;00m _print_elapsed_time(\u001B[39m\"\u001B[39m\u001B[39mPipeline\u001B[39m\u001B[39m\"\u001B[39m, \u001B[39mself\u001B[39m\u001B[39m.\u001B[39m_log_message(\u001B[39mlen\u001B[39m(\u001B[39mself\u001B[39m\u001B[39m.\u001B[39msteps) \u001B[39m-\u001B[39m \u001B[39m1\u001B[39m)):\n\u001B[1;32m    418\u001B[0m     \u001B[39mif\u001B[39;00m \u001B[39mself\u001B[39m\u001B[39m.\u001B[39m_final_estimator \u001B[39m!=\u001B[39m \u001B[39m\"\u001B[39m\u001B[39mpassthrough\u001B[39m\u001B[39m\"\u001B[39m:\n",
      "File \u001B[0;32m~/anaconda3/lib/python3.11/site-packages/sklearn/pipeline.py:370\u001B[0m, in \u001B[0;36mPipeline._fit\u001B[0;34m(self, X, y, **fit_params_steps)\u001B[0m\n\u001B[1;32m    368\u001B[0m     cloned_transformer \u001B[39m=\u001B[39m clone(transformer)\n\u001B[1;32m    369\u001B[0m \u001B[39m# Fit or load from cache the current transformer\u001B[39;00m\n\u001B[0;32m--> 370\u001B[0m X, fitted_transformer \u001B[39m=\u001B[39m fit_transform_one_cached(\n\u001B[1;32m    371\u001B[0m     cloned_transformer,\n\u001B[1;32m    372\u001B[0m     X,\n\u001B[1;32m    373\u001B[0m     y,\n\u001B[1;32m    374\u001B[0m     \u001B[39mNone\u001B[39;00m,\n\u001B[1;32m    375\u001B[0m     message_clsname\u001B[39m=\u001B[39m\u001B[39m\"\u001B[39m\u001B[39mPipeline\u001B[39m\u001B[39m\"\u001B[39m,\n\u001B[1;32m    376\u001B[0m     message\u001B[39m=\u001B[39m\u001B[39mself\u001B[39m\u001B[39m.\u001B[39m_log_message(step_idx),\n\u001B[1;32m    377\u001B[0m     \u001B[39m*\u001B[39m\u001B[39m*\u001B[39mfit_params_steps[name],\n\u001B[1;32m    378\u001B[0m )\n\u001B[1;32m    379\u001B[0m \u001B[39m# Replace the transformer of the step with the fitted\u001B[39;00m\n\u001B[1;32m    380\u001B[0m \u001B[39m# transformer. This is necessary when loading the transformer\u001B[39;00m\n\u001B[1;32m    381\u001B[0m \u001B[39m# from the cache.\u001B[39;00m\n\u001B[1;32m    382\u001B[0m \u001B[39mself\u001B[39m\u001B[39m.\u001B[39msteps[step_idx] \u001B[39m=\u001B[39m (name, fitted_transformer)\n",
      "File \u001B[0;32m~/anaconda3/lib/python3.11/site-packages/joblib/memory.py:349\u001B[0m, in \u001B[0;36mNotMemorizedFunc.__call__\u001B[0;34m(self, *args, **kwargs)\u001B[0m\n\u001B[1;32m    348\u001B[0m \u001B[39mdef\u001B[39;00m \u001B[39m__call__\u001B[39m(\u001B[39mself\u001B[39m, \u001B[39m*\u001B[39margs, \u001B[39m*\u001B[39m\u001B[39m*\u001B[39mkwargs):\n\u001B[0;32m--> 349\u001B[0m     \u001B[39mreturn\u001B[39;00m \u001B[39mself\u001B[39m\u001B[39m.\u001B[39mfunc(\u001B[39m*\u001B[39margs, \u001B[39m*\u001B[39m\u001B[39m*\u001B[39mkwargs)\n",
      "File \u001B[0;32m~/anaconda3/lib/python3.11/site-packages/sklearn/pipeline.py:950\u001B[0m, in \u001B[0;36m_fit_transform_one\u001B[0;34m(transformer, X, y, weight, message_clsname, message, **fit_params)\u001B[0m\n\u001B[1;32m    948\u001B[0m \u001B[39mwith\u001B[39;00m _print_elapsed_time(message_clsname, message):\n\u001B[1;32m    949\u001B[0m     \u001B[39mif\u001B[39;00m \u001B[39mhasattr\u001B[39m(transformer, \u001B[39m\"\u001B[39m\u001B[39mfit_transform\u001B[39m\u001B[39m\"\u001B[39m):\n\u001B[0;32m--> 950\u001B[0m         res \u001B[39m=\u001B[39m transformer\u001B[39m.\u001B[39mfit_transform(X, y, \u001B[39m*\u001B[39m\u001B[39m*\u001B[39mfit_params)\n\u001B[1;32m    951\u001B[0m     \u001B[39melse\u001B[39;00m:\n\u001B[1;32m    952\u001B[0m         res \u001B[39m=\u001B[39m transformer\u001B[39m.\u001B[39mfit(X, y, \u001B[39m*\u001B[39m\u001B[39m*\u001B[39mfit_params)\u001B[39m.\u001B[39mtransform(X)\n",
      "File \u001B[0;32m~/anaconda3/lib/python3.11/site-packages/sklearn/utils/_set_output.py:140\u001B[0m, in \u001B[0;36m_wrap_method_output.<locals>.wrapped\u001B[0;34m(self, X, *args, **kwargs)\u001B[0m\n\u001B[1;32m    138\u001B[0m \u001B[39m@wraps\u001B[39m(f)\n\u001B[1;32m    139\u001B[0m \u001B[39mdef\u001B[39;00m \u001B[39mwrapped\u001B[39m(\u001B[39mself\u001B[39m, X, \u001B[39m*\u001B[39margs, \u001B[39m*\u001B[39m\u001B[39m*\u001B[39mkwargs):\n\u001B[0;32m--> 140\u001B[0m     data_to_wrap \u001B[39m=\u001B[39m f(\u001B[39mself\u001B[39m, X, \u001B[39m*\u001B[39margs, \u001B[39m*\u001B[39m\u001B[39m*\u001B[39mkwargs)\n\u001B[1;32m    141\u001B[0m     \u001B[39mif\u001B[39;00m \u001B[39misinstance\u001B[39m(data_to_wrap, \u001B[39mtuple\u001B[39m):\n\u001B[1;32m    142\u001B[0m         \u001B[39m# only wrap the first output for cross decomposition\u001B[39;00m\n\u001B[1;32m    143\u001B[0m         return_tuple \u001B[39m=\u001B[39m (\n\u001B[1;32m    144\u001B[0m             _wrap_data_with_container(method, data_to_wrap[\u001B[39m0\u001B[39m], X, \u001B[39mself\u001B[39m),\n\u001B[1;32m    145\u001B[0m             \u001B[39m*\u001B[39mdata_to_wrap[\u001B[39m1\u001B[39m:],\n\u001B[1;32m    146\u001B[0m         )\n",
      "File \u001B[0;32m~/anaconda3/lib/python3.11/site-packages/sklearn/base.py:1151\u001B[0m, in \u001B[0;36m_fit_context.<locals>.decorator.<locals>.wrapper\u001B[0;34m(estimator, *args, **kwargs)\u001B[0m\n\u001B[1;32m   1144\u001B[0m     estimator\u001B[39m.\u001B[39m_validate_params()\n\u001B[1;32m   1146\u001B[0m \u001B[39mwith\u001B[39;00m config_context(\n\u001B[1;32m   1147\u001B[0m     skip_parameter_validation\u001B[39m=\u001B[39m(\n\u001B[1;32m   1148\u001B[0m         prefer_skip_nested_validation \u001B[39mor\u001B[39;00m global_skip_validation\n\u001B[1;32m   1149\u001B[0m     )\n\u001B[1;32m   1150\u001B[0m ):\n\u001B[0;32m-> 1151\u001B[0m     \u001B[39mreturn\u001B[39;00m fit_method(estimator, \u001B[39m*\u001B[39margs, \u001B[39m*\u001B[39m\u001B[39m*\u001B[39mkwargs)\n",
      "File \u001B[0;32m~/anaconda3/lib/python3.11/site-packages/sklearn/compose/_column_transformer.py:740\u001B[0m, in \u001B[0;36mColumnTransformer.fit_transform\u001B[0;34m(self, X, y)\u001B[0m\n\u001B[1;32m    738\u001B[0m \u001B[39mself\u001B[39m\u001B[39m.\u001B[39m_check_n_features(X, reset\u001B[39m=\u001B[39m\u001B[39mTrue\u001B[39;00m)\n\u001B[1;32m    739\u001B[0m \u001B[39mself\u001B[39m\u001B[39m.\u001B[39m_validate_transformers()\n\u001B[0;32m--> 740\u001B[0m \u001B[39mself\u001B[39m\u001B[39m.\u001B[39m_validate_column_callables(X)\n\u001B[1;32m    741\u001B[0m \u001B[39mself\u001B[39m\u001B[39m.\u001B[39m_validate_remainder(X)\n\u001B[1;32m    743\u001B[0m result \u001B[39m=\u001B[39m \u001B[39mself\u001B[39m\u001B[39m.\u001B[39m_fit_transform(X, y, _fit_transform_one)\n",
      "File \u001B[0;32m~/anaconda3/lib/python3.11/site-packages/sklearn/compose/_column_transformer.py:448\u001B[0m, in \u001B[0;36mColumnTransformer._validate_column_callables\u001B[0;34m(self, X)\u001B[0m\n\u001B[1;32m    446\u001B[0m         columns \u001B[39m=\u001B[39m columns(X)\n\u001B[1;32m    447\u001B[0m     all_columns\u001B[39m.\u001B[39mappend(columns)\n\u001B[0;32m--> 448\u001B[0m     transformer_to_input_indices[name] \u001B[39m=\u001B[39m _get_column_indices(X, columns)\n\u001B[1;32m    450\u001B[0m \u001B[39mself\u001B[39m\u001B[39m.\u001B[39m_columns \u001B[39m=\u001B[39m all_columns\n\u001B[1;32m    451\u001B[0m \u001B[39mself\u001B[39m\u001B[39m.\u001B[39m_transformer_to_input_indices \u001B[39m=\u001B[39m transformer_to_input_indices\n",
      "File \u001B[0;32m~/anaconda3/lib/python3.11/site-packages/sklearn/utils/__init__.py:405\u001B[0m, in \u001B[0;36m_get_column_indices\u001B[0;34m(X, key)\u001B[0m\n\u001B[1;32m    398\u001B[0m \u001B[39m\u001B[39m\u001B[39m\"\"\"Get feature column indices for input data X and key.\u001B[39;00m\n\u001B[1;32m    399\u001B[0m \n\u001B[1;32m    400\u001B[0m \u001B[39mFor accepted values of `key`, see the docstring of\u001B[39;00m\n\u001B[1;32m    401\u001B[0m \u001B[39m:func:`_safe_indexing_column`.\u001B[39;00m\n\u001B[1;32m    402\u001B[0m \u001B[39m\"\"\"\u001B[39;00m\n\u001B[1;32m    403\u001B[0m n_columns \u001B[39m=\u001B[39m X\u001B[39m.\u001B[39mshape[\u001B[39m1\u001B[39m]\n\u001B[0;32m--> 405\u001B[0m key_dtype \u001B[39m=\u001B[39m _determine_key_type(key)\n\u001B[1;32m    407\u001B[0m \u001B[39mif\u001B[39;00m \u001B[39misinstance\u001B[39m(key, (\u001B[39mlist\u001B[39m, \u001B[39mtuple\u001B[39m)) \u001B[39mand\u001B[39;00m \u001B[39mnot\u001B[39;00m key:\n\u001B[1;32m    408\u001B[0m     \u001B[39m# we get an empty list\u001B[39;00m\n\u001B[1;32m    409\u001B[0m     \u001B[39mreturn\u001B[39;00m []\n",
      "File \u001B[0;32m~/anaconda3/lib/python3.11/site-packages/sklearn/utils/__init__.py:281\u001B[0m, in \u001B[0;36m_determine_key_type\u001B[0;34m(key, accept_slice)\u001B[0m\n\u001B[1;32m    279\u001B[0m     \u001B[39mexcept\u001B[39;00m \u001B[39mKeyError\u001B[39;00m:\n\u001B[1;32m    280\u001B[0m         \u001B[39mraise\u001B[39;00m \u001B[39mValueError\u001B[39;00m(err_msg)\n\u001B[0;32m--> 281\u001B[0m \u001B[39mraise\u001B[39;00m \u001B[39mValueError\u001B[39;00m(err_msg)\n",
      "\u001B[0;31mValueError\u001B[0m: No valid specification of the columns. Only a scalar, list or slice of all integers or all strings, or boolean mask is allowed"
     ]
    }
   ],
   "source": [
    "from sklearn.neighbors import KNeighborsClassifier\n",
    "from sklearn.linear_model import LogisticRegression\n",
    "from sklearn.svm import SVC\n",
    "from sklearn.pipeline import Pipeline\n",
    "\n",
    "X = ohe_df.drop('SMK_stat_type_cd',axis=1)\n",
    "y = ohe_df['SMK_stat_type_cd'] \n",
    "\n",
    "\n",
    "knn_classifier = KNeighborsClassifier(n_neighbors=4)\n",
    "X_train,X_test,y_train,y_test = train_test_split(X,y,test_size=0.2, random_state=42)\n",
    "knn_metrics = evaluate_classifier_metrics(knn_classifier, X_train, y_train, X_test, y_test)\n",
    "print(\"KNN Metrics:\")\n",
    "for metric, value in knn_metrics.items(): \n",
    "    print(f\"{metric}: {value}\")"
   ]
  },
  {
   "cell_type": "markdown",
   "id": "a6e22084",
   "metadata": {},
   "source": [
    "Logistic Regression"
   ]
  },
  {
   "cell_type": "code",
   "execution_count": null,
   "id": "f97d6de7",
   "metadata": {},
   "outputs": [],
   "source": [
    "logistic_classifier = LogisticRegression()\n",
    "logistic_metrics = evaluate_classifier_metrics(logistic_classifier, X_train, y_train, X_test, y_test)\n",
    "print(\"Logistic Regression Metrics:\")\n",
    "for metric, value in logistic_metrics.items(): \n",
    "    print(f\"{metric}: {value}\")"
   ]
  }
 ],
 "metadata": {
  "kernelspec": {
   "display_name": "Python 3",
   "language": "python",
   "name": "python3"
  },
  "language_info": {
   "codemirror_mode": {
    "name": "ipython",
    "version": 3
   },
   "file_extension": ".py",
   "mimetype": "text/x-python",
   "name": "python",
   "nbconvert_exporter": "python",
   "pygments_lexer": "ipython3",
   "version": "3.11.5"
  }
 },
 "nbformat": 4,
 "nbformat_minor": 5
}
